{
 "cells": [
  {
   "cell_type": "markdown",
   "metadata": {
    "slideshow": {
     "slide_type": "slide"
    }
   },
   "source": [
    "Sveučilište u Zagrebu<br>\n",
    "Fakultet elektrotehnike i računarstva\n",
    "\n",
    "# Strojno učenje\n",
    "\n",
    "<a href=\"http://www.fer.unizg.hr/predmet/su\">http://www.fer.unizg.hr/predmet/su</a>\n",
    "\n",
    "Ak. god. 2015./2016.\n",
    "\n",
    "# Bilježnica 3: Osnove vjerojatnosti i statistike\n",
    "\n",
    "(c) 2015 Jan Šnajder\n",
    "\n",
    "<i>Verzija: 0.8 (2015-11-01)</i>"
   ]
  },
  {
   "cell_type": "code",
   "execution_count": 3,
   "metadata": {
    "collapsed": false
   },
   "outputs": [
    {
     "name": "stdout",
     "output_type": "stream",
     "text": [
      "Populating the interactive namespace from numpy and matplotlib\n"
     ]
    }
   ],
   "source": [
    "import scipy as sp\n",
    "import scipy.stats as stats\n",
    "import matplotlib.pyplot as plt\n",
    "from numpy.random import normal\n",
    "%pylab inline"
   ]
  },
  {
   "cell_type": "markdown",
   "metadata": {},
   "source": [
    "### Sadržaj:\n",
    "\n",
    "* Vjerojatnost\n",
    "\n",
    "* Očekivanje, varijanca i kovarijanca\n",
    "\n",
    "* Statistička nezavisnost\n",
    "\n",
    "* Matrica kovarijacije\n",
    "\n",
    "* Teorijske razdiobe\n",
    "\n",
    "* Procjena parametara\n",
    "\n",
    "* Procjenitelj MLE\n",
    "\n",
    "* Procjenitelj MAP\n"
   ]
  },
  {
   "cell_type": "markdown",
   "metadata": {},
   "source": [
    "# Vjerojatnost\n",
    "\n",
    "* $X$ je slučajna varijabla, $\\{x_i\\}$ su njezine vrijednosti\n",
    "\n",
    "\n",
    "* Pojednostavljenje notacije: $$P(X=x) \\equiv P(x)$$\n",
    "\n",
    "\n",
    "* $P(x_i)\\geq 0$, $\\sum_i P(x_i)=1$\n",
    "\n",
    "\n",
    "* Distribucija (razdioba) vjerojatnosti\n",
    "\n",
    "\n",
    "* Zajednička (engl. *joint*) distribucija nad $\\{X,Y\\}$: $$P(X=x,Y=y)\\equiv P(x,y)$$\n",
    "        \n",
    "        \n",
    "* Kontinuirana slučajna varijabla: **funkcija gustoće vjerojatnosti (PDF)**:\n",
    "\n",
    "\\begin{eqnarray*}\n",
    "p(x) & \\geq 0\\\\\n",
    "\\int_{-\\infty}^{\\infty} p(x)\\,\\textrm{d}x &= 1\\\\\n",
    "P(a\\leq X\\leq b) &= \\int_a^b p(x)\\,\\mathrm{d}x\n",
    "\\end{eqnarray*}\n",
    "\n",
    "### Dva pravila teorije vjerojatnosti\n",
    "\n",
    "* **(1) Pravilo zbroja**\n",
    "$$P(x)=\\sum_y P(x,y)$$\n",
    "(Marginalna vjerojatnost varijable $X$)\n",
    "\n",
    "\n",
    "* Uvjetna vjerojatnost:\n",
    "$$\n",
    "    P(y|x) = \\frac{P(x,y)}{P(x)} \n",
    "$$\n",
    "\n",
    "\n",
    "* **(2) Pravilo umnoška**\n",
    "$$P(x,y) = P(y|x) P(x) = P(x|y) P(y)$$\n",
    "\n",
    "### Izvedena pravila\n",
    "\n",
    "* **Bayesovo pravilo**\n",
    "$$\n",
    "P(y|x) = \\frac{P(x|y)P(y)}{P(x)}\n",
    "= \\frac{P(x|y)P(y)}{\\sum_y P(x,y)}\n",
    "= \\frac{P(x|y)P(y)}{\\sum_y P(x|y)P(y)}\n",
    "$$\n",
    "\n",
    "\n",
    "* **Pravilo lanca (engl. *chain rule*)**\n",
    "$$P(x,y,z) = P(x) P(y|x) P(z|x,y)$$\n",
    "\n",
    "* Općenito:\n",
    "$$\n",
    "\\begin{align*}\n",
    "P(x_1,\\dots,x_n) &=\n",
    "P(x_1)P(x_2|x_1)P(x_3|x_1,x_2)\\cdots P(x_n|x_1,\\dots,x_{n-1})\\\\\n",
    "&= \\prod_{k=1}^n P(x_k|x_1,\\dots,x_{k-1})\n",
    "\\end{align*}\n",
    "$$"
   ]
  },
  {
   "cell_type": "markdown",
   "metadata": {},
   "source": [
    "# Očekivanje, varijanca i kovarijanca \n",
    "\n",
    "* Očekivanje slučajne varijable:\n",
    "\n",
    "\\begin{equation*}\n",
    "\\mathbb{E}[X]=\\sum_x x P(x)\n",
    "\\end{equation*}\n",
    "\n",
    "$$\n",
    "\\mathbb{E}[X]=\\int_{-\\infty}^{\\infty} x\\,p(x)\\,\\mathrm{d}x\n",
    "$$\n",
    "\n",
    "* Očekivanje funkcije slučajne varijable:\n",
    "\n",
    "\\begin{equation*}\n",
    "\\mathbb{E}[f]=\\sum_x f(x) P(x)\n",
    "\\end{equation*}\n",
    "\n",
    "* Vrijedi:\n",
    "\n",
    "\\begin{align*}\n",
    "\\mathbb{E}[aX+b] &= a\\mathbb{E}[X]+b\\qquad (a,b\\in\\mathbb{R})\\\\\n",
    "\\mathbb{E}[X+Y] &= \\mathbb{E}[X] + \\mathbb{E}[Y]\n",
    "\\end{align*}\n",
    "\n",
    "* Varijanca slučajne varijable:\n",
    "\n",
    "\\begin{equation*}\n",
    "\\mathrm{Var}(X) = \\sigma_X^2 = \\mathbb{E}[(X-\\mathbb{E}[X])^2] = \\mathbb{E}[X^2] - \\mathbb{E}[X]^2\n",
    "\\end{equation*}\n",
    "\n",
    "\\begin{equation*}\n",
    "\\mathrm{Var}(a X) = \\mathbb{E}\\big[(a X)^2\\big] - \\mathbb{E}[a X]^2 = a^2\\mathbb{E}[X^2] - a^2\\mathbb{E}[X]^2 =\n",
    "a^2\\mathrm{Var}(X)\n",
    "\\end{equation*}\n",
    "\n",
    "* Kovarijanca slučajnih varijabli:\n",
    "\n",
    "\\begin{align*}\n",
    "    \\mathrm{Cov}(X,Y) &= \\sigma_{X,Y} = \\mathbb{E}\\big[(X-\\mathbb{E}[X])(Y-\\mathbb{E}[Y])\\big] =\n",
    "    \\mathbb{E}[XY] - \\mathbb{E}[X]\\mathbb{E}[Y]\\\\\n",
    "   \\mathrm{Cov}(X,Y) &=\\mathrm{Cov}(Y, X)\\\\\n",
    "   \\mathrm{Cov}(X,X) &=\\mathrm{Var}(X) =\\sigma^2_X\\\\\n",
    "\\end{align*}\n",
    "\n",
    "* Pearsonov koeficijent korelacije (linearna zavisnost):\n",
    "$$\n",
    "\\rho_{X,Y} = \\frac{\\mathrm{Cov}(X,Y)}{\\sigma_X\\sigma_Y}\n",
    "$$\n",
    "$\\rho_{X,Y}\\in[-1,+1]$\n",
    "\n"
   ]
  },
  {
   "cell_type": "code",
   "execution_count": 2,
   "metadata": {
    "collapsed": false
   },
   "outputs": [],
   "source": [
    "from scipy import stats\n",
    "\n",
    "X = sp.random.random(100)\n",
    "Y0 = sp.random.random(100)\n",
    "noise = stats.norm.rvs(size=100)\n",
    "Y1 = X + 0.2 * noise\n",
    "Y2 = 3 * Y1\n",
    "Y3 = -Y1\n",
    "Y4 = 1 - (X - 0.5)**2 + 0.05 * noise"
   ]
  },
  {
   "cell_type": "code",
   "execution_count": 3,
   "metadata": {
    "collapsed": false
   },
   "outputs": [
    {
     "name": "stderr",
     "output_type": "stream",
     "text": [
      "/usr/local/lib/python2.7/dist-packages/matplotlib/collections.py:590: FutureWarning: elementwise comparison failed; returning scalar instead, but in the future will perform elementwise comparison\n",
      "  if self._edgecolors == str('face'):\n"
     ]
    },
    {
     "data": {
      "image/png": "iVBORw0KGgoAAAANSUhEUgAAAX4AAAEACAYAAAC08h1NAAAABHNCSVQICAgIfAhkiAAAAAlwSFlz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\n",
      "text/plain": [
       "<matplotlib.figure.Figure at 0x7f1b28955650>"
      ]
     },
     "metadata": {},
     "output_type": "display_data"
    },
    {
     "data": {
      "image/png": "iVBORw0KGgoAAAANSUhEUgAAAX4AAAEACAYAAAC08h1NAAAABHNCSVQICAgIfAhkiAAAAAlwSFlz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\nF5N+/WTEkvijuijx1xd96KJTKPHX8n1O4t+0UExJ2BcgCZT4pW