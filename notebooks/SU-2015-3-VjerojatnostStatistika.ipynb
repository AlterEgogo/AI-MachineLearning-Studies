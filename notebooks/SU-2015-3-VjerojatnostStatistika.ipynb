{
 "cells": [
  {
   "cell_type": "markdown",
   "metadata": {
    "slideshow": {
     "slide_type": "slide"
    }
   },
   "source": [
    "Sveučilište u Zagrebu<br>\n",
    "Fakultet elektrotehnike i računarstva\n",
    "\n",
    "# Strojno učenje\n",
    "\n",
    "<a href=\"http://www.fer.unizg.hr/predmet/su\">http://www.fer.unizg.hr/predmet/su</a>\n",
    "\n",
    "Ak. god. 2015./2016.\n",
    "\n",
    "# Bilježnica 3: Osnove vjerojatnosti i statistike\n",
    "\n",
    "(c) 2015 Jan Šnajder\n",
    "\n",
    "<i>Verzija: 0.8 (2015-11-01)</i>"
   ]
  },
  {
   "cell_type": "code",
   "execution_count": 3,
   "metadata": {
    "collapsed": false
   },
   "outputs": [
    {
     "name": "stdout",
     "output_type": "stream",
     "text": [
      "Populating the interactive namespace from numpy and matplotlib\n"
     ]
    }
   ],
   "source": [
    "import scipy as sp\n",
    "import scipy.stats as stats\n",
    "import matplotlib.pyplot as plt\n",
    "from numpy.random import normal\n",
    "%pylab inline"
   ]
  },
  {
   "cell_type": "markdown",
   "metadata": {},
   "source": [
    "### Sadržaj:\n",
    "\n",
    "* Vjerojatnost\n",
    "\n",
    "* Očekivanje, varijanca i kovarijanca\n",
    "\n",
    "* Statistička nezavisnost\n",
    "\n",
    "* Matrica kovarijacije\n",
    "\n",
    "* Teorijske razdiobe\n",
    "\n",
    "* Procjena parametara\n",
    "\n",
    "* Procjenitelj MLE\n",
    "\n",
    "* Procjenitelj MAP\n"
   ]
  },
  {
   "cell_type": "markdown",
   "metadata": {},
   "source": [
    "# Vjerojatnost\n",
    "\n",
    "* $X$ je slučajna varijabla, $\\{x_i\\}$ su njezine vrijednosti\n",
    "\n",
    "\n",
    "* Pojednostavljenje notacije: $$P(X=x) \\equiv P(x)$$\n",
    "\n",
    "\n",
    "* $P(x_i)\\geq 0$, $\\sum_i P(x_i)=1$\n",
    "\n",
    "\n",
    "* Distribucija (razdioba) vjerojatnosti\n",
    "\n",
    "\n",
    "* Zajednička (engl. *joint*) distribucija nad $\\{X,Y\\}$: $$P(X=x,Y=y)\\equiv P(x,y)$$\n",
    "        \n",
    "        \n",
    "* Kontinuirana slučajna varijabla: **funkcija gustoće vjerojatnosti (PDF)**:\n",
    "\n",
    "\\begin{eqnarray*}\n",
    "p(x) & \\geq 0\\\\\n",
    "\\int_{-\\infty}^{\\infty} p(x)\\,\\textrm{d}x &= 1\\\\\n",
    "P(a\\leq X\\leq b) &= \\int_a^b p(x)\\,\\mathrm{d}x\n",
    "\\end{eqnarray*}\n",
    "\n",
    "### Dva pravila teorije vjerojatnosti\n",
    "\n",
    "* **(1) Pravilo zbroja**\n",
    "$$P(x)=\\sum_y P(x,y)$$\n",
    "(Marginalna vjerojatnost varijable $X$)\n",
    "\n",
    "\n",
    "* Uvjetna vjerojatnost:\n",
    "$$\n",
    "    P(y|x) = \\frac{P(x,y)}{P(x)} \n",
    "$$\n",
    "\n",
    "\n",
    "* **(2) Pravilo umnoška**\n",
    "$$P(x,y) = P(y|x) P(x) = P(x|y) P(y)$$\n",
    "\n",
    "### Izvedena pravila\n",
    "\n",
    "* **Bayesovo pravilo**\n",
    "$$\n",
    "P(y|x) = \\frac{P(x|y)P(y)}{P(x)}\n",
    "= \\frac{P(x|y)P(y)}{\\sum_y P(x,y)}\n",
    "= \\frac{P(x|y)P(y)}{\\sum_y P(x|y)P(y)}\n",
    "$$\n",
    "\n",
    "\n",
    "* **Pravilo lanca (engl. *chain rule*)**\n",
    "$$P(x,y,z) = P(x) P(y|x) P(z|x,y)$$\n",
    "\n",
    "* Općenito:\n",
    "$$\n",
    "\\begin{align*}\n",
    "P(x_1,\\dots,x_n) &=\n",
    "P(x_1)P(x_2|x_1)P(x_3|x_1,x_2)\\cdots P(x_n|x_1,\\dots,x_{n-1})\\\\\n",
    "&= \\prod_{k=1}^n P(x_k|x_1,\\dots,x_{k-1})\n",
    "\\end{align*}\n",
    "$$"
   ]
  },
  {
   "cell_type": "markdown",
   "metadata": {},
   "source": [
    "# Očekivanje, varijanca i kovarijanca \n",
    "\n",
    "* Očekivanje slučajne varijable:\n",
    "\n",
    "\\begin{equation*}\n",
    "\\mathbb{E}[X]=\\sum_x x P(x)\n",
    "\\end{equation*}\n",
    "\n",
    "$$\n",
    "\\mathbb{E}[X]=\\int_{-\\infty}^{\\infty} x\\,p(x)\\,\\mathrm{d}x\n",
    "$$\n",
    "\n",
    "* Očekivanje funkcije slučajne varijable:\n",
    "\n",
    "\\begin{equation*}\n",
    "\\mathbb{E}[f]=\\sum_x f(x) P(x)\n",
    "\\end{equation*}\n",
    "\n",
    "* Vrijedi:\n",
    "\n",
    "\\begin{align*}\n",
    "\\mathbb{E}[aX+b] &= a\\mathbb{E}[X]+b\\qquad (a,b\\in\\mathbb{R})\\\\\n",
    "\\mathbb{E}[X+Y] &= \\mathbb{E}[X] + \\mathbb{E}[Y]\n",
    "\\end{align*}\n",
    "\n",
    "* Varijanca slučajne varijable:\n",
    "\n",
    "\\begin{equation*}\n",
    "\\mathrm{Var}(X) = \\sigma_X^2 = \\mathbb{E}[(X-\\mathbb{E}[X])^2] = \\mathbb{E}[X^2] - \\mathbb{E}[X]^2\n",
    "\\end{equation*}\n",
    "\n",
    "\\begin{equation*}\n",
    "\\mathrm{Var}(a X) = \\mathbb{E}\\big[(a X)^2\\big] - \\mathbb{E}[a X]^2 = a^2\\mathbb{E}[X^2] - a^2\\mathbb{E}[X]^2 =\n",
    "a^2\\mathrm{Var}(X)\n",
    "\\end{equation*}\n",
    "\n",
    "* Kovarijanca slučajnih varijabli:\n",
    "\n",
    "\\begin{align*}\n",
    "    \\mathrm{Cov}(X,Y) &= \\sigma_{X,Y} = \\mathbb{E}\\big[(X-\\mathbb{E}[X])(Y-\\mathbb{E}[Y])\\big] =\n",
    "    \\mathbb{E}[XY] - \\mathbb{E}[X]\\mathbb{E}[Y]\\\\\n",
    "   \\mathrm{Cov}(X,Y) &=\\mathrm{Cov}(Y, X)\\\\\n",
    "   \\mathrm{Cov}(X,X) &=\\mathrm{Var}(X) =\\sigma^2_X\\\\\n",
    "\\end{align*}\n",
    "\n",
    "* Pearsonov koeficijent korelacije (linearna zavisnost):\n",
    "$$\n",
    "\\rho_{X,Y} = \\frac{\\mathrm{Cov}(X,Y)}{\\sigma_X\\sigma_Y}\n",
    "$$\n",
    "$\\rho_{X,Y}\\in[-1,+1]$\n",
    "\n"
   ]
  },
  {
   "cell_type": "code",
   "execution_count": 2,
   "metadata": {
    "collapsed": false
   },
   "outputs": [],
   "source": [
    "from scipy import stats\n",
    "\n",
    "X = sp.random.random(100)\n",
    "Y0 = sp.random.random(100)\n",
    "noise = stats.norm.rvs(size=100)\n",
    "Y1 = X + 0.2 * noise\n",
    "Y2 = 3 * Y1\n",
    "Y3 = -Y1\n",
    "Y4 = 1 - (X - 0.5)**2 + 0.05 * noise"
   ]
  },
  {
   "cell_type": "code",
   "execution_count": 3,
   "metadata": {
    "collapsed": false
   },
   "outputs": [
    {
     "name": "stderr",
     "output_type": "stream",
     "text": [
      "/usr/local/lib/python2.7/dist-packages/matplotlib/collections.py:590: FutureWarning: elementwise comparison failed; returning scalar instead, but in the future will perform elementwise comparison\n",
      "  if self._edgecolors == str('face'):\n"
     ]
    },
    {
     "data": {
      "image/png": "iVBORw0KGgoAAAANSUhEUgAAAX4AAAEACAYAAAC08h1NAAAABHNCSVQICAgIfAhkiAAAAAlwSFlz\nAAALEgAACxIB0t1+/AAAIABJREFUeJzt3X+UXHWZ5/H30yFZO5iQhGYCJJBExyGYkBiiGDYsXR6m\n6YBLsgmj4IBE0QMuExmZZk2cnIEOwmiYUUDco4AK2XXHnD0ia9wN3WmVBqOI4skPCEETlCHID00k\nESGShDz7R1V3qivV3VX3VtX99XmdUydVXd/UfepW3afufe73+73m7oiISHY0RR2AiIg0lhK/iEjG\nKPGLiGSMEr+ISMYo8YuIZIwSv4hIxo