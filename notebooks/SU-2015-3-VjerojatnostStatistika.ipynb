{
 "cells": [
  {
   "cell_type": "markdown",
   "metadata": {
    "slideshow": {
     "slide_type": "slide"
    }
   },
   "source": [
    "Sveučilište u Zagrebu<br>\n",
    "Fakultet elektrotehnike i računarstva\n",
    "\n",
    "# Strojno učenje\n",
    "\n",
    "<a href=\"http://www.fer.unizg.hr/predmet/su\">http://www.fer.unizg.hr/predmet/su</a>\n",
    "\n",
    "Ak. god. 2015./2016.\n",
    "\n",
    "# Bilježnica 3: Osnove vjerojatnosti i statistike\n",
    "\n",
    "(c) 2015 Jan Šnajder\n",
    "\n",
    "<i>Verzija: 0.8 (2015-11-01)</i>"
   ]
  },
  {
   "cell_type": "code",
   "execution_count": 3,
   "metadata": {
    "collapsed": false
   },
   "outputs": [
    {
     "name": "stdout",
     "output_type": "stream",
     "text": [
      "Populating the interactive namespace from numpy and matplotlib\n"
     ]
    }
   ],
   "source": [
    "import scipy as sp\n",
    "import scipy.stats as stats\n",
    "import matplotlib.pyplot as plt\n",
    "from numpy.random import normal\n",
    "%pylab inline"
   ]
  },
  {
   "cell_type": "markdown",
   "metadata": {},
   "source": [
    "### Sadržaj:\n",
    "\n",
    "* Vjerojatnost\n",
    "\n",
    "* Očekivanje, varijanca i kovarijanca\n",
    "\n",
    "* Statistička nezavisnost\n",
    "\n",
    "* Matrica kovarijacije\n",
    "\n",
    "* Teorijske razdiobe\n",
    "\n",
    "* Procjena parametara\n",
    "\n",
    "* Procjenitelj MLE\n",
    "\n",
    "* Procjenitelj MAP\n"
   ]
  },
  {
   "cell_type": "markdown",
   "metadata": {},
   "source": [
    "# Vjerojatnost\n",
    "\n",
    "* $X$ je slučajna varijabla, $\\{x_i\\}$ su njezine vrijednosti\n",
    "\n",
    "\n",
    "* Pojednostavljenje notacije: $$P(X=x) \\equiv P(x)$$\n",
    "\n",
    "\n",
    "* $P(x_i)\\geq 0$, $\\sum_i P(x_i)=1$\n",
    "\n",
    "\n",
    "* Distribucija (razdioba) vjerojatnosti\n",
    "\n",
    "\n",
    "* Zajednička (engl. *joint*) distribucija nad $\\{X,Y\\}$: $$P(X=x,Y=y)\\equiv P(x,y)$$\n",
    "        \n",
    "        \n",
    "* Kontinuirana slučajna varijabla: **funkcija gustoće vjerojatnosti (PDF)**:\n",
    "\n",
    "\\begin{eqnarray*}\n",
    "p(x) & \\geq 0\\\\\n",
    "\\int_{-\\infty}^{\\infty} p(x)\\,\\textrm{d}x &= 1\\\\\n",
    "P(a\\leq X\\leq b) &= \\int_a^b p(x)\\,\\mathrm{d}x\n",
    "\\end{eqnarray*}\n",
    "\n",
    "### Dva pravila teorije vjerojatnosti\n",
    "\n",
    "* **(1) Pravilo zbroja**\n",
    "$$P(x)=\\sum_y P(x,y)$$\n",
    "(Marginalna vjerojatnost varijable $X$)\n",
    "\n",
    "\n",
    "* Uvjetna vjerojatnost:\n",
    "$$\n",
    "    P(y|x) = \\frac{P(x,y)}{P(x)} \n",
    "$$\n",
    "\n",
    "\n",
    "* **(2) Pravilo umnoška**\n",
    "$$P(x,y) = P(y|x) P(x) = P(x|y) P(y)$$\n",
    "\n",
    "### Izvedena pravila\n",
    "\n",
    "* **Bayesovo pravilo**\n",
    "$$\n",
    "P(y|x) = \\frac{P(x|y)P(y)}{P(x)}\n",
    "= \\frac{P(x|y)P(y)}{\\sum_y P(x,y)}\n",
    "= \\frac{P(x|y)P(y)}{\\sum_y P(x|y)P(y)}\n",
    "$$\n",
    "\n",
    "\n",
    "* **Pravilo lanca (engl. *chain rule*)**\n",
    "$$P(x,y,z) = P(x) P(y|x) P(z|x,y)$$\n",
    "\n",
    "* Općenito:\n",
    "$$\n",
    "\\begin{align*}\n",
    "P(x_1,\\dots,x_n) &=\n",
    "P(x_1)P(x_2|x_1)P(x_3|x_1,x_2)\\cdots P(x_n|x_1,\\dots,x_{n-1})\\\\\n",
    "&= \\prod_{k=1}^n P(x_k|x_1,\\dots,x_{k-1})\n",
    "\\end{align*}\n",
    "$$"
   ]
  },
  {
   "cell_type": "markdown",
   "metadata": {},
   "source": [
    "# Očekivanje, varijanca i kovarijanca \n",
    "\n",
    "* Očekivanje slučajne varijable:\n",
    "\n",
    "\\begin{equation*}\n",
    "\\mathbb{E}[X]=\\sum_x x P(x)\n",
    "\\end{equation*}\n",
    "\n",
    "$$\n",
    "\\mathbb{E}[X]=\\int_{-\\infty}^{\\infty} x\\,p(x)\\,\\mathrm{d}x\n",
    "$$\n",
    "\n",
    "* Očekivanje funkcije slučajne varijable:\n",
    "\n",
    "\\begin{equation*}\n",
    "\\mathbb{E}[f]=\\sum_x f(x) P(x)\n",
    "\\end{equation*}\n",
    "\n",
    "* Vrijedi:\n",
    "\n",
    "\\begin{align*}\n",
    "\\mathbb{E}[aX+b] &= a\\mathbb{E}[X]+b\\qquad (a,b\\in\\mathbb{R})\\\\\n",
    "\\mathbb{E}[X+Y] &= \\mathbb{E}[X] + \\mathbb{E}[Y]\n",
    "\\end{align*}\n",
    "\n",
    "* Varijanca slučajne varijable:\n",
    "\n",
    "\\begin{equation*}\n",
    "\\mathrm{Var}(X) = \\sigma_X^2 = \\mathbb{E}[(X-\\mathbb{E}[X])^2] = \\mathbb{E}[X^2] - \\mathbb{E}[X]^2\n",
    "\\end{equation*}\n",
    "\n",
    "\\begin{equation*}\n",
    "\\mathrm{Var}(a X) = \\mathbb{E}\\big[(a X)^2\\big] - \\mathbb{E}[a X]^2 = a^2\\mathbb{E}[X^2] - a^2\\mathbb{E}[X]^2 =\n",
    "a^2\\mathrm{Var}(X)\n",
    "\\end{equation*}\n",
    "\n",
    "* Kovarijanca slučajnih varijabli:\n",
    "\n",
    "\\begin{align*}\n",
    "    \\mathrm{Cov}(X,Y) &= \\sigma_{X,Y} = \\mathbb{E}\\big[(X-\\mathbb{E}[X])(Y-\\mathbb{E}[Y])\\big] =\n",
    "    \\mathbb{E}[XY] - \\mathbb{E}[X]\\mathbb{E}[Y]\\\\\n",
    "   \\mathrm{Cov}(X,Y) &=\\mathrm{Cov}(Y, X)\\\\\n",
    "   \\mathrm{Cov}(X,X) &=\\mathrm{Var}(X) =\\sigma^2_X\\\\\n",
    "\\end{align*}\n",
    "\n",
    "* Pearsonov koeficijent korelacije (linearna zavisnost):\n",
    "$$\n",
    "\\rho_{X,Y} = \\frac{\\mathrm{Cov}(X,Y)}{\\sigma_X\\sigma_Y}\n",
    "$$\n",
    "$\\rho_{X,Y}\\in[-1,+1]$\n",
    "\n"
   ]
  },
  {
   "cell_type": "code",
   "execution_count": 2,
   "metadata": {
    "collapsed": false
   },
   "outputs": [],
   "source": [
    "from scipy import stats\n",
    "\n",
    "X = sp.random.random(100)\n",
    "Y0 = sp.random.random(100)\n",
    "noise = stats.norm.rvs(size=100)\n",
    "Y1 = X + 0.2 * noise\n",
    "Y2 = 3 * Y1\n",
    "Y3 = -Y1\n",
    "Y4 = 1 - (X - 0.5)**2 + 0.05 * noise"
   ]
  },
  {
   "cell_type": "code",
   "execution_count": 3,
   "metadata": {
    "collapsed": false
   },
   "outputs": [
    {
     "name": "stderr",
     "output_type": "stream",
     "text": [
      "/usr/local/lib/python2.7/dist-packages/matplotlib/collections.py:590: FutureWarning: elementwise comparison failed; returning scalar instead, but in the future will perform elementwise comparison\n",
      "  if self._edgecolors == str('face'):\n"
     ]
    },
    {
     "data": {
      "image/png": "iVBORw0KGgoAAAANSUhEUgAAAX4AAAEACAYAAAC08h1NAAAABHNCSVQICAgIfAhkiAAAAAlwSFlz\nAAALEgAACxIB0t1+/AAAIABJREFUeJzt3X+UXHWZ5/H30yFZO5iQhGYCJJBExyGYkBiiGDYsXR6m\n6YBLsgmj4IBE0QMuExmZZk2cnIEOwmiYUUDco4AK2XXHnD0ia9wN3WmVBqOI4skPCEETlCHID00k\nESGShDz7R1V3qivV3VX3VtX99XmdUydVXd/UfepW3afufe73+73m7oiISHY0RR2AiIg0lhK/iEjG\nKPGLiGSMEr+ISMYo8YuIZIwSv4hIxoRO/Gb2DTN72cyeGOT5y8xsi5ltNbMfm9mssMsUEZHgarHH\nfy+wYIjnfw2c6+6zgM8Cd9dgmSIiElDoxO/uPwJeGeL5R919X+HhY8DksMsUEZHgGl3j/xiwvsHL\nFBGRIsc0akFm9j7gSmB+o5YpIiJHa0jiL5zQvQdY4O5HlYXMTBMGiYgE4O5W7f+pe6nHzE4FvgNc\n7u47B2vn7om93XjjjZHHoPijj0PxJ++W5Njdg+8vh97jN7NvAa1Ai5ntAm4ERhaS+V3ADcB44Ctm\nBnDQ3c8Ku1wREQkmdOJ39w8N8/zHgY+HXY6IiNSGRu7WQC6XizqEUBR/tBR/dJIcexgWpk5UsyDM\nPA5xiIgkiZnhAU7uNqw7p4gkS+GcnMRELXeOlfhFZFA6Eo+HWv8Iq8YvIpIxSvwiIhmjxC8ikjFK\n/CIiGaPELyJSYvPmzcydO5djjz2Wd7/73WzZsmXQtm+88QZXXnklxx13HCeddBK33XbbgOe/973v\nMXPmTMaMGcP8+fPZvn17/3P33XcfI0aMYMyYMf23Rx55pG7vq48Sv4jU3K9+9StuvvkWPv/5z/Pc\nc8/VfXmHDh2q2WsdOHCARYsWccUVV7B3716WLl3KokWLOHjwYNn2nZ2dPPPMMzz33HM89NBD3Hrr\nrXR3dwOwY8cOLr/8cu6++2727dvHRRddxMKFC3nzzTf7///8+fN59dVX+2/nnntuzd7LoKKeZKjQ\nXcxFJF6G2i67u7v91ltv9fvvv98PHz484Llf/OIXfuyxLT5ixKd85Mhr/LjjTvQdO3bUPL4pU6b4\n6tWr/YwzzvC3vOUt/uabb9bkdbu7u33SpEkD/nbqqad6V1dX2fYnn3yy9/T09D++4YYb/NJLL3V3\n9zvvvNPf//739z93+PBhb25u9h/+8Ifu7n7vvff6OeecM2xMg30Whb9XnXO1xy8iVVm5chVLlvwd\nK1e+yBVX3Mxll318QH//T3/6s7z22k28+eZtHDz433n11Wu46aZ/GfAaGzduZNq0Mxg9ejznnnsh\nL730UqBY1q5dy4MPPsjevXtpajo6nc2aNYvx48eXvS1btqzsa27bto1ZswZeGnz27Nls27btqLav\nvPIKL774IrNnzx6wzL62hZG1/c8dPnwYd+fJJ5/s/9umTZs44YQTOO2007j55psHHA3UiwZwiUjF\ndu/ezb/+6xc5cGAH8BccPPg63/3u6WzdurU/+e3d+0dgWv//OXx4Gnv2HEmau3btYsGCxbz22teA\n+Tz66L/Q3r6ELVt+UlUsZsa1117LpEmTBm2zdevWql4T4E9/+hPHHXfcgL+NHTuWV199tWxbYED7\n4rbnnXcey5cv5+GHH+bss89m9erVHDhwgNdffx2A1tZWtm3bxpQpU3jyySe55JJLOOaYY1ixYkXV\ncVdDe/wiUrG9e/cycuQE4C8KfxnNyJFT2LNnT3+bSy+9iNGj/wnYDmxm9OibufTSi/qf/8lPfkJT\n07nAIqCFQ4c+z/btW/njH/9YdTynnHJKiHdT3pgxY46KZd++fYwdO/aotm9961sBBrTft28fY8aM\nAWD69OmsWbOGZcuWcfLJJ7Nnzx7e+c53Mnly/tLj06ZNY8qUKQDMnDmTG264gW9/+9s1f0+llPhF\npGJTpkxh3LiRmN0O/BFYC+zgXe96V3+bf/iHa7nuuv/M8ccv4IQTlrBq1Sf48Icv639+/PjxuP8a\n6Dshuws4THNzc9XxDDeVwYwZMwb0mCm+XXPNNYP+n9Ijha1btzJjxoyj2o4fP56TTjqJzZs39/9t\ny5YtzJw5s//xxRdfzBNPPMHu3bvp7Ozk2Wef5T3vec+gMReXhuomyImBWt/QyV2R2Blsu9yxY4ef\nccbZPmrUaJ827Qz/+c9/XtXrHjp0yM899wI/9thWb2pa7qNHT/Vbb/1i1fFNnTrVf/CDH1T9/4Zz\n4MABnzJlit9xxx3+5z//2e+44w6fOnWqHzx4sGz7FStWeGtrq7/yyiv+1FNP+Yknnujd3d39zz/+\n+ON+6NAh/93vfucf+MAH/LLLLut/bv369f7SSy+5u/v27dt95syZftNNNx21jME+CwKe3I086bsS\nv0gs1XO7PHjwoN93331+8803+/e///1Ar1GvxO/uvmnTJp87d643Nzf73LlzffPmzf3PffOb3/QZ\nM2b0P37jjTf8yiuv9LFjx/rEiRP9tttuG/Ba55xzjo8ZM8YnTJjgn/jEJ/z111/vf+7666/3iRMn\n+rHHHutve9vb/MYbb/RDhw4dFU+tE7/m4xeRskp7pEh0Bvssgs7Hrxq/iEjGKPGLiGSMEr+ISMYo\n8YuIZIwSv4hIxoRK/Gb2DTN72cyeGKLNl8xsh5ltMbM5YZYnIiLhhZ2r517gTuB/lHvSzC4E/tLd\n32Fm7wW+AswLuUwRaZBaX+Rb4iFU4nf3H5nZ1CGaLATWFNo+ZmbjzGyiu78cZrkSH93d3XzhC3cD\n0NFxFe3t7RFHJLWiPvzpVe8a/yTyE3H0eR6YXOdlSoN0d3ezePFSenoW0tOzkMWLl/ZfgCKpuru7\nOf/8izn//IsT/15EBtOIaZlLjxXL7kZ0dnb238/lcuRyufpFJDXxhS/czf79q4GlAOzfn/9bUvf6\n+37I8u8JNm5cygMPrEns+wlLR3Px09vbS29vb+jXqXfi/y1QPG/q5MLfjlKc+EWikLYfsjD0IxhP\npTvFq1atCvQ69S71rAOuADCzecBe1ffTo6PjKpqbl5M/jbOG5ubldHRcFXVYUgMDfwTzPwB9e/+S\nfKH2+M3sW0Ar0GJmu4AbgZEA7n6Xu683swvNbCfwGvDRsAFLfLS3t/PAA2uKygHJ3iPs6LiKjRuX\nsn9//nH+h2xNtEGJ1IFm56wx1UXrpxHrVp9fXmmpp7l5uUo9MRR0ds7I5+L3FM3H39XV5c3NEx3u\nc7jPm5sneldXV9RhpYLWbeN1dXV5W9sSb2tbkrp1nZb3hubjj975519MT89C