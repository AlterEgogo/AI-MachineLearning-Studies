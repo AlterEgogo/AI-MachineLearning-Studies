{
 "cells": [
  {
   "cell_type": "markdown",
   "metadata": {
    "slideshow": {
     "slide_type": "slide"
    }
   },
   "source": [
    "Sveučilište u Zagrebu<br>\n",
    "Fakultet elektrotehnike i računarstva\n",
    "\n",
    "# Strojno učenje\n",
    "\n",
    "<a href=\"http://www.fer.unizg.hr/predmet/su\">http://www.fer.unizg.hr/predmet/su</a>\n",
    "\n",
    "Ak. god. 2015./2016.\n",
    "\n",
    "# Bilježnica 3: Osnove vjerojatnosti i statistike\n",
    "\n",
    "(c) 2015 Jan Šnajder\n",
    "\n",
    "<i>Verzija: 0.8 (2015-11-01)</i>"
   ]
  },
  {
   "cell_type": "code",
   "execution_count": 3,
   "metadata": {
    "collapsed": false
   },
   "outputs": [
    {
     "name": "stdout",
     "output_type": "stream",
     "text": [
      "Populating the interactive namespace from numpy and matplotlib\n"
     ]
    }
   ],
   "source": [
    "import scipy as sp\n",
    "import scipy.stats as stats\n",
    "import matplotlib.pyplot as plt\n",
    "from numpy.random import normal\n",
    "%pylab inline"
   ]
  },
  {
   "cell_type": "markdown",
   "metadata": {},
   "source": [
    "### Sadržaj:\n",
    "\n",
    "* Vjerojatnost\n",
    "\n",
    "* Očekivanje, varijanca i kovarijanca\n",
    "\n",
    "* Statistička nezavisnost\n",
    "\n",
    "* Matrica kovarijacije\n",
    "\n",
    "* Teorijske razdiobe\n",
    "\n",
    "* Procjena parametara\n",
    "\n",
    "* Procjenitelj MLE\n",
    "\n",
    "* Procjenitelj MAP\n"
   ]
  },
  {
   "cell_type": "markdown",
   "metadata": {},
   "source": [
    "# Vjerojatnost\n",
    "\n",
    "* $X$ je slučajna varijabla, $\\{x_i\\}$ su njezine vrijednosti\n",
    "\n",
    "\n",
    "* Pojednostavljenje notacije: $$P(X=x) \\equiv P(x)$$\n",
    "\n",
    "\n",
    "* $P(x_i)\\geq 0$, $\\sum_i P(x_i)=1$\n",
    "\n",
    "\n",
    "* Distribucija (razdioba) vjerojatnosti\n",
    "\n",
    "\n",
    "* Zajednička (engl. *joint*) distribucija nad $\\{X,Y\\}$: $$P(X=x,Y=y)\\equiv P(x,y)$$\n",
    "        \n",
    "        \n",
    "* Kontinuirana slučajna varijabla: **funkcija gustoće vjerojatnosti (PDF)**:\n",
    "\n",
    "\\begin{eqnarray*}\n",
    "p(x) & \\geq 0\\\\\n",
    "\\int_{-\\infty}^{\\infty} p(x)\\,\\textrm{d}x &= 1\\\\\n",
    "P(a\\leq X\\leq b) &= \\int_a^b p(x)\\,\\mathrm{d}x\n",
    "\\end{eqnarray*}\n",
    "\n",
    "### Dva pravila teorije vjerojatnosti\n",
    "\n",
    "* **(1) Pravilo zbroja**\n",
    "$$P(x)=\\sum_y P(x,y)$$\n",
    "(Marginalna vjerojatnost varijable $X$)\n",
    "\n",
    "\n",
    "* Uvjetna vjerojatnost:\n",
    "$$\n",
    "    P(y|x) = \\frac{P(x,y)}{P(x)} \n",
    "$$\n",
    "\n",
    "\n",
    "* **(2) Pravilo umnoška**\n",
    "$$P(x,y) = P(y|x) P(x) = P(x|y) P(y)$$\n",
    "\n",
    "### Izvedena pravila\n",
    "\n",
    "* **Bayesovo pravilo**\n",
    "$$\n",
    "P(y|x) = \\frac{P(x|y)P(y)}{P(x)}\n",
    "= \\frac{P(x|y)P(y)}{\\sum_y P(x,y)}\n",
    "= \\frac{P(x|y)P(y)}{\\sum_y P(x|y)P(y)}\n",
    "$$\n",
    "\n",
    "\n",
    "* **Pravilo lanca (engl. *chain rule*)**\n",
    "$$P(x,y,z) = P(x) P(y|x) P(z|x,y)$$\n",
    "\n",
    "* Općenito:\n",
    "$$\n",
    "\\begin{align*}\n",
    "P(x_1,\\dots,x_n) &=\n",
    "P(x_1)P(x_2|x_1)P(x_3|x_1,x_2)\\cdots P(x_n|x_1,\\dots,x_{n-1})\\\\\n",
    "&= \\prod_{k=1}^n P(x_k|x_1,\\dots,x_{k-1})\n",
    "\\end{align*}\n",
    "$$"
   ]
  },
  {
   "cell_type": "markdown",
   "metadata": {},
   "source": [
    "# Očekivanje, varijanca i kovarijanca \n",
    "\n",
    "* Očekivanje slučajne varijable:\n",
    "\n",
    "\\begin{equation*}\n",
    "\\mathbb{E}[X]=\\sum_x x P(x)\n",
    "\\end{equation*}\n",
    "\n",
    "$$\n",
    "\\mathbb{E}[X]=\\int_{-\\infty}^{\\infty} x\\,p(x)\\,\\mathrm{d}x\n",
    "$$\n",
    "\n",
    "* Očekivanje funkcije slučajne varijable:\n",
    "\n",
    "\\begin{equation*}\n",
    "\\mathbb{E}[f]=\\sum_x f(x) P(x)\n",
    "\\end{equation*}\n",
    "\n",
    "* Vrijedi:\n",
    "\n",
    "\\begin{align*}\n",
    "\\mathbb{E}[aX+b] &= a\\mathbb{E}[X]+b\\qquad (a,b\\in\\mathbb{R})\\\\\n",
    "\\mathbb{E}[X+Y] &= \\mathbb{E}[X] + \\mathbb{E}[Y]\n",
    "\\end{align*}\n",
    "\n",
    "* Varijanca slučajne varijable:\n",
    "\n",
    "\\begin{equation*}\n",
    "\\mathrm{Var}(X) = \\sigma_X^2 = \\mathbb{E}[(X-\\mathbb{E}[X])^2] = \\mathbb{E}[X^2] - \\mathbb{E}[X]^2\n",
    "\\end{equation*}\n",
    "\n",
    "\\begin{equation*}\n",
    "\\mathrm{Var}(a X) = \\mathbb{E}\\big[(a X)^2\\big] - \\mathbb{E}[a X]^2 = a^2\\mathbb{E}[X^2] - a^2\\mathbb{E}[X]^2 =\n",
    "a^2\\mathrm{Var}(X)\n",
    "\\end{equation*}\n",
    "\n",
    "* Kovarijanca slučajnih varijabli:\n",
    "\n",
    "\\begin{align*}\n",
    "    \\mathrm{Cov}(X,Y) &= \\sigma_{X,Y} = \\mathbb{E}\\big[(X-\\mathbb{E}[X])(Y-\\mathbb{E}[Y])\\big] =\n",
    "    \\mathbb{E}[XY] - \\mathbb{E}[X]\\mathbb{E}[Y]\\\\\n",
    "   \\mathrm{Cov}(X,Y) &=\\mathrm{Cov}(Y, X)\\\\\n",
    "   \\mathrm{Cov}(X,X) &=\\mathrm{Var}(X) =\\sigma^2_X\\\\\n",
    "\\end{align*}\n",
    "\n",
    "* Pearsonov koeficijent korelacije (linearna zavisnost):\n",
    "$$\n",
    "\\rho_{X,Y} = \\frac{\\mathrm{Cov}(X,Y)}{\\sigma_X\\sigma_Y}\n",
    "$$\n",
    "$\\rho_{X,Y}\\in[-1,+1]$\n",
    "\n"
   ]
  },
  {
   "cell_type": "code",
   "execution_count": 2,
   "metadata": {
    "collapsed": false
   },
   "outputs": [],
   "source": [
    "from scipy import stats\n",
    "\n",
    "X = sp.random.random(100)\n",
    "Y0 = sp.random.random(100)\n",
    "noise = stats.norm.rvs(size=100)\n",
    "Y1 = X + 0.2 * noise\n",
    "Y2 = 3 * Y1\n",
    "Y3 = -Y1\n",
    "Y4 = 1 - (X - 0.5)**2 + 0.05 * noise"
   ]
  },
  {
   "cell_type": "code",
   "execution_count": 3,
   "metadata": {
    "collapsed": false
   },
   "outputs": [
    {
     "name": "stderr",
     "output_type": "stream",
     "text": [
      "/usr/local/lib/python2.7/dist-packages/matplotlib/collections.py:590: FutureWarning: elementwise comparison failed; returning scalar instead, but in the future will perform elementwise comparison\n",
      "  if self._edgecolors == str('face'):\n"
     ]
    },
    {
     "data": {
      "image/png": "iVBORw0KGgoAAAANSUhEUgAAAX4AAAEACAYAAAC08h1NAAAABHNCSVQICAgIfAhkiAAAAAlwSFlz\nAAALEgAACxIB0t1+/AAAIABJREFUeJzt3X+UXHWZ5/H30yFZO5iQhGYCJJBExyGYkBiiGDYsXR6m\n6YBLsgmj4IBE0QMuExmZZk2cnIEOwmiYUUDco4AK2XXHnD0ia9wN3WmVBqOI4skPCEETlCHID00k\nESGShDz7R1V3qivV3VX3VtX99XmdUydVXd/UfepW3afufe73+73m7oiISHY0RR2AiIg0lhK/iEjG\nKPGLiGSMEr+ISMYo8YuIZIwSv4hIxoRO/Gb2DTN72cyeGOT5y8xsi5ltNbMfm9mssMsUEZHgarHH\nfy+wYIjnfw2c6+6zgM8Cd9dgmSIiElDoxO/uPwJeGeL5R919X+HhY8DksMsUEZHgGl3j/xiwvsHL\nFBGRIsc0akFm9j7gSmB+o5YpIiJHa0jiL5zQvQdY4O5HlYXMTBMGiYgE4O5W7f+pe6nHzE4FvgNc\n7u47B2vn7om93XjjjZHHoPijj0PxJ++W5Njdg+8vh97jN7NvAa1Ai5ntAm4ERhaS+V3ADcB44Ctm\nBnDQ3c8Ku1wREQkmdOJ39w8N8/zHgY+HXY6IiNSGRu7WQC6XizqEUBR/tBR/dJIcexgWpk5UsyDM\nPA5xiIgkiZnhAU7uNqw7p4gkS+GcnMRELXeOlfhFZFA6Eo+HWv8Iq8YvIpIxSvwiIhmjxC8ikjFK\n/CIiGaPELyJSYvPmzcydO5djjz2Wd7/73WzZsmXQtm+88QZXXnklxx13HCeddBK33XbbgOe/973v\nMXPmTMaMGcP8+fPZvn17/3P33XcfI0aMYMyYMf23Rx55pG7vq48Sv4jU3K9+9StuvvkWPv/5z/Pc\nc8/VfXmHDh2q2WsdOHCARYsWccUVV7B3716WLl3KokWLOHjwYNn2nZ2dPPPMMzz33HM89NBD3Hrr\nrXR3dwOwY8cOLr/8cu6++2727dvHRRddxMKFC3nzzTf7///8+fN59dVX+2/nnntuzd7LoKKeZKjQ\nXcxFJF6G2i67u7v91ltv9fvvv98PHz484Llf/OIXfuyxLT5ixKd85Mhr/LjjTvQdO3bUPL4pU6b4\n6tWr/YwzzvC3vOUt/uabb9bkdbu7u33SpEkD/nbqqad6V1dX2fYnn3yy9/T09D++4YYb/NJLL3V3\n9zvvvNPf//739z93+PBhb25u9h/+8Ifu7n7vvff6OeecM2xMg30Whb9XnXO1xy8iVVm5chVLlvwd\nK1e+yBVX3Mxll318QH//T3/6s7z22k28+eZtHDz433n11Wu46aZ/GfAaGzduZNq0Mxg9ejznnnsh\nL730UqBY1q5dy4MPPsjevXtpajo6nc2aNYvx48eXvS1btqzsa27bto1ZswZeGnz27Nls27btqLav\nvPIKL774IrNnzx6wzL62hZG1/c8dPnwYd+fJJ5/s/9umTZs44YQTOO2007j55psHHA3UiwZwiUjF\ndu/ezb/+6xc5cGAH8BccPPg63/3u6WzdurU/+e3d+0dgWv//OXx4Gnv2HEmau3btYsGCxbz22teA\n+Tz66L/Q3r6ELVt+UlUsZsa1117LpEmTBm2zdevWql4T4E9/+hPHHXfcgL+NHTuWV199tWxbYED7\n4rbnnXcey5cv5+GHH+bss89m9erVHDhwgNdffx2A1tZWtm3bxpQpU3jyySe55JJLOOaYY1ixYkXV\ncVdDe/wiUrG9e/cycuQE4C8KfxnNyJFT2LNnT3+bSy+9iNGj/wnYDmxm9OibufTSi/qf/8lPfkJT\n07nAIqCFQ4c+z/btW/njH/9YdTynnHJKiHdT3pgxY46KZd++fYwdO/aotm9961sBBrTft28fY8aM\nAWD69OmsWbOGZcuWcfLJJ7Nnzx7e+c53Mnly/tLj06ZNY8qUKQDMnDmTG264gW9/+9s1f0+llPhF\npGJTpkxh3LiRmN0O/BFYC+zgXe96V3+bf/iHa7nuuv/M8ccv4IQTlrBq1Sf48Icv639+/PjxuP8a\n6Dshuws4THNzc9XxDDeVwYwZMwb0mCm+XXPNNYP+n9Ijha1btzJjxoyj2o4fP56TTjqJzZs39/9t\ny5YtzJw5s//xxRdfzBNPPMHu3bvp7Ozk2Wef5T3vec+gMReXhuomyImBWt/QyV2R2Blsu9yxY4ef\nccbZPmrUaJ827Qz/+c9/XtXrHjp0yM899wI/9thWb2pa7qNHT/Vbb/1i1fFNnTrVf/CDH1T9/4Zz\n4MABnzJlit9xxx3+5z//2e+44w6fOnWqHzx4sGz7FStWeGtrq7/yyiv+1FNP+Yknnujd3d39zz/+\n+ON+6NAh/93vfucf+MAH/LLLLut/bv369f7SSy+5u/v27dt95syZftNNNx21jME+CwKe3I086bsS\nv0gs1XO7PHjwoN93331+8803+/e///1Ar1GvxO/uvmnTJp87d643Nzf73LlzffPmzf3PffOb3/QZ\nM2b0P37jjTf8yiuv9LFjx/rEiRP9tttuG/Ba55xzjo8ZM8YnTJjgn/jEJ/z111/vf+7666/3iRMn\n+rHHHutve9vb/MYbb/RDhw4dFU+tE7/m4xeRskp7pEh0Bvssgs7Hrxq/iEjGKPGLiGSMEr+ISMYo\n8YuIZIwSv4hIxoRK/Gb2DTN72cyeGKLNl8xsh5ltMbM5YZYnIiLhhZ2r517gTuB/lHvSzC4E/tLd\n32Fm7wW+AswLuUwRaZBaX+Rb4iFU4nf3H5nZ1CGaLATWFNo+ZmbjzGyiu78cZrkSH93d3XzhC3cD\n0NFxFe3t7RFHJLWiPvzpVe8a/yTyE3H0eR6YXOdlSoN0d3ezePFSenoW0tOzkMWLl/ZfgCKpuru7\nOf/8izn//IsT/15EBtOIaZlLjxXL7kZ0dnb238/lcuRyufpFJDXxhS/czf79q4GlAOzfn/9bUvf6\n+37I8u8JNm5cygMPrEns+wlLR3Px09vbS29vb+jXqXfi/y1QPG/q5MLfjlKc+EWikLYfsjD0IxhP\npTvFq1atCvQ69S71rAOuADCzecBe1ffTo6PjKpqbl5M/jbOG5ubldHRcFXVYUgMDfwTzPwB9e/+S\nfKH2+M3sW0Ar0GJmu4AbgZEA7n6Xu683swvNbCfwGvDRsAFLfLS3t/PAA2uKygHJ3iPs6LiKjRuX\nsn9//nH+h2xNtEGJ1IFm56wx1UXrpxHrVp9fXmmpp7l5uUo9MRR0ds7I5+L3FM3H39XV5c3NEx3u\nc7jPm5sneldXV9RhpYLWbeN1dXV5W9sSb2tbkrp1nZb3hubjj975519MT89C+k4Owhra2taxYcP9\nUYaVClq3UitpOprRfPwiIgVDjcfQievG9OPPDJ0cHF7QGrrWrVRKXVErEKQ+VOsbKanxu6endlgP\nYev0WrdSiba2JYXvmBdu93lb25L+59N0vgjV+CXuVKeXRqjke5aW3ltBa/wq9YhIqlRSFmxvb09s\nsq8F7fFLw6SpN4XEW1r26IcTdI9fiV8aKisbpMRPGr97SvwiIoNI69GmEr+IyCDS2rFAA7hERKQi\nSvwikkjVXC1NU4gPpFJPTKTxxJNIvQSp2adxG9PsnAlWj5GEGuVaH1qvR0S1Lrq6unzChLcPOTo3\nKwg4cjfypO9K/MMOMa9Wmoakx4nW6xFRrYsjy52nxO/BE79G7qaQrh1bH1qvR0S1Lo4s90SO9NDR\npH3VUuKPAc08KVKtdvInajuZMOH3/Nu/Jb9PfiMp8cdAra9dqx+S+mhtPZOenmuL/nItra2fjiye\nKEX1HTt6ub9R0g9AvXpSKo09GKKWHwQ0DfhN4S/TaGv7TeIHAQUV1XdM3+0jNHJXpM7SOvpTkksj\ndyVVqhmc0ygaBJQXx89GqhSkK1Ctb2S8O2fWDNf/O87dJrPejz/On00WEVU/fmAB8DSwA1he5vkW\noAvYDDwJfKRMm3quGwmh1omuksRR63ENUjv6bOIlaOIPVeoxsxHAlwvJ/53Ah8zs9JJmy4BN7v4u\nIAd8wcxS2ZsobYfAfcPie3oW0tOzkMWLl4Z+XwP7f+eH3PedqBORxgibgM8Cdrr7swBmthZYBGwv\navMiMKtwfyywx90PhVxu7JTOHbJx49LEz/cd1SAddUeNL3026RA28U8CdhU9fh54b0mbe4AfmtkL\nwBjggyGXGUsa1VmZSq+HWstxDVI7+mzSIWzir6QP5j8Cm909Z2ZvB3rMbLa7v1rcqLOzs/9+Lpcj\nl8uFDE3CCrJ3N1wf60oTR9Yvhh1n+myi09vbS29vb/gXCnJioO8GzAO6ih5/hpITvMB6YH7R4x8A\n7y5pU58zHw2U1t4O1ZzcTco6yHrPHEkPoujVQ/6I4RlgKjCKfM+d00vafBG4sXB/Ivly0ISSNnVd\nOY2S9YSShB4fSflxEqlE0MQfqtTj7ofMbBnQDYwAvu7u283s6sLzdwH/DNxrZlvIDxj7tLv/Icxy\n40qHwPGnczEiNZikzd0fBB4s+dtdRfd3AxeFXY7En3p8iCSD5uqRmor7BFpBLtknEleapE2kQnH/\ncRKplBK/SErph0oGo9k5RSJUr+k66jFthoj2+EVCqud5g3LXAJgw4bPMnTtbe/+iPX6RqDR64rk/\n/OEE7f1LKEr8IjFWevEXuB7opNwPTNpmh5X6UeIXCanaK3NVk6D75jZqa1vHhAmfJX9UcXR5R+cC\npCpBhvvW+kZKpmyQ7Kp0uo4wU0YM9X+TMF2G1B5RTNkgInmVTtcRZsqIOE+JrC6nyaLEL5Igg/3A\nRDldRhovQpR26s4p0kD17PpZ6V53rffOy3U5bWtbx4YN94d6XRle0O6c2uNvMB0SZ1s9yzWVlJu0\ndy6ATu42kuaCl6jV4ySwvtfRQSd3409zwUsaxfmks5SnxC+SIfU6CayLECWLBnA1ULUDfaR6Gr06\ntOIBYW1t61Tfzyj16mkwndytH11kRbJG8/FHTAk9eupWKFmj7pwRUhc5EUkS1fhroNHT8tZapXXx\nuNfPdQ6lduL+WUtIQfqA1vpGwvvxJ3mCrEr7YCelr3alk6XJ4JLyWUvwfvyRJ31PQeJP0oZSmhgr\n/dFK8o+bVEefdXIETfyha/xmtgC4HRgBfM3dV5dpkwNuA0YCu909F3a5cRLnASzFJ51bW8/kllvu\nHHAuYvr06VGGJyJRCPJr0Xcjn+x3AlPJJ/XNwOklbcYB24DJhcctZV6njr+J2VV6JNLUNN6hY8Ce\n3Jw581NV6pHwBvusVUaLH6Io9QBnA11Fj1cAK0raXAPcNMzr1G3FJFGtNrByh+ww76hD+GouIqIN\nPxtKP2v98MdTVIn/b4B7ih5fDtxZ0uY24MvAQ8DjwIfLvE49102i1HIDK5f4m5qO18YrVVPdP56C\nJv6wNf5KRl2NBM4EzgNGA4+a2U/dfUdxo87Ozv77uVyOXC4XMrRkquVEbuXmZVm58joefnhd4fn4\nnIsQkeH19vbS29sb+nXCJv7fAqcUPT4FeL6kzS7yJ3T3A/vN7BFgNjBo4pfaGOyk88qVEQcmiRPl\nFb7kiNKd4lWrVgV6nVBTNpjZMcAvye/NvwD8DPiQu28vajOdfKmnHfgPwGPAJe7+VFEbDxNHmmi+\nGYnKcNOOaFqS+Ilsrh4zu4Aj3Tm/7u6fM7OrAdz9rkKb64GPAofJnxP4UslrKPEX0QYmjaYdjmTS\nJG0iEpgmuEumoIlfc/WIxIDmxpFG0uycIhGLw+yuOnmbLSr1iEQsLmUWnVtKHs3HLyKhxOW6ufoB\nqj/V+KVhklbHblS8uo7AEX1lr56ehfT0LGTx4qWJ+K4kTpDhvrW+oSkbEqmauXuSNtdLo+PVPEh5\nmhqiOmg+/uRL0sZfbWJM2gadtHjTQuu9OkETv2r8MRGHnh3VqOWcQiJ91LuoMZT4YyLtiTRpG3TS\n4o2DWpyUjfNFjVIlyGFCrW+o1FP2EHfOnPmxLf0EqYHXu5RV69dPUuktakk7h5MWqMafbKUbzqhR\n43zUqBNivSHFKTEq8USr/I5La9RhpV7QxK8BXDFSfKi8e/ceNm36KFEP6kmKuAyCyqpy67+pqYP1\n6/+XSjV1pLl6UqC9vZ0NG+5nw4b7aWk5PupwRCrW0XEVTU3X0TcWAZZz+PBH+ndkJF50cjemdHKx\nOlpf0Wpvb2f27HeyadNXgZPJJ/+XgN9EG5iUpVJPjFXTS0LD3LUOoqY5/RtP8/FnmDY4iQv9+DaW\nEn+G6cSmSDbp5K5EKmkTsIlkmRJ/CkQ9u6NmVJSoaIcjGJV6UiLK2qpKTRIFndvShVgyLy4X0RBp\nlLTPb1VPKvWkXCMOhaMuNYlIdVTqSbFGHgqrG580mko9EXbnNLMFwO3ACOBr7r56kHbvAR4FPuju\n3yl5Tom/DlR7l7TL+g5HJDV+MxsBfBn4a+C3wM/NbJ27by/TbjXQBVQdpIhIOTq3FUzYGv9ZwE53\nf9bdDwJrgUVl2n0S+Dbw+5DLkwr01fV3797DqFGfoprau7rHVS7u6yru8UmEgszl3HcD/ga4p+jx\n5cCdJW0mAQ+R39O/F1hS5nVCzEgtxY6e1/+E/gu6pO2C6FGK+7qKe3xSG0R0zd1KCvO3Ayvc3c3M\nGKTU09nZ2X8/l8uRy+VChpZNpV3cDhyAlpbK6vrqHle5uK+ruMcnwfT29tLb2xv6dcIm/t8CpxQ9\nPgV4vqTNXGBtPufTAlxgZgfdfV1xo+LEL8F0d3fzi19sARZGHYqI1EHpTvGqVauCvVCQwwQ/UqI5\nBngGmAqMAjYDpw/RXqWeOjlyaN/h0BLoEF/lgcrFfV3FPT6pDaK65i5wAfBLYCfwmcLfrgauLtNW\nib9OBl7ztMthnk+Y8PaqN/Y4XUc37uK+ruIen4QXNPFrAFfMBO2XXGmf/az3exZJk6D9+EPv8dfi\nhvb43T3c4Xkl/1eH/xKGjiDih6hKPbW4KfHnDSzXuMN93ta2pOL/P9yGGfb1Jbu00xBPQRO/ZudM\nEY1ilHpR99B00eycMVLvWS41i2Z6aZSuVCXIYUKtb6jU06/edVTVaYeWxPXTiDKMSj3xhHr1iIST\n1Gl+GzULq3qExY+uwCUSkurYeYMl+EacQ9KPS2Mo8UvVtHHGS0fHVWzcuJT9+/OP8+du1gR6rdKj\nno0blzbsqCfKZWdOkPpQrW+oxp8Yaa71Jvm91ercRJRdftXduHqoO6c0QprLIe3t7TzwwJqio5nk\n7G2qK69UQ4lfhlRa1km7rCfQWpaNkrTsrFGvHhlUuV4uK1d+kltuuTNxPV+kclGew9H5o+pEdrH1\nWlDij6fBugl2dFyljVMkBtSdM2bSvOeS9XKISNIp8ddBWrqlqeYqkk4q9dRBo0ZSNkKaj1xEki5o\nqUeTtMmQ2tvb2bDh/v66viYBE0k+lXrqIG0lkrSUrkQkT6WeOklTiSRNpSuRNFGvnphRzxcRiSsl\nfhlW2kpXIlmnUo9UJE2lK5G00MhdaTj9GIhEK7LunGa2wMyeNrMdZra8zPOXmdkWM9tqZj82s1lh\nlynR6+vp09OzkJ6ehSxevFTdPCWWdD3iMoLM5dx3A0YAO4GpwEhgM3B6SZuzgeMK9xcAPy3zOjWZ\nm1pqp3R+99LHmju9MZJ4DeA4SfI1FipBRPPxnwXsdPdnAcxsLbAI2F70w/JoUfvHgMkhlyl1Vtpv\n/+GHPwwc5MCB24F8P/7p06dHGGE2aPxEeGm+fkQYYRP/JGBX0ePngfcO0f5jwPqQy5Q6K91YDhwA\n+CrFGw/cQ3Pz8pr39NF5gyOUtKRewib+is/Imtn7gCuB+eWe7+zs7L+fy+XI5XIhQ8ueRibNlpaJ\nPPDAP9X0alXaw5VaS1tX5N7eXnp7e8O/UJD6kB+pzc8DuooefwZYXqbdLPLnAv5ykNepVwksM2pZ\nyyx9rVGjTvBRo8bVvU6q8wYDpb0+3ShpPk9CRDX+x4F3mNlU4AXgEuBDxQ3M7FTgO8Dl7r4z5PJk\nELUsCxx97dn/2b+M/GPthTdCkq8BHCcaRX+0UInf3Q+Z2TKgm3wPn6+7+3Yzu7rw/F3ADcB44Ctm\nBnDQ3c8KF7bUW7mNpV4bT1+JavfuPYwa9anCOYXkH5bXgpKW1IMGcKVEuevjJqE+Xhr3qFH/jRkz\n/oqWlomZP7krMhyN3JVE9ojRzJ8iwWl2TlFZoMaS+EMqUgldgUsi1dp6Jk1NHeQHeF9fqOtfFWlM\n3d3dnHlmjgsvvIyenmmakkJSR6UeiUxpfb+p6TpuuqmDlStXNjSG4r16YEBMsBxYA7ykEpTEjko9\nkjilXVAPH4aHH15Ho/J+uQFj06dPHxBT3t3AwsYElVIqm8WLEr9kVrmxD//+758t0/IFdS0NQSOy\n40c1folMR8dVNDf3lVLWxKK+P2XKiQNiamq6jjlzRtQ9UaV56uCBP7D5H4C+vX+Jhvb4JTJBR6bW\nqmxQbh6Xz30uv1d/5PW/Vfc9U+0RS8MFmeeh1jc0V49UqNbz18RhHpe4zFFUr3WhOYfqh4Bz9ajU\nk3FJKzHUsmygE45H1POKan1Hdm1t62hrW6ejmTgI8mtR6xva449EEvfEarV3HKf3HodY4nLUUWtx\nOKKrJwLu8Uee9F2JPzJJ2tj7NuA5c1prMkV03N571AkqbuujFuLwg1pvQRO/Tu4mSFZLE+Umcpsz\n557CRG7pKBtEPd1GXC9YEuY7ryuYDSHIr0Wtb2iPf1j12HtJyh5RPfZGk/LeGynqo45y8YT5jNJ4\nFFMKlXrSrV5f4rht7OVk+b1nWdjPPQs/7kETv0o9GRd1iaES9SpDJOG9S3C6gtngNElbQiT1Qiu1\nktXzG1mW9e98JXQhlgwImvyUNCWp9N0dmhK/lBXlXpM2WpH6Cpr4NXI35eo5QdZQo37rORJUpJyk\njUKPkk7uSiDDTSymPtTSSJrorjpK/ClXrx4xSuwSJ/o+Vkelnhipx6FqVBNkxXGufREpCNL5v/gG\nLACeBnYAywdp86XC81uAOWWer/GwhuRJ0mCTrq4unzNnvjc1jR8yXg2QKk/rpfaStP3UElGM3AVG\nADuBqcBIYDNwekmbC4H1hfvvBX5a5nXqunKSICnDywduYB3e1HS8z5nTmomNrBaymqAaIYs/qEET\nf9ga/1nATnd/FsDM1gKLgO1FbRaSP97H3R8zs3FmNtHdXw65bInA0RdIP4OWlnWqpVZItej60Ujs\nyoVN/JOAXUWPnye/Vz9cm8mAEn+RuM6OKCLpEzbxVzrqqnSAwVH/r7Ozs/9+Lpcjl8sFDiqJkjKv\niH6gwtH6kzB6e3vp7e0N/TqhRu6a2Tyg090XFB5/Bjjs7quL2nwV6HX3tYXHTwOtxaUejdxNFo3I\nDUfrT2olkikbzOwY4JfAecALwM+AD7n79qI2FwLL3P3Cwg/F7e4+r+R1lPhFRKoUNPGHKvW4+yEz\nWwZ0k+/h83V3325mVxeev8vd15vZhWa2E3gN+GiYZYqISDiapE1EJKE0SZuIiFREiV9EJGOU+EVE\nMkaJX0QkY5T4RUQyRolfRCRjlPhFRDJGiV9EJGOU+EVEMkaJX0QkY5T4RUQyRolfRCRjlPhFRDJG\niV9EJGOU+EVEMkaJX0QkY5T4RUQyRolfRCRjlPhFRDJGiV9EJGOU+EVEMkaJX0QkYwInfjObYGY9\nZvYrM9tgZuPKtDnFzB4ys21m9qSZXRsuXBERCSvMHv8KoMfd/wr4QeFxqYPAde4+A5gH/J2ZnR5i\nmbHU29sbdQihKP5oKf7oJDn2MMIk/oXAmsL9NcB/KW3g7i+5++bC/T8B24GTQywzlpL+5VH80VL8\n0Uly7GGESfwT3f3lwv2XgYlDNTazqcAc4LEQyxQRkZCOGepJM+sBTizz1MriB+7uZuZDvM5bgW8D\nf1/Y8xcRkYiY+6D5euj/aPY0kHP3l8zsJOAhd59ept1I4P8CD7r77YO8VrAgREQyzt2t2v8z5B7/\nMNYBS4HVhX//T2kDMzPg68BTgyV9CBa4iIgEE2aPfwLwv4FTgWeBD7r7XjM7GbjH3d9vZucAjwBb\ngb4Ffcbdu0JHLiIigQRO/CIikkyRjNxN6uAvM1tgZk+b2Q4zWz5Imy8Vnt9iZnMaHeNQhovfzC4r\nxL3VzH5sZrOiiHMwlaz/Qrv3mNkhM1vSyPiGUuF3J2dmmwrf994GhzikCr47LWbWZWabC/F/JIIw\nyzKzb5jZy2b2xBBt4rzdDhl/oO3W3Rt+A24FPl24vxz4fJk2JwLvKtx/K/BL4PQo4i3EMALYCUwF\nRgKbS+MBLgTWF+6/F/hpVPEGjP9s4LjC/QVJi7+o3Q/Jdyi4OOq4q1j344BtwOTC45ao464y/k7g\nc32xA3uAY6KOvRDPfyLflfyJQZ6P7XZbYfxVb7dRzdWTxMFfZwE73f1Zdz8IrAUWlbTpf1/u/hgw\nzsyGHN/QQMPG7+6Puvu+wsPHgMkNjnEolax/gE+S7zr8+0YGN4xKYv9b4H53fx7A3Xc3OMahVBL/\ni8DYwv2xwB53P9TAGAfl7j8CXhmiSZy322HjD7LdRpX4kzj4axKwq+jx84W/DdcmLsmzkviLfQxY\nX9eIqjNs/GY2iXxC+krhT3E5gVXJun8HMKFQ3nzczD7csOiGV0n89wAzzOwFYAvw9w2KrRbivN1W\nq6LtNkx3ziGlcPBXpUmktGtqXJJPxXGY2fuAK4H59QunapXEfzuwovCdMo7+LKJSSewjgTOB84DR\nwKNm9lN331HXyCpTSfz/CGx295yZvR3oMbPZ7v5qnWOrlbhutxWrZrutW+J397bBniucqDjRjwz+\n+t0g7UYC9wPfdPejxgk02G+BU4oen0J+z2CoNpMLf4uDSuKncGLoHmCBuw91eNxolcQ/F1ibz/m0\nABeY2UF3X9eYEAdVSey7gN3uvh/Yb2aPALOBOCT+SuL/j8AtAO7+jJn9BjgNeLwhEYYT5+22ItVu\nt1GVevoGf0HIwV8N9DjwDjObamajgEvIv49i64ArAMxsHrC3qKQVtWHjN7NTge8Al7v7zghiHMqw\n8bv729wP/jT5AAAA9klEQVR9mrtPI3+U+F9jkPShsu/Od4FzzGyEmY0mf5LxqQbHOZhK4n8a+GuA\nQn38NODXDY0yuDhvt8MKtN1GdJZ6AvB94FfABmBc4e8nA/+vcP8c4DD5HgSbCrcFEZ9dv4B876Kd\n5AeiAVwNXF3U5suF57cAZ0YZb7XxA18j3xujb33/LOqYq13/RW3vBZZEHXOV353ryffseQK4NuqY\nq/zutADfK3zvnwD+NuqYi2L/FvACcID8kdWVCdtuh4w/yHarAVwiIhmjSy+KiGSMEr+ISMYo8YuI\nZIwSv4hIxijxi4hkjBK/iEjGKPGLiGSMEr+ISMb8f7fOyehc9EQeAAAAAElFTkSuQmCC\n",
      "text/plain": [
       "<matplotlib.figure.Figure at 0x7f1b28955650>"
      ]
     },
     "metadata": {},
     "output_type": "display_data"
    },
    {
     "data": {
      "image/png": "iVBORw0KGgoAAAANSUhEUgAAAX4AAAEACAYAAAC08h1NAAAABHNCSVQICAgIfAhkiAAAAAlwSFlz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\n2cDi6Cqp8wAAAABJRU5ErkJggg==\n",
      "text/plain": [
       "<matplotlib.figure.Figure at 0x7f1b125a5250>"
      ]
     },
     "metadata": {},
     "output_type": "display_data"
    },
    {
     "data": {
      "image/png": "iVBORw0KGgoAAAANSUhEUgAAAXQAAAEACAYAAACj0I2EAAAABHNCSVQICAgIfAhkiAAAAAlwSFlz\nAAALEgAACxIB0t1+/AAAHb5JREFUeJzt3X+QHPV55/H3s4CiFZIQCzKEH2H5ZbBVJSGEHbAgGmyv\nFqiLQFDnK0BhbV9F/LIgvgULrEKsqdURgzkg5wAHibECIVzdyRD5gF3J2KNDMXFMIQERBgMmNpyN\nYiHLQrBIQvvcHzO7ml3tzE73dM9093xeVVOaHz3dz/Son/nu09/+fs3dERGR9GtpdAAiIhINJXQR\nkYxQQhcRyQgldBGRjFBCFxHJCCV0EZGM2L/WFZjZvwHbgT3Abnf/dK3rFBGR4GpO6IADOXffGsG6\nREQkpKhKLhbRekREJKQoEroDPzCz58zszyNYn4iIhBBFyWWuu//GzKYDa83sFXd/JoL1iohIADUn\ndHf/TfHf35rZY8CngeGEbmYaLEZEJAR3D1TOrqnkYmaTzGxK8f6BwHzgpTGCSu3t5ptvbngMzRp/\nmmNX/I2/pT3+MGptoR8GPGZmQ+v6e3dfU+M6RUQkhJoSuru/CZwSUSwiIlIDXSk6jlwu1+gQapLm\n+NMcOyj+Rkt7/GFY2FpN1Rsw87i3ISKSNWaGBzwpGkW3RRFJmeJ5L0mIqBq9SugiTUp/OSdDlD+u\nqqGLiGSEErqISEYooYuIZIQSuohIRiihi0jT2LhxI3PmzOHAAw/ktNNO44UXXii77Pbt21m0aBHT\np09n+vTpLFq0iPfee2/49cWLF3PyySez3377sXLlyhHvveKKK5gyZcrwbeLEiUydOjW2zzVECV1E\nqjYwMMA999zD8uU38/TTT8e+vY8++iiyde3atYvzzz+fyy67jG3bttHV1cX555/P7t27x1y+p6eH\nLVu28Oabb/LGG2+wefNmenp6hl8/5ZRTuOeeezj11FP36aly33338d577w3fLr74Yr7whS9E9lnK\nUUIXkWFvvPEGd911F/feey9bt46chGznzp2cfvrnuO66p+jtdRYs+DLf/va9kcfQ3t7ObbfdxsyZ\nM5kyZQqDg4ORrDefz7Nnzx6uvfZaDjjgAJYsWYK788Mf/nDM5Tdt2sQFF1zA5MmTmTp1KhdccAGb\nNm0afv2qq67is5/9LBMnTqy43ffff59Vq1bR1dUVyeeoRAldRAD46U9/yqxZp3PDDa/S3b2OT37y\nNDZv3jz8+uOPP84vfjGBgYHVuN/CBx/8gOuvv2FEf/atW7fS2XkhBx7YxlFHncyaNeHG6nv00Ud5\n6qmn2LZtGy0t+6apmTNncvDBB495+8pXvjLmOjdt2sTMmTNHPDdr1qwRSbpUZ2cnq1atYtu2bfzu\nd79j1apVnHfeeYE/y6pVq/jYxz7GWWedFfi9QenCIhEB4JprlvH++7cDXwRg9+5ruP32u/jWt24F\nCjXlwcF29s44+Ufs3j3Anj172H//QipZuHARzz7bzu7dr/LBBxtYuPBSnn9+PSeddFLVcZgZ11xz\nDUceeWTZZV588cXAn2/Hjh0cdNBBI56bOnXqiLp4qauvvpqnnnqKQw45BIDPf/7zXHnllYG3u3Ll\nSi677LLA7wtDLXQRAWDLlq3AJ4Yff/TRybzzzrvDj88++2zgCWA18DYTJizhT/6kcziZ79mzh/Xr\n17J7953AdArTIyxg3bp1gWM5+uija/gkY5syZQrbt28f8dzvf//7sicrL730Uk466SR27NjB9u3b\nOe6441i0aFGgbf7qV79i3bp1SugiUl8LFsyntXU58A7wCpMm3c0FF8wffv2EE07giSf+F8cdt5yp\nUz/F/Pnb+d73Hhp+vaWlhYkTpwBvFJ9xWlpeZ9q0aYFjGe9y+BkzZozoRVJ6u+qqq8q+Z3TL/sUX\nX2TGjBljLt/X18fll19Oa2srBx54IJdffjlPPvlkoM/x0EMPceaZZ9Le3h7ofaHVYdYNF5FkGeu4\n3Llzp3/pS1d6a+s0nzr1ML/ttv8WeL333/83PmnSkb7ffl/zSZPm++zZZ/rOnTsDraO9vd2ffvrp\nwNsez65du/yYY47xu+++2z/88EO/++67vb293Xfv3j3m8meccYYvWbLEBwYG/IMPPvArr7zS586d\nO2J9AwMD/pnPfMYfeOABHxgY8MHBwRHr+PjHP+4PPvhgxbjK5cji88HybdA3BN6AErpI4sR5XD7z\nzDPe29vrDzzwgH/44YeB3x9XQnd337Bhg8+ZM8dbW1t9zpw5vnHjxuHXHn74YZ8xY8bw41dffdU7\nOzu9ra3N29ra/Nxzz/XXX399+PV58+a5mXlLS4ubmZuZr1u3bvj1H//4xz558mTfsWNHxZiiTOga\nD12kCRXH2m50GEL57yLMeOiqoYuIZIQSuohIRiihi4hkhBK6iEhGKKGLiGREJAndzPYzsw1m9v0o\n1iciIsFFNZbLtcDLwJSI1iciMYtycmJJhpoTupkdBZwHrAD+S80RiUjs1Ac9m6IoudwJXA9EM2ix\niIiEUlML3cz+A/Dv7r7BzHLlliud5SOXy5HLlV1URKQp5fN58vl8Teuo6dJ/M/uvwJ8BHwETganA\nKne/rGQZXfovIhJQmEv/IxvLxczmAde5+5+Oel4JXUQkoCSM5aLMLSLSIBptUUQkgZLQQhcRqYv+\n/n7mz7+I+fMvor+/v9HhJIJa6CKSOv39/Sxc2MXAwDcBaG1dymOPrQTgjjvuB6C7ezGdnZ0Ni7FW\nDT0pWnYDSugiErH58y9i7doFQFfxmZXMnv0gr7zyyj5JPq1JXSUXESkr6yWKX/7y7WIy7wIKrfeh\n1nqziGosFxFJsNElivXru1Ldeu3uXsz69V0MDBQet7Yu5ZhjTmDr1sbG1WgquYg0gbFKFB0dq1mz\nZlUjw6pJf3//iHo5MGZdPa0/WmFKLmqhi0gqdXZ27pOsH3tsZUmST28yD0stdJEmUK5XSLMlvDRR\nLxcRKWt0iULJPNmU0EVEMkLdFkUkNlnv9pgFaqGLyLhUg68/lVxEJBZZ7PaYdCq5iIg0MSV0ERlX\nd/diWluXAiuBlbS2Lh2+mKcRVM8fm0ouIlKVpHR7bJZ6vmroIpJ5zVLPVw1dRKSJKaGLNLkk1aPH\ni6W/v58tW96lpaUbuI4k1PMTxd1jvRU2ISJJ1NfX562thzl81+G73tp6mPf19SUyltGvt7Qc7LNn\nz/W+vj7v6+vzjo4LvaPjwobFH7Vi7gyWb4O+IfAGlNBFahJnsurouLCYIL14+653dFwY6TaiiqXc\n60n6UYpSmISu4XNFEixrE1PE4Y477i+ZqQgGBgrPNeM+Ug1dJMFGJqvop1VLUv/y8WJJUqxJVVML\n3cwmAuuAPwAmAP/o7jdGEZiIxK+zszMxk0KMF0ul10dPR9fdvbK+wSdEzf3QzWySu39gZvsD64Hr\n3H19yete6zZEmlWzXERTq6Rc9BSlhl5YZGaTKLTWu9z95ZLnldBFapDFZCXja0hCN7MW4HngeOBe\nd//aqNeV0EVEAmrIJNHuPgicYmYHAf1mlnP3fOkyPT09w/dzuRy5XK7WzYpIjPRXQf3l83ny+XxN\n64h0LBczuwkYcPdvlTynFrpIiqhunwx1H8vFzA41s2nF+61AB7ChlnWKSGPF3VVS4lNryeUPgZXF\nOnoL8JC7P117WCIiEpSGzxVpcqPr5UAsJRfV5YPReOgiEki5ejkQafJVXT44JXQRCaRek0U0y6QU\nUdIEFyIiTUwJXaSJjR7wasKEv2DLlncjn+xCA2vVh0ouIgkX98nEofVv2bKZTZt+zq5dtwPR17mr\n/Rw6eVoQpuSiCS5EEqyekzckYbKLrE5WEQYhJrhQyUWaQpLmzQyi2S7yabbPGzUldMm8oS5za9cu\nYO3aBSxc2JWqpF4vYercaf2hzKygTfqgN1RykQZLQikhrHqXIILMXxpHbCq57IXmFBXJlnrPKNTZ\n2Vn1+uOYyzNJMyilkRK6ZF539+JUT1EWJMlmQbN93iip26I0BXWFi54u54+XLv0XKZG2JJ62eCGd\nMaeFErpIUdpaj2mLV+KnhC5SlLbBoNIWr8RPg3OJJJD6agenfRZS0H6OQW+oH3rqBOmLnFRJ6c9c\nKY7S/dzb2xtrvEn8TsvFlJTvrtEI0Q9dCV1GyNLBlIQkVu6iprH2c29vbyzxJvE7rRRTmi8Ei5IS\nutQsqwdTo5J7uf1Zz/2cxO+0Ukz7vtbtbW3HJ+qvi3oIk9BVQ5fMa+RYLhoHPLiR++w64AG2br1J\n4/BUI+gvQNAbaqGnShL/PK9Vo1uoY/11UM/9nMTvdLyYhvZZW9vxifvrol5QyUWikITa82i1xNTo\nhF5OPfdzWr/TpH539aCELqlTzUFdawsziS3UtGnUD0Izf3d1T+jA0cCPgE3AvwLXjLFM/J9cUmF0\nUqj2YI2ilZbEFmqjBN0XjU6qzfrdNSKhHw6cUrw/GXgV+MSoZeL/5JJ4YyWF2bPnVZWom/nP7qiF\nSc7a/40RJqHX1MvF3d9x943F+zuAnwFH1LJOyaaxphb75S/fruq9ae8pkqSrHjXFW7ZFNh66mbUD\ns4GfRLVOybZjjjmcgYGl445TnuZJD0YPurV+fVfqBt1K+3jyzSSSwbnMbDKQB3rd/fFRr/nNN988\n/DiXy5HL5WrepqRLudEEgViGX03KsK5JG3Qr7KiOSdmfWZbP58nn88OPv/GNb+ABB+eKohfLAUA/\n8BdlXo+vyCSRqNdJp3puJyk9I5JYf+7r6/PZs+d5W9vxPnv23KY60ZgmNOCkqAF/B9xZYZm4P7fU\nIEnJLypJSqJJ3L9JjEn2FSah13rp/1xgEXC2mW0o3s6pcZ1SRzpJFq+h+n9Hx2o6OlYnon6u7zy7\najop6u7r0ZjqmRakdpqUOmvSTuJp0mOpm6BN+qA3VHJJtPHG6672T/Ok/RlfaaztZrxIpVTSvisZ\nG7r0X8Iol+SC1KKTVLcuR4lsL/2wJV+YhB5ZP3RJr2YpCYysHcPAQOG5ZvjsozXLd95slNClrCC1\n6KTVrUWaUSQXFlXcgJnHvQ2JTxpPipYT9qIakUYwMzzghUVK6DJCmKSc9EReKk2xVlKvz5GV/ZVG\nYRK6TopmWD2GSdWJxvqr1z7Xd9tYqJeLDKnXMKlp6N2SNfXa5/puGytMQtdFQRmlqwFrk6Qhb0Wq\nFvQXIOgNtdAbIkzrKu0ll6j6VifpM41FJZfmgEouMiTswRgmKdaaSKNIxFEmn7ClhixO+qwLkBpH\nCV1GSMPBGFUijrLeu++6ur2t7fhYJ7IWGU0JXVInqkQcZUIfmZy7HaaOm6h1AlGiFiah66So1FVc\nJxujnHe0dMjbtrbHgb9CJ5clFYL+AgS9oRa6FI1Vlujt7Y2sVBFHianalndfX59PmDDN4XSH033C\nhGkquYyShhJgkqCSi0SlnskxyQd6tbXxQkKfPrzchAnTE/dZGknnGIJTQpeqVUqicR18aa0zV/OD\nk9bPVi/aP8GFSegabbEJjR6kav36rhGDVMU1zGxaR2SMc6hZjZUikQr6CxD0hlroiTNeaynO1lSS\nyyu1SMJFWUnetyq5BIdKLs0l7AE8XsJu1MGX5IRUjaDxx9fVMpkJM+3fb70poTeRWg7gat5b74Mv\nDQkpavFeDKUaddopoTeRWg/gpLWWmjEhJWG4AkmuMAldJ0WblOaUbLyhC5j2nhQNP3tSWk84S8SC\n/gKMvgHfATYDL5V5Pe4fssSLozWctRLFeJ8naX9RJJH2UbbQiJILcBYwWwl9bHEm3qwdwOU+T9Z+\nvBoha/9XmkFDEnphu7QroY9Ntc3aaR/WRj+I6RQmoWtwriak2Xj2leV9otmrmkddTor29PQM38/l\ncuRyuXpsNhGSdrJqvKtEkyjufZjGfSLZk8/nyefzta0kaJN+rBsquVSUpPplNeWLSrXsRn2OOLed\n9ZKOSi7phLot1kfQ8TfS1EWwXGsVaGgrNk37MGmi7B4pCRf0F2D0DfgH4NfATuAt4EujXo//p6yO\n0t7aGS/+cq3VLLdi0/6dSjbRiJOi7n6xux/h7n/g7ke7+4O1rjPJ0n6CqXQ2no6O1bG2spN8orE0\nNqBu+0QkVkF/AYLeyFgLPcstVffyrdWgrdje3l5vaTnECzP4dCeq1asWuaQBGsslfklJBnGeJKz1\npGhfX5+3tBw8vI/gMIfuxPzwZf1HWbIhTELXSdGAknCCacWKFSxffgeDg3cC0Z+gLHcCstoTk3fc\ncX8xtq6SZ+8DjogkPhEZmxJ6CI3scdHf38/y5XeOSJhRzSgUp5aW1+ju7ml0GEDyrg0QiYoSesoU\nWr8nhnrv6O6WQ+sbehzVD8LohNnS8lVuuaU7MT84Y/2VBQyfINVUcJJaQWs0QW9krIbeaIX6b3ex\nLj1Uo57qvb29Fd83uvY/YcK0EbPUR30uIEkXU40nKedFREoRooZuhffFx8w87m00k/7+fs4772IG\nB78M/BPwGpCjo8NZs2ZV2ffNn38Ra9cuYG9d+wzgipLHhW57ldaRVfvum+bdF5IcZoa7W5D3aHCu\nlOns7GTWrE9SSOZHAH8P/GljgxKRRFANPYVuvfWm4mX4VwDvVHVSb3Rde8KEV4Dr2bWr8Lil5avM\nm9cda9xJpZOkkhUquaRU0PFkxnrPc889V+wxcyIwl9bWh5vmKsl6nSAWCStMyUUJPeHCJO5qNWvt\nePQAZK2tS5vmh0zSQzX0jBlKPGvXLmDt2gUsXNhVdkyUscZNSfJYKo2U9vF4RMpRDT3BRiaewgVE\nN9546z4tybGGvF22bAkrVvz3isPdqnYskjFB+zkGvaF+6KGNNeZIS8sh+/SRHmu5trbjqxqvJKr+\n4up3LhItNJZLtnR3L+bppy9mcHDomaUMDn4x0sv8ww5jUFrbnzfv1HH/GkiSJIzHIxKLoL8AQW+o\nhV6T2bPnFoegvdChr+yUcaNbnL29vbG1QkdvrzBMrkYvFIkSaqFnTzV9zsu1OE877bRYWqGja/uD\ng/dFsl4RqY26LaZAnF0Xw9i3u+N1tLR8Z3g4X3UDFKmd+qGnVNIS9njG6se9bNkS1q17HkjHZxBJ\nOiX0GMSdbNN6kUvafoRE0iZMQtdJ0Qqi7N5WrltfEqdDS1MXRJGsQidFozXWhT1hugyOdeFPUlvh\naYpVREZSQq+DSj8MSbtaM6ofMRGpv5rHcjGzc8zsFTN7zcyWRhFUUnR3L6a1dSmwElhZTLaLI93G\nUJfDjo7VdHSsDt0a1rgtIlJrfXw/4HWgHTgA2Ah8YtQydag2xSeKenLcl5pHXevXZfEijUe9p6Az\nszOAm939nOLjG4oZ/C9LlvFatpEVaRoGVz1YRBovTC+XWmvoRwJvlTx+G/jjGteZSWHHTGmENMUq\nInvVmtCranr39PQM38/lcuRyuRo3K6VqPbE61CLfsmUzsD+HHnqIWuYidZbP58nn8zWto9aSy+lA\nT0nJ5UZg0N2/WbKMSi41qqYEErZMsreb4iIKJ3+/BaTnAieRrKr7laJmtj/wKvA54NfAvwAXu/vP\nSpZRQq9B3FeS7q2/rwaabzo6kaSq+xR07v4R8BWgH3gZ+J+lyVxqN7Jf+OEMDBzLJZdcra6JIrKP\nmvuhu/tT7n6Su5/g7rdGEVRW1dZXvJ9CUr+CrVtvqji/aBB7+9ofC1xHnH3uRSReGpyrTlasWMHy\n5XcyOHgiMJfW1oerKp3sLbkcC1xBHCURnRQVSR6NtphQ/f39nHfexcPjhcNSYBEdHW9WlZD7+/u5\n5JKr2br1JlTjFmkOjeiHLlW44477i8m8q+TZ+4Ajqnp/Z2cnjzzy18WWeuG5Ro/5IiLJU3MNXfYK\nUiNvaXktUI06qjFfRCS7VHKJSKXuhaNfa2n5Krfc0s2yZcsaGbKIJJhq6A003ngqGh9FRIJQDT3B\nND6KiMRNCT0iSZuoQkSaj0ouEVJZRUSiohq6iEhG1H0sFxERSQ4ldBGRjFBCFxHJCCX0Bqlt5EUR\nkX3ppGgDxD1phYikn3q5pMR4V5WKiKiXi4hIE1NCr0It9e6x3rt3liDNDiQi0VHJZRy11LvHG4FR\nV5WKSDmqocdgZL27H+ihre23PPLIX4+bhFUrF5GwVEOPVTyTNIuIREWjLY5j7yiKxwLfZKi1PTBQ\nmFquUitdIzCKSD2phT6Ooanf2tp+G/q9mjZOROohdA3dzP4j0AOcDHzK3Z8vs1yqa+hDdDGQiNRT\nXU+KmtnJwCDwP4DurCd00HjnIlI/DenlYmY/okkSuohIvaiXi4hIE6vYy8XM1gKHj/HS1939+9Vu\npKenZ/h+Lpcjl8tV+1YRkaaQz+fJ5/M1rUMlFxGRBGpkySXQRkVEJHqhE7qZLTSzt4DTgSfM7Kno\nwhIRkaA0louISAKpl4uISBNTQhcRyQgldBGRjFBCFxHJCCV0EZGMUEIXEckIJXQRkYxQQhcRyQgl\ndBGRjFBCFxHJCCV0EZGMUEIXEckIJXQRkYxQQhcRyQgldBGRjFBCFxHJCCV0EZGMUEIXEckIJXQR\nkYxQQhcRyQgldBGRjFBCFxHJiNAJ3cxuN7OfmdkLZvY9MzsoysBERCSYWlroa4AZ7j4L+DlwYzQh\nJUs+n290CDVJc/xpjh0Uf6OlPf4wQid0d1/r7oPFhz8BjoompGRJ+3+KNMef5thB8Tda2uMPI6oa\n+peBJyNal4iIhLB/pRfNbC1w+Bgvfd3dv19cZhmwy90fiSE+ERGpkrl7+DebfRH4c+Bz7v5hmWXC\nb0BEpIm5uwVZvmILvRIzOwe4HphXLpmHCUhERMIJ3UI3s9eACcDW4lPPuvtVUQUmIiLB1FRyERGR\n5Ij8SlEzazOztWb2czNbY2bTxljmaDP7kZltMrN/NbNroo4jCDM7x8xeMbPXzGxpmWX+qvj6C2Y2\nu94xVjJe/GZ2aTHuF83sn8xsZiPiLKea/V9c7lNm9pGZXVjP+MZT5f+fnJltKP5/z9c5xIqq+P9z\nqJn1mdnGYvxfbECYYzKz75jZZjN7qcIyST52K8Yf+Nh190hvwG3A14r3lwJ/OcYyhwOnFO9PBl4F\nPhF1LFXGux/wOtAOHABsHB0LcB7wZPH+HwP/3IhYa4j/DOCg4v1z0hZ/yXI/BP4PcFGj4w64/6cB\nm4Cjio8PbXTcAePvAW4dih14F9i/0bEX4zkLmA28VOb1xB67VcYf6NiNYyyXBcDK4v2VwAWjF3D3\nd9x9Y/H+DuBnwBExxFKNTwOvu/u/uftu4FHg/FHLDH8md/8JMM3MDqtvmGWNG7+7P+vuvy8+TNpF\nYNXsf4AlwP8GflvP4KpQTfyXAKvc/W0Ad99S5xgrqSb+3wBTi/enAu+6+0d1jLEsd38G+F2FRZJ8\n7I4bf9BjN46Efpi7by7e3wxU3Hlm1k7hF+onMcRSjSOBt0oev118brxlkpIUq4m/1H8mWReBjRu/\nmR1JIcncW3wqSSd+qtn/JwJtxTLjc2b2Z3WLbnzVxP8AMMPMfg28AFxbp9iikORjN6hxj91Q3RYr\nXHC0rPSBu3ulfuhmNplCq+vaYku9EapNDqO7XyYlqVQdh5mdTeGq3rnxhRNYNfHfBdxQ/P9k7Ptd\nNFI18R8AnAp8DpgEPGtm/+zur8UaWXWqif/rwEZ3z5nZ8cBaM5vl7u/FHFtUknrsVq3aYzdUQnf3\njgob3mxmh7v7O2b2h8C/l1nuAGAV8LC7Px4mjoj8P+DoksdHU/gVr7TMUcXnkqCa+CmeTHkAOMfd\nK/2JWm/VxD8HeLSQyzkUONfMdrv76vqEWFE18b8FbHH3AWDAzP4vMAtIQkKvJv7PACsA3P0NM3sT\nOAl4ri4R1ibJx25Vghy7cZRcVgNdxftdwD7JutjK+lvgZXe/K4YYgngOONHM2s1sAvCfKHyGUquB\nywDM7HRgW0lZqdHGjd/M/gj4HrDI3V9vQIyVjBu/ux/n7se6+7EU/qK7MiHJHKr7//OPwJlmtp+Z\nTaJwcu7lOsdZTjXxvwJ8HqBYfz4J+EVdowwvycfuuAIfuzGctW0DfkBhSN01wLTi80cATxTvnwkM\nUjijvqF4O6eBZ5rPpdDT5nXgxuJzlwOXlyzz7eLrLwCnNirWMPEDf0OhZ8LQvv6XRsccdP+XLPsg\ncGGjYw7x/+c6Cj1dXgKuaXTMAf//HAp8v/h//yXgkkbHXBL7PwC/BnZR+Evoyyk7divGH/TY1YVF\nIiIZoSnoREQyQgldRCQjlNBFRDJCCV1EJCOU0EVEMkIJXUQkI5TQRUQyQgldRCQj/j9uIA59ccFe\nswAAAABJRU5ErkJggg==\n",
      "text/plain": [
       "<matplotlib.figure.Figure at 0x7f1b1248afd0>"
      ]
     },
     "metadata": {},
     "output_type": "display_data"
    },
    {
     "data": {
      "image/png": "iVBORw0KGgoAAAANSUhEUgAAAX4AAAEACAYAAAC08h1NAAAABHNCSVQICAgIfAhkiAAAAAlwSFlz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\n4hcRaTJK/CIiTUaJX0SkySjxi4g0mf8PBvFh22UkE9wAAAAASUVORK5CYII=\n",
      "text/plain": [
       "<matplotlib.figure.Figure at 0x7f1b1256ca90>"
      ]
     },
     "metadata": {},
     "output_type": "display_data"
    },
    {
     "data": {
      "image/png": "iVBORw0KGgoAAAANSUhEUgAAAXYAAAEACAYAAACnJV25AAAABHNCSVQICAgIfAhkiAAAAAlwSFlz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\nRU5ErkJggg==\n",
      "text/plain": [
       "<matplotlib.figure.Figure at 0x7f1b1232a1d0>"
      ]
     },
     "metadata": {},
     "output_type": "display_data"
    }
   ],
   "source": [
    "for Y in [Y0, Y1, Y2, Y3, Y4]:\n",
    "    plt.scatter(X,Y, label=\"r = %.3f\" % stats.pearsonr(X, Y)[0])\n",
    "    plt.legend()\n",
    "    plt.show()"
   ]
  },
  {
   "cell_type": "markdown",
   "metadata": {},
   "source": [
    "* Linearno zavisne varijable imaju $\\rho$ blizu $1$ ili $-1$. Međutim, **nelinearno** zavisne varijable mogu imati $\\rho$ blizu nule!"
   ]
  },
  {
   "cell_type": "markdown",
   "metadata": {},
   "source": [
    "# Statistička nezavisnost\n",
    "\n",
    "* Varijable $X$ i $Y$ su **nezavisne** akko:\n",
    "$$\n",
    "P(X,Y) = P(X) P(Y)\n",
    "$$\n",
    "ili\n",
    "$$\n",
    "P(X|Y) = P(X) \\qquad \\text{i} \\qquad P(Y|X) = P(Y)\n",
    "$$\n",
    "\n",
    "\n",
    "* Znanje o ishodu varijable $Y$ ne utječe na vjerojatnost ishoda varijable $X$ (i obrnuto)\n",
    "\n",
    "\n",
    "* Za nezavisne varijable $X$ i $Y$ vrijedi:\n",
    "$$\n",
    "\\begin{align*}\n",
    "\\mathbb{E}[XY] &= \\mathbb{E}[X]\\, \\mathbb{E}[Y]\\\\\n",
    "\\mathrm{Var}(X+Y) &= \\mathrm{Var}(X) + \\mathrm{Var}(Y)\\\\\n",
    "\\mathrm{Cov}(X, Y) &= \\rho_{X,Y} = 0\n",
    "\\end{align*}\n",
    "$$\n",
    "\n",
    "* Nezavisne varijable su nekorelirane, ali obrat općenito ne vrijedi: nelinarno zavisne varijable mogu imati nisku korelaciju\n",
    "\n",
    "\n",
    "* Varijable $X$ i $Y$ su **uvjetno nezavisne** uz danu varijablu Z, što označavamo kao $X\\bot Y|Z$, akko\n",
    "$$\n",
    "P(X|Y,Z) = P(X|Z)\n",
    "$$\n",
    "ili\n",
    "$$\n",
    "P(X,Y|Z) = P(X|Z) P(Y|Z)\n",
    "$$\n",
    "\n",
    "* Jednom kada nam je\n",
    "poznat ishod varijable $Z$, znanje o ishodu varijable $Y$ ne utječe na ishod varijable $X$ (i obrnuto)\n",
    "\n",
    "* Npr.:\n",
    "  * $X = \\textrm{'Student je primljen na FER'}$\n",
    "  * $Y = \\textrm{'Student je primljen na PMF-MO'}$\n",
    "  * $P(Y|X) \\neq P(Y)$  (varijable nisu nezavisne)\n",
    "  * $Z = \\textrm{'Student je sudjelovao na matematičkim natjecanjima'}$\n",
    "  * $X\\bot Y|Z$\n",
    "  * $P(Y|X,Z) = P(Y|Z)$"
   ]
  },
  {
   "cell_type": "markdown",
   "metadata": {},
   "source": [
    "# Matrica kovarijacije\n",
    "\n",
    "* $\\mathbf{X} = (X_1,\\dots,X_n)$ je $n$-dimenzijski slučajan vektor\n",
    "\n",
    "\n",
    "* Matrica kovarijacije $\\Sigma$:\n",
    "$$\n",
    "\\Sigma_{ij} = \n",
    "\\mathrm{Cov}(X_i, X_j) =\n",
    "\\mathbb{E}\\big[(X_i-\\mathbb{E}[X_i])(X_j-\\mathbb{E}[X_j])\\big]\n",
    "$$\n",
    "\n",
    "\n",
    "* Matrično:\n",
    "$$\n",
    "\\begin{align*}\n",
    "\\Sigma &= \\begin{pmatrix}\n",
    "\\mathrm{Var}(X_1) & \\mathrm{Cov}(X_1,X_2) & \\dots & \\mathrm{Cov}(X_1, X_n)\\\\\n",
    "\\mathrm{Cov}(X_2, X_1) & \\mathrm{Var}(X_2) & \\dots & \\mathrm{Cov}(X_2, X_n)\\\\\n",
    "\\vdots & \\vdots & \\ddots & \\vdots \\\\\n",
    "\\mathrm{Cov}(X_n, X_1) & \\mathrm{Cov}(X_n, X_2) & \\dots & \\mathrm{Var}(X_n)\\\\\n",
    "\\end{pmatrix}\n",
    "\\end{align*}\n",
    "$$\n",
    "Simetrična matrica!\n",
    "\n",
    "\n",
    "* Ekvivalentno:\n",
    "\n",
    "\\begin{equation*}\n",
    "\\Sigma = \\mathbb{E}\\Big[(\\textbf{X}-\\mathbb{E}[\\textbf{X}])(\\textbf{X}-\\mathbb{E}[\\textbf{X}])^{\\mathrm{T}}\\Big]\n",
    "\\end{equation*}\n",
    "\n",
    "\n",
    "* Ako su $X_1...X_n$ međusobno nezavisne, onda $\\Sigma = \\mathrm{diag}(\\sigma_i^2)$\n",
    "\n",
    "\n",
    "* Ako $\\sigma^2_i = \\sigma^2$, onda $\\Sigma = \\sigma^2 \\mathbf{I}$ (izotropna kovarijanca)\n",
    "\n"
   ]
  },
  {
   "cell_type": "markdown",
   "metadata": {},
   "source": [
    "# Teorijske razdiobe\n",
    "\n",
    "* Diskretna značajka:\n",
    "  * Jednodimenzijska:\n",
    "    * Binarna: **Bernoullijeva razdioba**\n",
    "    * Viševrijednosna: **Kategorička (multinomijalna) razdioba**\n",
    "  * Višedimenzijska:\n",
    "    * Konkatenirani vektor binarnih/viševrijednosnih varijabli\n",
    "* Kontinuirana značajka:\n",
    "  * Jednodimenzijska: **univarijatna normalna (Gaussova) razdioba**\n",
    "  * Višedimenzijska: **multivarijatna normalna (Gaussova) razdioba**\n",
    "\n",
    "### Bernoullijeva razdioba\n",
    "\n",
    "\\begin{equation*}\n",
    "P(X=x | \\mu)=\n",
    "\\begin{cases}\n",
    "\\mu & \\text{ako $X=1$}\\\\\n",
    "1-\\mu & \\text{inače}\n",
    "\\end{cases}\n",
    "\\qquad=\n",
    "\\mu^{x}(1-\\mu)^{1-x}\n",
    "\\end{equation*}\n",
    "\n",
    "\\begin{eqnarray*}\n",
    "\\mathbb{E}[X] &=& \\mu\\\\\n",
    "\\mathrm{Var}(X) &=& \\mu(1-\\mu)\n",
    "\\end{eqnarray*}\n",
    "\n"
   ]
  },
  {
   "cell_type": "code",
   "execution_count": 4,
   "metadata": {
    "collapsed": false
   },
   "outputs": [
    {
     "name": "stderr",
     "output_type": "stream",
     "text": [
      "/usr/local/lib/python2.7/dist-packages/matplotlib/collections.py:650: FutureWarning: elementwise comparison failed; returning scalar instead, but in the future will perform elementwise comparison\n",
      "  if self._edgecolors_original != str('face'):\n"
     ]
    },
    {
     "data": {
      "image/png": "iVBORw0KGgoAAAANSUhEUgAAAXcAAAEACAYAAABI5zaHAAAABHNCSVQICAgIfAhkiAAAAAlwSFlz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\nYII=\n",
      "text/plain": [
       "<matplotlib.figure.Figure at 0x7f1b1235c6d0>"
      ]
     },
     "metadata": {},
     "output_type": "display_data"
    }
   ],
   "source": [
    "mu = 0.3\n",
    "p = stats.bernoulli(mu)\n",
    "xs = sp.array([0,1])\n",
    "\n",
    "for x in xs:\n",
    "  plt.plot(x, p.pmf(x), 'bo', ms=8, label='bernoulli pmf')\n",
    "  plt.vlines(x, 0, p.pmf(x), colors='b', lw=5, alpha=0.5)\n",
    "plt.xlim(xmin=-1, xmax=2)\n",
    "plt.ylim(ymax=1)\n",
    "plt.show()"
   ]
  },
  {
   "cell_type": "code",
   "execution_count": 5,
   "metadata": {
    "collapsed": false
   },
   "outputs": [
    {
     "data": {
      "text/plain": [
       "array([0, 0, 0, 0, 0, 1, 1, 0, 0, 0, 0, 0, 1, 1, 0, 0, 0, 1, 0, 1, 1, 1, 0,\n",
       "       0, 0, 0, 1, 0, 0, 0, 0, 0, 0, 1, 0, 0, 0, 0, 1, 0, 0, 0, 1, 0, 1, 0,\n",
       "       0, 0, 0, 1, 1, 0, 1, 1, 0, 1, 1, 1, 0, 0, 0, 0, 0, 0, 1, 0, 0, 1, 1,\n",
       "       0, 0, 0, 0, 0, 1, 0, 0, 0, 0, 0, 0, 1, 0, 0, 0, 0, 0, 0, 0, 1, 0, 0,\n",
       "       1, 0, 1, 0, 0, 1, 1, 0])"
      ]
     },
     "execution_count": 5,
     "metadata": {},
     "output_type": "execute_result"
    }
   ],
   "source": [
    "X = p.rvs(size=100); X"
   ]
  },
  {
   "cell_type": "code",
   "execution_count": 6,
   "metadata": {
    "collapsed": false
   },
   "outputs": [
    {
     "data": {
      "text/plain": [
       "0.29999999999999999"
      ]
     },
     "execution_count": 6,
     "metadata": {},
     "output_type": "execute_result"
    }
   ],
   "source": [
    "sp.mean(X)"
   ]
  },
  {
   "cell_type": "code",
   "execution_count": 7,
   "metadata": {
    "collapsed": false
   },
   "outputs": [
    {
     "data": {
      "text/plain": [
       "0.20999999999999994"
      ]
     },
     "execution_count": 7,
     "metadata": {},
     "output_type": "execute_result"
    }
   ],
   "source": [
    "sp.var(X)"
   ]
  },
  {
   "cell_type": "code",
   "execution_count": 8,
   "metadata": {
    "collapsed": false
   },
   "outputs": [
    {
     "data": {
      "image/png": "iVBORw0KGgoAAAANSUhEUgAAAX0AAAEACAYAAABfxaZOAAAABHNCSVQICAgIfAhkiAAAAAlwSFlz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\noAnzAAAAAElFTkSuQmCC\n",
      "text/plain": [
       "<matplotlib.figure.Figure at 0x7f1b122b9a50>"
      ]
     },
     "metadata": {},
     "output_type": "display_data"
    }
   ],
   "source": [
    "xs = linspace(0,1)\n",
    "plt.plot(xs, xs * (1-xs));"
   ]
  },
  {
   "cell_type": "markdown",
   "metadata": {},
   "source": [
    "### Kategorička (\"multinomijalna\") razdioba\n",
    "\n",
    "* Varijabla koja poprima jednu (i samo jednu) od $K$ mogućih vrijednosti\n",
    "\n",
    "\n",
    "* $\\mathbf{x}=(x_1,x_2,\\dots,x_K)^\\mathrm{T}$ je binaran vektor indikatorskih varijabli\n",
    "  * vektor 1-od-K\n",
    "  * *one-hot encoding*\n",
    "\n",
    "* Vjerojatnosti pojedinih vrijednosti: $\\boldsymbol{\\mu}=(\\mu_1,\\dots,\\mu_K)^\\mathrm{T}$, $\\sum_k \\mu_k=1$,  $\\mu_k\\geq 0$\n",
    "\n",
    "\n",
    "\\begin{equation*}\n",
    "P(\\mathbf{X}=\\mathbf{x} | \\boldsymbol{\\mu}) = \\prod_{k=1}^K \\mu_k^{x_k}\n",
    "\\end{equation*}\n",
    "\n",
    "\n",
    "* Npr. \n",
    "  * $X=x_3\\quad \\Rightarrow\\quad \\mathbf{x} = (0,0,1,0)$\n",
    "  * $\\boldsymbol{\\mu} = (0.2, 0.3, 0.4, 0.1)$\n",
    "  * $P\\big(X = (0,0,1,0)\\big) = \\prod_{k=1}^4 \\mu_k^{x_k} = 1\\cdot 1\\cdot \\mu_3\\cdot 1 = \\mu_3 = 0.4$\n",
    "  \n",
    "### Gaussova razdioba\n",
    "\n",
    "\\begin{equation*}\n",
    "p(X=x|\\mu,\\sigma^2) =\n",
    "\\frac{1}{\\sqrt{2\\pi}\\sigma}\\exp\\Big\\{-\\frac{(x-\\mu)^2}{2\\sigma^2}\\Big\\}\n",
    "\\end{equation*}\n",
    "\n",
    "\\begin{align*}\n",
    "\\mathbb{E}[X] =& \\mu\\\\\n",
    "\\mathrm{Var}(X) =& \\sigma^2\n",
    "\\end{align*}\n",
    "\n"
   ]
  },
  {
   "cell_type": "code",
   "execution_count": 9,
   "metadata": {
    "collapsed": false
   },
   "outputs": [
    {
     "data": {
      "image/png": "iVBORw0KGgoAAAANSUhEUgAAAXgAAAEACAYAAAC57G0KAAAABHNCSVQICAgIfAhkiAAAAAlwSFlz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\nvCQ1ZcBLUlMGvCQ1ZcBLUlMGvCQ19QEPiYsZ6yS0+wAAAABJRU5ErkJggg==\n",
      "text/plain": [
       "<matplotlib.figure.Figure at 0x7f1b1222a750>"
      ]
     },
     "metadata": {},
     "output_type": "display_data"
    }
   ],
   "source": [
    "xs = sp.linspace(-5, 5)\n",
    "for s in range(1, 5):\n",
    "  plt.plot(xs, stats.norm.pdf(xs, 0, s), label='$\\sigma=%d$' % s)\n",
    "plt.legend()\n",
    "plt.show()"
   ]
  },
  {
   "cell_type": "markdown",
   "metadata": {},
   "source": [
    "* $P( \\mu -\\sigma\\leq X \\leq \\mu + \\sigma) = 0.68$\n",
    "* $P( \\mu -2\\sigma\\leq X \\leq \\mu + 2\\sigma) = 0.95$\n",
    "* $P( \\mu -3\\sigma\\leq X \\leq \\mu + 3\\sigma) = 0.99.7$"
   ]
  },
  {
   "cell_type": "code",
   "execution_count": 10,
   "metadata": {
    "collapsed": false
   },
   "outputs": [
    {
     "name": "stdout",
     "output_type": "stream",
     "text": [
      "0.682689492137\n",
      "0.954499736104\n",
      "0.997300203937\n"
     ]
    }
   ],
   "source": [
    "print stats.norm.cdf(1, 0, 1) - stats.norm.cdf(-1, 0, 1)\n",
    "print stats.norm.cdf(2, 0, 1) - stats.norm.cdf(-2, 0, 1)\n",
    "print stats.norm.cdf(3, 0, 1) - stats.norm.cdf(-3, 0, 1)"
   ]
  },
  {
   "cell_type": "code",
   "execution_count": 11,
   "metadata": {
    "collapsed": false
   },
   "outputs": [],
   "source": [
    "p = stats.norm(loc=5, scale=3)"
   ]
  },
  {
   "cell_type": "code",
   "execution_count": 12,
   "metadata": {
    "collapsed": false
   },
   "outputs": [
    {
     "data": {
      "text/plain": [
       "array([  3.94363136,   9.6884801 ,   6.73686697,   2.23918325,\n",
       "        -0.22621627,   8.0346425 ,   7.50790913,   8.16860545,\n",
       "         6.52408393,   5.5558834 ,   3.70190598,   1.00539899,\n",
       "         5.33881857,   4.42657421,   8.26823883,   4.14257769,\n",
       "        10.56845245,   6.31164921,   8.72326689,   6.81670834,\n",
       "         9.6269925 ,   9.05832561,   5.89763569,   8.214693  ,\n",
       "         5.37577967,   2.88912765,   2.47697932,   2.19650056,\n",
       "         1.90620298,   1.09675323])"
      ]
     },
     "execution_count": 12,
     "metadata": {},
     "output_type": "execute_result"
    }
   ],
   "source": [
    "X = p.rvs(size=30); X"
   ]
  },
  {
   "cell_type": "code",
   "execution_count": 13,
   "metadata": {
    "collapsed": false
   },
   "outputs": [
    {
     "data": {
      "text/plain": [
       "5.5405217061730685"
      ]
     },
     "execution_count": 13,
     "metadata": {},
     "output_type": "execute_result"
    }
   ],
   "source": [
    "sp.mean(X)"
   ]
  },
  {
   "cell_type": "code",
   "execution_count": 14,
   "metadata": {
    "collapsed": false
   },
   "outputs": [
    {
     "data": {
      "text/plain": [
       "8.4165690464455274"
      ]
     },
     "execution_count": 14,
     "metadata": {},
     "output_type": "execute_result"
    }
   ],
   "source": [
    "sp.var(X)"
   ]
  },
  {
   "cell_type": "markdown",
   "metadata": {},
   "source": [
    "### Multivarijatna Gaussova razdioba\n",
    "\n",
    "\\begin{equation*}\n",
    "p(\\mathbf{X}=\\mathbf{x}|\\boldsymbol{\\mu},\\mathbf{\\Sigma}) = \n",
    "\\frac{1}{(2\\pi)^{n/2}|\\mathbf{\\Sigma}|^{1/2}}\n",
    "\\exp\\Big\\{-\\frac{1}{2}(\\mathbf{x}-\\boldsymbol{\\mu})^\\mathrm{T}\\mathbf{\\Sigma}^{-1}(\\mathbf{x}-\\boldsymbol{\\mu})\\Big\\}\n",
    "\\end{equation*}\n",
    "\n",
    "\n",
    "* $\\mathbf{\\Sigma}$ mora biti **pozitivno definitna**. Tada (1) matrica je nesingularna i ima inverz te (2) determinanta joj je pozitivna\n",
    "\n",
    "\n",
    "* Kvadratna forma: $\\Delta^2 = (\\mathbf{x}-\\boldsymbol{\\mu})^\\mathrm{T}\\mathbf{\\Sigma}^{-1}(\\mathbf{x}-\\boldsymbol{\\mu})$ je **Mahalanobisova udaljenost** između $\\mathbf{x}$ i $\\boldsymbol{\\mu}$.\n",
    "\n",
    "\\begin{align*}\n",
    "\\mathbb{E}[\\mathbf{X}] =& \\boldsymbol{\\mu}\\\\\n",
    "\\mathrm{Cov}(X_i, X_j) =& \\mathbf{\\Sigma}_{ij}\n",
    "\\end{align*}\n",
    "\n"
   ]
  },
  {
   "cell_type": "code",
   "execution_count": 15,
   "metadata": {
    "collapsed": false
   },
   "outputs": [],
   "source": [
    "mu = [0, 1]\n",
    "covm = sp.array([[1, 1], [1, 3]])\n",
    "p = stats.multivariate_normal(mu, covm)"
   ]
  },
  {
   "cell_type": "code",
   "execution_count": 16,
   "metadata": {
    "collapsed": false
   },
   "outputs": [
    {
     "name": "stdout",
     "output_type": "stream",
     "text": [
      "[[1 1]\n",
      " [1 3]]\n"
     ]
    }
   ],
   "source": [
    "print covm"
   ]
  },
  {
   "cell_type": "code",
   "execution_count": 17,
   "metadata": {
    "collapsed": false
   },
   "outputs": [],
   "source": [
    "x = np.linspace(-2, 2)\n",
    "y = np.linspace(-2, 2)\n",
    "X, Y = np.meshgrid(x, y)\n",
    "XY = np.dstack((X,Y))"
   ]
  },
  {
   "cell_type": "code",
   "execution_count": 18,
   "metadata": {
    "collapsed": false
   },
   "outputs": [
    {
     "data": {
      "image/png": "iVBORw0KGgoAAAANSUhEUgAAAX4AAAEACAYAAAC08h1NAAAABHNCSVQICAgIfAhkiAAAAAlwSFlz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\nEycizDbFogAjpeTnn4N54IEZNGhQlr/+Gm2J