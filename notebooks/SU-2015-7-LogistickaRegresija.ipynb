{
 "cells": [
  {
   "cell_type": "markdown",
   "metadata": {
    "slideshow": {
     "slide_type": "slide"
    }
   },
   "source": [
    "Sveučilište u Zagrebu<br>\n",
    "Fakultet elektrotehnike i računarstva\n",
    "\n",
    "# Strojno učenje\n",
    "\n",
    "<a href=\"http://www.fer.unizg.hr/predmet/su\">http://www.fer.unizg.hr/predmet/su</a>\n",
    "\n",
    "Ak. god. 2015./2016.\n",
    "\n",
    "# Bilježnica 7: Logistička regresija\n",
    "\n",
    "(c) 2015 Jan Šnajder\n",
    "\n",
    "<i>Verzija: 0.2 (2015-11-16)</i>"
   ]
  },
  {
   "cell_type": "code",
   "execution_count": 2,
   "metadata": {
    "collapsed": false
   },
   "outputs": [
    {
     "name": "stdout",
     "output_type": "stream",
     "text": [
      "Populating the interactive namespace from numpy and matplotlib\n"
     ]
    }
   ],
   "source": [
    "import scipy as sp\n",
    "import scipy.stats as stats\n",
    "import matplotlib.pyplot as plt\n",
    "import pandas as pd\n",
    "%pylab inline"
   ]
  },
  {
   "cell_type": "markdown",
   "metadata": {},
   "source": [
    "### Sadržaj:\n",
    "\n",
    "* Model logističke regresije\n",
    "\n",
    "* Gubitak unakrsne entropije\n",
    "\n",
    "* Minimizacija pogreške\n",
    "\n",
    "* Poveznica s generativnim modelom\n",
    "\n",
    "* Usporedba linearnih modela\n",
    "\n",
    "* Sažetak\n"
   ]
  },
  {
   "cell_type": "markdown",
   "metadata": {},
   "source": [
    "# Model logističke regresije\n",
    "\n",
    "### Podsjetnik: poopćeni linearni modeli\n",
    "\n",
    "$$\n",
    "h(\\mathbf{x}) = \\color{red}{f\\big(}\\mathbf{w}^\\intercal\\tilde{\\mathbf{x}}\\color{red}{\\big)}\n",
    "$$\n",
    "\n",
    "\n",
    "* $f : \\mathbb{R}\\to[0,1]$ ili $f : \\mathbb{R}\\to[-1,+1]$ je **aktivacijska funkcija**\n",
    "\n",
    "\n",
    "* Linearna granica u ulaznom prostoru (premda je $f$ nelinearna)\n",
    "  * Međutim, ako preslikavamo s $\\boldsymbol\\phi(\\mathbf{x})$ u prostor značajki, granica u ulaznom prostoru može biti nelinearna\n",
    "\n",
    "\n",
    "* Model nelinearan u parametrima (jer je $f$ nelinearna)\n",
    "  * Komplicira optimizaciju (nema rješenja u zatvorenoj formi)"
   ]
  },
  {
   "cell_type": "markdown",
   "metadata": {},
   "source": [
    "### Podsjetnik: klasifikacija regresijom\n",
    "\n",
    "* Model:\n",
    "$$\n",
    "    h(\\mathbf{x}) = \\mathbf{w}^\\intercal\\boldsymbol{\\phi}(\\mathbf{x}) \\qquad (f(\\alpha)=\\alpha)\n",
    "$$\n",
    "\n",
    "\n",
    "* [Skica]\n",
    "\n",
    "\n",
    "* Funkcija gubitka: kvadratni gubitak\n",
    "\n",
    "\n",
    "* Optimizacijski postupak: izračun pseudoinverza (rješenje u zatvorenoj formi)\n",
    "\n",
    "\n",
    "* Prednosti:\n",
    "  * Uvijek dobivamo rješenje\n",
    "  \n",
    "\n",
    "* Nedostatci:\n",
    "  * Nerobusnost: ispravno klasificirani primjeri utječu na granicu $\\Rightarrow$ pogrešna klasifikacija čak i kod linearno odvojivih problema\n",
    "  * Izlaz modela nije probabilistički\n",
    "  \n",
    "### Podsjetnik: perceptron\n",
    "\n",
    "* Model:\n",
    "$$\n",
    "h(\\mathbf{x}) = f\\big(\\mathbf{w}^\\intercal\\boldsymbol\\phi(\\mathbf{x})\\big)\n",
    "\\qquad f(\\alpha) = \\begin{cases}\n",
    "+1 & \\text{ako $\\alpha\\geq0$}\\\\\n",
    "-1 & \\text{inače}\n",
    "\\end{cases}\n",
    "$$\n",
    "\n",
    "\n",
    "* [Skica]\n",
    "\n",
    "\n",
    "* Funkcija gubitka: količina pogrešne klasifikacije \n",
    "$$\n",
    "\\mathrm{max}(0,-\\tilde{\\mathbf{w}}^\\intercal\\boldsymbol{\\phi}(\\mathbf{x})y)\n",
    "$$\n",
    "\n",
    "\n",
    "* Optimizacijski postupak: gradijentni spust\n",
    "\n",
    "\n",
    "* Prednosti:\n",
    "  * Ispravno klasificirani primjeri ne utječu na granicu<br>\n",
    "    $\\Rightarrow$ ispravna klasifikacija linearno odvojivih problema\n",
    "\n",
    "\n",
    "* Nedostatci:\n",
    "  * Aktivacijska funkcija nije derivabilna<br>\n",
    "    $\\Rightarrow$ funkcija gubitka nije derivabilna<br>\n",
    "    $\\Rightarrow$ gradijent funkcije pogreške nije nula u točki minimuma<br>\n",
    "    $\\Rightarrow$ postupak ne konvergira ako primjeri nisu linearno odvojivi\n",
    "  * Decizijska granica ovisi o početnom izboru težina\n",
    "  * Izlaz modela nije probabilistički"
   ]
  },
  {
   "cell_type": "markdown",
   "metadata": {},
   "source": [
    "### Logistička regresija\n",
    "\n",
    "* Ideja: upotrijebiti aktivacijsku funkciju s izlazima $[0,1]$ ali koja jest derivabilna\n",
    "\n",
    "\n",
    "* **Logistička (sigmoidalna) funkcija**:\n",
    "$$\n",
    "    \\sigma(\\alpha) = \\frac{1}{1 + \\exp(-\\alpha)}\n",
    "$$"
   ]
  },
  {
   "cell_type": "code",
   "execution_count": 4,
   "metadata": {
    "collapsed": false
   },
   "outputs": [
    {
     "data": {
      "image/png": "iVBORw0KGgoAAAANSUhEUgAAAXUAAAEACAYAAABMEua6AAAABHNCSVQICAgIfAhkiAAAAAlwSFlz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\nCnURkRT5/8/itESqh3f1AAAAAElFTkSuQmCC\n",
      "text/plain": [
       "<matplotlib.figure.Figure at 0x7f9c84059e50>"
      ]
     },
     "metadata": {},
     "output_type": "display_data"
    }
   ],
   "source": [
    "def sigm(x): return 1 / (1 + sp.exp(-x))\n",
    "\n",
    "xs = sp.linspace(-10, 10)\n",
    "plt.plot(xs, sigm(xs));"
   ]
  },
  {
   "cell_type": "markdown",
   "metadata": {},
   "source": [
    "* Nagib sigmoide može se regulirati množenjem ulaza određenim faktorom:"
   ]
  },
  {
   "cell_type": "code",
   "execution_count": 6,
   "metadata": {
    "collapsed": false
   },
   "outputs": [
    {
     "data": {
      "image/png": "iVBORw0KGgoAAAANSUhEUgAAAXUAAAEACAYAAABMEua6AAAABHNCSVQICAgIfAhkiAAAAAlwSFlz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\nldtQ8RZzpngAAAAASUVORK5CYII=\n",
      "text/plain": [
       "<matplotlib.figure.Figure at 0x7f9c4754ce10>"
      ]
     },
     "metadata": {},
     "output_type": "display_data"
    }
   ],
   "source": [
    "plt.plot(xs, sigm(0.5*xs), 'r');\n",
    "plt.plot(xs, sigm(xs), 'g');\n",
    "plt.plot(xs, sigm(2*xs), 'b');"
   ]
  },
  {
   "cell_type": "markdown",
   "metadata": {},
   "source": [
    "* Derivacija sigmoidalne funkcije:\n",
    "    \n",
    "$$\n",
    "\\frac{\\partial\\sigma(\\alpha)}{\\partial\\alpha} = \n",
    "\\frac{\\partial}{\\partial\\alpha}\\big(1 + \\exp(-\\alpha)\\big) =\n",
    "\\sigma(\\alpha)\\big(1 - \\sigma(\\alpha)\\big)\n",
    "$$"
   ]
  },
  {
   "cell_type": "markdown",
   "metadata": {},
   "source": [
    "* Model **logističke regresije**:\n",
    "$$\n",
    "    h(\\mathbf{x}|\\mathbf{w}) = \\sigma\\big(\\mathbf{w}^\\intercal\\boldsymbol{\\phi}(\\mathbf{x})\\big) =\n",
    "    \\frac{1}{1+\\exp(-\\mathbf{w}^\\intercal\\boldsymbol{\\phi}(\\mathbf{x}))}\n",
    "$$\n",
    "\n",
    "\n",
    "* **NB:** Logistička regresija je klasifikacijski model (unatoč nazivu)!\n",
    "\n",
    "### Probabilistički izlaz\n",
    "\n",
    "* $h(\\mathbf{x})\\in[0,1]$, pa $h(\\mathbf{x})$ možemo tumačiti kao **vjerojatnost** da primjer pripada klasi $\\mathcal{C}_1$ (klasi za koju $y=1$):\n",
    "\n",
    "$$\n",
    "h(\\mathbf{x}|\\mathbf{w}) =  \\sigma\\big(\\mathbf{w}^\\intercal\\mathbf{\\phi}(\\mathbf{x})\\big) = \\color{red}{P(y=1|\\mathbf{x})}\n",
    "$$\n",
    "\n",
    "* Vidjet ćemo kasnije da postoji i dublje opravdanje za takvu interpretaciju\n"
   ]
  },
  {
   "cell_type": "markdown",
   "metadata": {},
   "source": [
    "# Funkcija logističkog gubitka\n",
    "\n",
    "\n",
    "* Definirali smo model, trebamo još definirati **funkciju gubitka** i **optimizacijski postupak**\n",
    "\n",
    "\n",
    "* Logistička funkcija koristi **gubitak unakrsne entropije**\n",
    "\n",
    "\n",
    "### Definicija\n",
    "\n",
    "\n",
    "* Funkcija pokriva dva slučajeva (kada je oznaka primjera $y=1$ i kada je $y=0$):\n",
    "\n",
    "$$\n",
    "L(h(\\mathbf{x}),y) =\n",
    "\\begin{cases}\n",
    "- \\ln h(\\mathbf{x}) & \\text{ako $y=1$}\\\\\n",
    "- \\ln \\big(1-h(\\mathbf{x})\\big) & \\text{ako $y=0$}\n",
    "\\end{cases}\n",
    "$$\n",
    "\n",
    "\n",
    "* Ovo možemo napisati sažetije:\n",
    "$$\n",
    "L(h(\\mathbf{x}),y) =  \n",
    "- y \\ln h(\\mathbf{x}) - (1-y)\\ln \\big(1-h(\\mathbf{x})\\big)\n",
    "$$\n",
    "\n"
   ]
  },
  {
   "cell_type": "code",
   "execution_count": 3,
   "metadata": {
    "collapsed": false
   },
   "outputs": [
    {
     "data": {
      "image/png": "iVBORw0KGgoAAAANSUhEUgAAAXcAAAEACAYAAABI5zaHAAAABHNCSVQICAgIfAhkiAAAAAlwSFlz\nAAALEgAACxIB0t1+/AAAHpJJREFUeJzt3XuUVNWZ9/HvQwODchGVERAwoCgq0gjIRUApAiqiQaPJ\nBDUSQZdORrxlvSaRMbGzJq+Os8y8Co6KRo2aCJOYxCDiFS00KvdLIxcF0QyItkTEQe5NP+8fu5pu\nm6a7uruqTl1+n7XO6qru7anHs5ofm3323sfcHRERyS/Noi5ARERST+EuIpKHFO4iInlI4S4ikocU\n7iIieUjhLiKSh5IKdzMrMrNlZvbcIX4+1czWmdkKM+uX2hJFRKShku253wSsBg6aFG9mY4Ge7n4i\ncC3wYOrKExGRxqg33M2sKzAW+DVgtTQZBzwB4O4LgPZm1jGVRYqISMMk03P/f8CtQMUhft4F2Fjt\n/SagaxPrEhGRJqgz3M3sQuAzd19G7b32A01rvNeeBiIiEWpez8+HAuMS4+qtgHZm9qS7T6jW5mOg\nW7X3XRPf+xozU+CLiDSCu9fVua5VnT13d5/i7t3cvQcwHnitRrADzAImAJjZEGCbu5cd4nw63Lnj\njjsiryFbDl0LXQtdi7qPxqqv535QPidC/LpEWE939zlmNtbM1gM7gImNrkZERFIi6XB393nAvMTr\n6TV+NjnFdYmISBNohWoEYrFY1CVkDV2LKroWVXQtms6aMqbToA8y89o+6+abYeRIuOiijJQhIpJT\nzAxP9Q3VTGjbFpYujboKEZH8Enm49+kDK1dGXYWISH7JinAvLY26ChGR/BL5mHt5ObRrB1u2QOvW\nGSlFRCRn5OyYe/Pm0KsXrFoVdSUiIvkj8nAHKC7WuLuISCplRbjrpqqISGplTbjrpqqISOpkTbiv\nXAkZurcrIpL3siLcO3eGigooq3UvSRERaaisCHcz3VQVEUmlrAh30Li7iEgqZVW4q+cuIpIaCncR\nkTwU+fYDlbZvh44dw9eiooyUJCKS9XJ2+4FKbduGWTPr10ddiYhI7suacAfdVBURSZV6w93MWpnZ\nAjNbbmarzeyuWtrEzOxLM1uWOG5vTDEadxcRSY16H5Dt7rvNbKS77zSz5sBfzWy4u/+1RtN57j6u\nKcX06QMzZjTlDCIiAkkOy7j7zsTLlkARsLWWZg0e8K9JC5lERFIjqXA3s2ZmthwoA15399U1mjgw\n1MxWmNkcMzu1McX07AmbN8NXXzXmvxYRkUrJ9twr3P10oCtwtpnFajRZCnRz977ANODZxhTTvDmc\nfLIe3CEi0lT1jrlX5+5fmtnzwBlAvNr3t1d7/YKZPWBmR7n714ZvSkpKDryOxWLEYrGDPqPypurg\nwQ2pTEQkP8TjceLxeJPPU+8iJjPrAJS7+zYzOwx4CfiFu8+t1qYj8Jm7u5kNAn7v7t1rnKfORUyV\n7rkHNm6E++5r+P+MiEi+aewipmR67p2BJ8ysGWEY5yl3n2tm1wG4+3TgO8APzawc2AmMb2ghlYqL\nYc6cxv7XIiICWbT9QKVPPglDM1u2hK2ARUQKWc5vP1CpU