{
 "cells": [
  {
   "cell_type": "markdown",
   "metadata": {
    "slideshow": {
     "slide_type": "slide"
    }
   },
   "source": [
    "Sveučilište u Zagrebu<br>\n",
    "Fakultet elektrotehnike i računarstva\n",
    "\n",
    "# Strojno učenje\n",
    "\n",
    "<a href=\"http://www.fer.unizg.hr/predmet/su\">http://www.fer.unizg.hr/predmet/su</a>\n",
    "\n",
    "Ak. god. 2015./2016.\n",
    "\n",
    "# Bilježnica 7: Logistička regresija\n",
    "\n",
    "(c) 2015 Jan Šnajder\n",
    "\n",
    "<i>Verzija: 0.2 (2015-11-16)</i>"
   ]
  },
  {
   "cell_type": "code",
   "execution_count": 2,
   "metadata": {
    "collapsed": false
   },
   "outputs": [
    {
     "name": "stdout",
     "output_type": "stream",
     "text": [
      "Populating the interactive namespace from numpy and matplotlib\n"
     ]
    }
   ],
   "source": [
    "import scipy as sp\n",
    "import scipy.stats as stats\n",
    "import matplotlib.pyplot as plt\n",
    "import pandas as pd\n",
    "%pylab inline"
   ]
  },
  {
   "cell_type": "markdown",
   "metadata": {},
   "source": [
    "### Sadržaj:\n",
    "\n",
    "* Model logističke regresije\n",
    "\n",
    "* Gubitak unakrsne entropije\n",
    "\n",
    "* Minimizacija pogreške\n",
    "\n",
    "* Poveznica s generativnim modelom\n",
    "\n",
    "* Usporedba linearnih modela\n",
    "\n",
    "* Sažetak\n"
   ]
  },
  {
   "cell_type": "markdown",
   "metadata": {},
   "source": [
    "# Model logističke regresije\n",
    "\n",
    "### Podsjetnik: poopćeni linearni modeli\n",
    "\n",
    "$$\n",
    "h(\\mathbf{x}) = \\color{red}{f\\big(}\\mathbf{w}^\\intercal\\tilde{\\mathbf{x}}\\color{red}{\\big)}\n",
    "$$\n",
    "\n",
    "\n",
    "* $f : \\mathbb{R}\\to[0,1]$ ili $f : \\mathbb{R}\\to[-1,+1]$ je **aktivacijska funkcija**\n",
    "\n",
    "\n",
    "* Linearna granica u ulaznom prostoru (premda je $f$ nelinearna)\n",
    "  * Međutim, ako preslikavamo s $\\boldsymbol\\phi(\\mathbf{x})$ u prostor značajki, granica u ulaznom prostoru može biti nelinearna\n",
    "\n",
    "\n",
    "* Model nelinearan u parametrima (jer je $f$ nelinearna)\n",
    "  * Komplicira optimizaciju (nema rješenja u zatvorenoj formi)"
   ]
  },
  {
   "cell_type": "markdown",
   "metadata": {},
   "source": [
    "### Podsjetnik: klasifikacija regresijom\n",
    "\n",
    "* Model:\n",
    "$$\n",
    "    h(\\mathbf{x}) = \\mathbf{w}^\\intercal\\boldsymbol{\\phi}(\\mathbf{x}) \\qquad (f(\\alpha)=\\alpha)\n",
    "$$\n",
    "\n",
    "\n",
    "* [Skica]\n",
    "\n",
    "\n",
    "* Funkcija gubitka: kvadratni gubitak\n",
    "\n",
    "\n",
    "* Optimizacijski postupak: izračun pseudoinverza (rješenje u zatvorenoj formi)\n",
    "\n",
    "\n",
    "* Prednosti:\n",
    "  * Uvijek dobivamo rješenje\n",
    "  \n",
    "\n",
    "* Nedostatci:\n",
    "  * Nerobusnost: ispravno klasificirani primjeri utječu na granicu $\\Rightarrow$ pogrešna klasifikacija čak i kod linearno odvojivih problema\n",
    "  * Izlaz modela nije probabilistički\n",
    "  \n",
    "### Podsjetnik: perceptron\n",
    "\n",
    "* Model:\n",
    "$$\n",
    "h(\\mathbf{x}) = f\\big(\\mathbf{w}^\\intercal\\boldsymbol\\phi(\\mathbf{x})\\big)\n",
    "\\qquad f(\\alpha) = \\begin{cases}\n",
    "+1 & \\text{ako $\\alpha\\geq0$}\\\\\n",
    "-1 & \\text{inače}\n",
    "\\end{cases}\n",
    "$$\n",
    "\n",
    "\n",
    "* [Skica]\n",
    "\n",
    "\n",
    "* Funkcija gubitka: količina pogrešne klasifikacije \n",
    "$$\n",
    "\\mathrm{max}(0,-\\tilde{\\mathbf{w}}^\\intercal\\boldsymbol{\\phi}(\\mathbf{x})y)\n",
    "$$\n",
    "\n",
    "\n",
    "* Optimizacijski postupak: gradijentni spust\n",
    "\n",
    "\n",
    "* Prednosti:\n",
    "  * Ispravno klasificirani primjeri ne utječu na granicu<br>\n",
    "    $\\Rightarrow$ ispravna klasifikacija linearno odvojivih problema\n",
    "\n",
    "\n",
    "* Nedostatci:\n",
    "  * Aktivacijska funkcija nije derivabilna<br>\n",
    "    $\\Rightarrow$ funkcija gubitka nije derivabilna<br>\n",
    "    $\\Rightarrow$ gradijent funkcije pogreške nije nula u točki minimuma<br>\n",
    "    $\\Rightarrow$ postupak ne konvergira ako primjeri nisu linearno odvojivi\n",
    "  * Decizijska granica ovisi o početnom izboru težina\n",
    "  * Izlaz modela nije probabilistički"
   ]
  },
  {
   "cell_type": "markdown",
   "metadata": {},
   "source": [
    "### Logistička regresija\n",
    "\n",
    "* Ideja: upotrijebiti aktivacijsku funkciju s izlazima $[0,1]$ ali koja jest derivabilna\n",
    "\n",
    "\n",
    "* **Logistička (sigmoidalna) funkcija**:\n",
    "$$\n",
    "    \\sigma(\\alpha) = \\frac{1}{1 + \\exp(-\\alpha)}\n",
    "$$"
   ]
  },
  {
   "cell_type": "code",
   "execution_count": 4,
   "metadata": {
    "collapsed": false
   },
   "outputs": [
    {
     "data": {
      "image/png": "iVBORw0KGgoAAAANSUhEUgAAAXUAAAEACAYAAABMEua6AAAABHNCSVQICAgIfAhkiAAAAAlwSFlz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\nCnURkRT5/8/itESqh3f1AAAAAElFTkSuQmCC\n",
      "text/plain": [
       "<matplotlib.figure.Figure at 0x7f9c84059e50>"
      ]
     },
     "metadata": {},
     "output_type": "display_data"
    }
   ],
   "source": [
    "def sigm(x): return 1 / (1 + sp.exp(-x))\n",
    "\n",
    "xs = sp.linspace(-10, 10)\n",
    "plt.plot(xs, sigm(xs));"
   ]
  },
  {
   "cell_type": "markdown",
   "metadata": {},
   "source": [
    "* Nagib sigmoide može se regulirati množenjem ulaza određenim faktorom:"
   ]
  },
  {
   "cell_type": "code",
   "execution_count": 6,
   "metadata": {
    "collapsed": false
   },
   "outputs": [
    {
     "data": {
      "image/png": "iVBORw0KGgoAAAANSUhEUgAAAXUAAAEACAYAAABMEua6AAAABHNCSVQICAgIfAhkiAAAAAlwSFlz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\nDV57zcwv/tJLMHiw1Mu9gCR1ISz0xx9mRteY