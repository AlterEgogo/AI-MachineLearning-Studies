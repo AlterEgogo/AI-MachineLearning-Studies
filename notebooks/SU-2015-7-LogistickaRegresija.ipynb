{
 "cells": [
  {
   "cell_type": "markdown",
   "metadata": {
    "slideshow": {
     "slide_type": "slide"
    }
   },
   "source": [
    "Sveučilište u Zagrebu<br>\n",
    "Fakultet elektrotehnike i računarstva\n",
    "\n",
    "# Strojno učenje\n",
    "\n",
    "<a href=\"http://www.fer.unizg.hr/predmet/su\">http://www.fer.unizg.hr/predmet/su</a>\n",
    "\n",
    "Ak. god. 2015./2016.\n",
    "\n",
    "# Bilježnica 7: Logistička regresija\n",
    "\n",
    "(c) 2015 Jan Šnajder\n",
    "\n",
    "<i>Verzija: 0.2 (2015-11-16)</i>"
   ]
  },
  {
   "cell_type": "code",
   "execution_count": 2,
   "metadata": {
    "collapsed": false
   },
   "outputs": [
    {
     "name": "stdout",
     "output_type": "stream",
     "text": [
      "Populating the interactive namespace from numpy and matplotlib\n"
     ]
    }
   ],
   "source": [
    "import scipy as sp\n",
    "import scipy.stats as stats\n",
    "import matplotlib.pyplot as plt\n",
    "import pandas as pd\n",
    "%pylab inline"
   ]
  },
  {
   "cell_type": "markdown",
   "metadata": {},
   "source": [
    "### Sadržaj:\n",
    "\n",
    "* Model logističke regresije\n",
    "\n",
    "* Gubitak unakrsne entropije\n",
    "\n",
    "* Minimizacija pogreške\n",
    "\n",
    "* Poveznica s generativnim modelom\n",
    "\n",
    "* Usporedba linearnih modela\n",
    "\n",
    "* Sažetak\n"
   ]
  },
  {
   "cell_type": "markdown",
   "metadata": {},
   "source": [
    "# Model logističke regresije\n",
    "\n",
    "### Podsjetnik: poopćeni linearni modeli\n",
    "\n",
    "$$\n",
    "h(\\mathbf{x}) = \\color{red}{f\\big(}\\mathbf{w}^\\intercal\\tilde{\\mathbf{x}}\\color{red}{\\big)}\n",
    "$$\n",
    "\n",
    "\n",
    "* $f : \\mathbb{R}\\to[0,1]$ ili $f : \\mathbb{R}\\to[-1,+1]$ je **aktivacijska funkcija**\n",
    "\n",
    "\n",
    "* Linearna granica u ulaznom prostoru (premda je $f$ nelinearna)\n",
    "  * Međutim, ako preslikavamo s $\\boldsymbol\\phi(\\mathbf{x})$ u prostor značajki, granica u ulaznom prostoru može biti nelinearna\n",
    "\n",
    "\n",
    "* Model nelinearan u parametrima (jer je $f$ nelinearna)\n",
    "  * Komplicira optimizaciju (nema rješenja u zatvorenoj formi)"
   ]
  },
  {
   "cell_type": "markdown",
   "metadata": {},
   "source": [
    "### Podsjetnik: klasifikacija regresijom\n",
    "\n",
    "* Model:\n",
    "$$\n",
    "    h(\\mathbf{x}) = \\mathbf{w}^\\intercal\\boldsymbol{\\phi}(\\mathbf{x}) \\qquad (f(\\alpha)=\\alpha)\n",
    "$$\n",
    "\n",
    "\n",
    "* [Skica]\n",
    "\n",
    "\n",
    "* Funkcija gubitka: kvadratni gubitak\n",
    "\n",
    "\n",
    "* Optimizacijski postupak: izračun pseudoinverza (rješenje u zatvorenoj formi)\n",
    "\n",
    "\n",
    "* Prednosti:\n",
    "  * Uvijek dobivamo rješenje\n",
    "  \n",
    "\n",
    "* Nedostatci:\n",
    "  * Nerobusnost: ispravno klasificirani primjeri utječu na granicu $\\Rightarrow$ pogrešna klasifikacija čak i kod linearno odvojivih problema\n",
    "  * Izlaz modela nije probabilistički\n",
    "  \n",
    "### Podsjetnik: perceptron\n",
    "\n",
    "* Model:\n",
    "$$\n",
    "h(\\mathbf{x}) = f\\big(\\mathbf{w}^\\intercal\\boldsymbol\\phi(\\mathbf{x})\\big)\n",
    "\\qquad f(\\alpha) = \\begin{cases}\n",
    "+1 & \\text{ako $\\alpha\\geq0$}\\\\\n",
    "-1 & \\text{inače}\n",
    "\\end{cases}\n",
    "$$\n",
    "\n",
    "\n",
    "* [Skica]\n",
    "\n",
    "\n",
    "* Funkcija gubitka: količina pogrešne klasifikacije \n",
    "$$\n",
    "\\mathrm{max}(0,-\\tilde{\\mathbf{w}}^\\intercal\\boldsymbol{\\phi}(\\mathbf{x})y)\n",
    "$$\n",
    "\n",
    "\n",
    "* Optimizacijski postupak: gradijentni spust\n",
    "\n",
    "\n",
    "* Prednosti:\n",
    "  * Ispravno klasificirani primjeri ne utječu na granicu<br>\n",
    "    $\\Rightarrow$ ispravna klasifikacija linearno odvojivih problema\n",
    "\n",
    "\n",
    "* Nedostatci:\n",
    "  * Aktivacijska funkcija nije derivabilna<br>\n",
    "    $\\Rightarrow$ funkcija gubitka nije derivabilna<br>\n",
    "    $\\Rightarrow$ gradijent funkcije pogreške nije nula u točki minimuma<br>\n",
    "    $\\Rightarrow$ postupak ne konvergira ako primjeri nisu linearno odvojivi\n",
    "  * Decizijska granica ovisi o početnom izboru težina\n",
    "  * Izlaz modela nije probabilistički"
   ]
  },
  {
   "cell_type": "markdown",
   "metadata": {},
   "source": [
    "### Logistička regresija\n",
    "\n",
    "* Ideja: upotrijebiti aktivacijsku funkciju s izlazima $[0,1]$ ali koja jest derivabilna\n",
    "\n",
    "\n",
    "* **Logistička (sigmoidalna) funkcija**:\n",
    "$$\n",
    "    \\sigma(\\alpha) = \\frac{1}{1 + \\exp(-\\alpha)}\n",
    "$$"
   ]
  },
  {
   "cell_type": "code",
   "execution_count": 4,
   "metadata": {
    "collapsed": false
   },
   "outputs": [
    {
     "data": {
      "image/png": "iVBORw0KGgoAAAANSUhEUgAAAXUAAAEACAYAAABMEua6AAAABHNCSVQICAgIfAhkiAAAAAlwSFlz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\ntWY2K/f+fHdvNLOHgV