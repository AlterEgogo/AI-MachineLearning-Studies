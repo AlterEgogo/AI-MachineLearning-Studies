{
 "cells": [
  {
   "cell_type": "markdown",
   "metadata": {
    "slideshow": {
     "slide_type": "slide"
    }
   },
   "source": [
    "Sveučilište u Zagrebu<br>\n",
    "Fakultet elektrotehnike i računarstva\n",
    "\n",
    "# Strojno učenje\n",
    "\n",
    "<a href=\"http://www.fer.unizg.hr/predmet/su\">http://www.fer.unizg.hr/predmet/su</a>\n",
    "\n",
    "Ak. god. 2015./2016.\n",
    "\n",
    "# Bilježnica 7: Logistička regresija\n",
    "\n",
    "(c) 2015 Jan Šnajder\n",
    "\n",
    "<i>Verzija: 0.2 (2015-11-16)</i>"
   ]
  },
  {
   "cell_type": "code",
   "execution_count": 2,
   "metadata": {
    "collapsed": false
   },
   "outputs": [
    {
     "name": "stdout",
     "output_type": "stream",
     "text": [
      "Populating the interactive namespace from numpy and matplotlib\n"
     ]
    }
   ],
   "source": [
    "import scipy as sp\n",
    "import scipy.stats as stats\n",
    "import matplotlib.pyplot as plt\n",
    "import pandas as pd\n",
    "%pylab inline"
   ]
  },
  {
   "cell_type": "markdown",
   "metadata": {},
   "source": [
    "### Sadržaj:\n",
    "\n",
    "* Model logističke regresije\n",
    "\n",
    "* Gubitak unakrsne entropije\n",
    "\n",
    "* Minimizacija pogreške\n",
    "\n",
    "* Poveznica s generativnim modelom\n",
    "\n",
    "* Usporedba linearnih modela\n",
    "\n",
    "* Sažetak\n"
   ]
  },
  {
   "cell_type": "markdown",
   "metadata": {},
   "source": [
    "# Model logističke regresije\n",
    "\n",
    "### Podsjetnik: poopćeni linearni modeli\n",
    "\n",
    "$$\n",
    "h(\\mathbf{x}) = \\color{red}{f\\big(}\\mathbf{w}^\\intercal\\tilde{\\mathbf{x}}\\color{red}{\\big)}\n",
    "$$\n",
    "\n",
    "\n",
    "* $f : \\mathbb{R}\\to[0,1]$ ili $f : \\mathbb{R}\\to[-1,+1]$ je **aktivacijska funkcija**\n",
    "\n",
    "\n",
    "* Linearna granica u ulaznom prostoru (premda je $f$ nelinearna)\n",
    "  * Međutim, ako preslikavamo s $\\boldsymbol\\phi(\\mathbf{x})$ u prostor značajki, granica u ulaznom prostoru može biti nelinearna\n",
    "\n",
    "\n",
    "* Model nelinearan u parametrima (jer je $f$ nelinearna)\n",
    "  * Komplicira optimizaciju (nema rješenja u zatvorenoj formi)"
   ]
  },
  {
   "cell_type": "markdown",
   "metadata": {},
   "source": [
    "### Podsjetnik: klasifikacija regresijom\n",
    "\n",
    "* Model:\n",
    "$$\n",
    "    h(\\mathbf{x}) = \\mathbf{w}^\\intercal\\boldsymbol{\\phi}(\\mathbf{x}) \\qquad (f(\\alpha)=\\alpha)\n",
    "$$\n",
    "\n",
    "\n",
    "* [Skica]\n",
    "\n",
    "\n",
    "* Funkcija gubitka: kvadratni gubitak\n",
    "\n",
    "\n",
    "* Optimizacijski postupak: izračun pseudoinverza (rješenje u zatvorenoj formi)\n",
    "\n",
    "\n",
    "* Prednosti:\n",
    "  * Uvijek dobivamo rješenje\n",
    "  \n",
    "\n",
    "* Nedostatci:\n",
    "  * Nerobusnost: ispravno klasificirani primjeri utječu na granicu $\\Rightarrow$ pogrešna klasifikacija čak i kod linearno odvojivih problema\n",
    "  * Izlaz modela nije probabilistički\n",
    "  \n",
    "### Podsjetnik: perceptron\n",
    "\n",
    "* Model:\n",
    "$$\n",
    "h(\\mathbf{x}) = f\\big(\\mathbf{w}^\\intercal\\boldsymbol\\phi(\\mathbf{x})\\big)\n",
    "\\qquad f(\\alpha) = \\begin{cases}\n",
    "+1 & \\text{ako $\\alpha\\geq0$}\\\\\n",
    "-1 & \\text{inače}\n",
    "\\end{cases}\n",
    "$$\n",
    "\n",
    "\n",
    "* [Skica]\n",
    "\n",
    "\n",
    "* Funkcija gubitka: količina pogrešne klasifikacije \n",
    "$$\n",
    "\\mathrm{max}(0,-\\tilde{\\mathbf{w}}^\\intercal\\boldsymbol{\\phi}(\\mathbf{x})y)\n",
    "$$\n",
    "\n",
    "\n",
    "* Optimizacijski postupak: gradijentni spust\n",
    "\n",
    "\n",
    "* Prednosti:\n",
    "  * Ispravno klasificirani primjeri ne utječu na granicu<br>\n",
    "    $\\Rightarrow$ ispravna klasifikacija linearno odvojivih problema\n",
    "\n",
    "\n",
    "* Nedostatci:\n",
    "  * Aktivacijska funkcija nije derivabilna<br>\n",
    "    $\\Rightarrow$ funkcija gubitka nije derivabilna<br>\n",
    "    $\\Rightarrow$ gradijent funkcije pogreške nije nula u točki minimuma<br>\n",
    "    $\\Rightarrow$ postupak ne konvergira ako primjeri nisu linearno odvojivi\n",
    "  * Decizijska granica ovisi o početnom izboru težina\n",
    "  * Izlaz modela nije probabilistički"
   ]
  },
  {
   "cell_type": "markdown",
   "metadata": {},
   "source": [
    "### Logistička regresija\n",
    "\n",
    "* Ideja: upotrijebiti aktivacijsku funkciju s izlazima $[0,1]$ ali koja jest derivabilna\n",
    "\n",
    "\n",
    "* **Logistička (sigmoidalna) funkcija**:\n",
    "$$\n",
    "    \\sigma(\\alpha) = \\frac{1}{1 + \\exp(-\\alpha)}\n",
    "$$"
   ]
  },
  {
   "cell_type": "code",
   "execution_count": 4,
   "metadata": {
    "collapsed": false
   },
   "outputs": [
    {
     "data": {
      "image/png": "iVBORw0KGgoAAAANSUhEUgAAAXUAAAEACAYAAABMEua6AAAABHNCSVQICAgIfAhkiAAAAAlwSFlz\nAAALEgAACxIB0t1+/AAAGHRJREFUeJzt3XuUVOWZ7/HvExBijAwYDPcTby1I1KBHgVnOaCkaG6Og\nxghosmKOQ5gxuGatrEmMoyvpOdGoo+eMEZSgISaZg2JEGhvFWzQVL6NE4gUUGprxdOQmGpXjZcKl\nu5/zx1tK2TRdVd3V/dbe9fustVfVrtpdPLa1frw8+93vNndHRETS4VOxCxARkfJRqIuIpIhCXUQk\nRRTqIiIpolAXEUkRhbqISIoUDHUz+4WZbTOz1Z0cc4uZNZnZy2Z2XHlLFBGRYhUzUr8TqN3Xm2Z2\nFnCEu9cA3wbmlak2EREpUcFQd/engHc7OWQK8KvcsSuAgWY2pDzliYhIKcrRUx8BbMzb3wSMLMPn\niohIicp1otTa7WvtARGRCPqW4TM2A6Py9kfmXvsEM1PQi4h0gbu3HzjvUzlCvQGYDSwys4nAdnff\nto/CyvDHCUBdXR11dXWxy0gF/S475w5vvQXr10NT0ycfX38dduyAYcP2bBs31jF1ah2DB8OgQWEb\nOHDP87/6K+hbjuSpEmZF5zlQRKib2d3AKcBgM9sI/AjYD