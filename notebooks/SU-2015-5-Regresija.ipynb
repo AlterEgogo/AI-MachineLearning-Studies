{
 "cells": [
  {
   "cell_type": "markdown",
   "metadata": {
    "slideshow": {
     "slide_type": "slide"
    }
   },
   "source": [
    "Sveučilište u Zagrebu<br>\n",
    "Fakultet elektrotehnike i računarstva\n",
    "\n",
    "# Strojno učenje\n",
    "\n",
    "<a href=\"http://www.fer.unizg.hr/predmet/su\">http://www.fer.unizg.hr/predmet/su</a>\n",
    "\n",
    "Ak. god. 2015./2016.\n",
    "\n",
    "# Bilježnica 5: Regresija\n",
    "\n",
    "(c) 2015 Jan Šnajder\n",
    "\n",
    "<i>Verzija: 0.3 (2015-11-09)</i>"
   ]
  },
  {
   "cell_type": "code",
   "execution_count": 1,
   "metadata": {
    "collapsed": false
   },
   "outputs": [
    {
     "name": "stdout",
     "output_type": "stream",
     "text": [
      "Populating the interactive namespace from numpy and matplotlib\n"
     ]
    }
   ],
   "source": [
    "import scipy as sp\n",
    "import scipy.stats as stats\n",
    "import matplotlib.pyplot as plt\n",
    "import pandas as pd\n",
    "%pylab inline"
   ]
  },
  {
   "cell_type": "markdown",
   "metadata": {},
   "source": [
    "### Sadržaj:\n",
    "\n",
    "* Uvod\n",
    "\n",
    "* Osnovni pojmovi\n",
    "\n",
    "* Model, funkcija gubitka i optimizacijski postupak\n",
    "\n",
    "* Postupak najmanjih kvadrata\n",
    "\n",
    "* Probabilistička interpretacija regresije\n",
    "\n",
    "* Poopćeni linearan model regresije\n",
    "\n",
    "* Odabir modela\n",
    "\n",
    "* Regularizirana regresija\n",
    "\n",
    "* Sažetak"
   ]
  },
  {
   "cell_type": "markdown",
  