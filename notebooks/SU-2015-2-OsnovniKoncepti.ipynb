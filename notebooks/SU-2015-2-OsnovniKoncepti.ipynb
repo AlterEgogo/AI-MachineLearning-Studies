
{
 "cells": [
  {
   "cell_type": "markdown",
   "metadata": {
    "slideshow": {
     "slide_type": "slide"
    }
   },
   "source": [
    "Sveučilište u Zagrebu<br>\n",
    "Fakultet elektrotehnike i računarstva\n",
    "\n",
    "# Strojno učenje\n",
    "\n",
    "<a href=\"http://www.fer.unizg.hr/predmet/su\">http://www.fer.unizg.hr/predmet/su</a>\n",
    "\n",
    "Ak. god. 2015./2016.\n",
    "\n",
    "# Bilježnica 2: Osnovni koncepti strojnog učenja\n",
    "\n",
    "(c) 2015 Jan Šnajder\n",
    "\n",
    "<i>Verzija: 0.7 (2015-10-21)</i>"
   ]
  },
  {
   "cell_type": "code",
   "execution_count": 1,
   "metadata": {
    "collapsed": false
   },
   "outputs": [
    {
     "name": "stdout",
     "output_type": "stream",
     "text": [
      "Populating the interactive namespace from numpy and matplotlib\n"
     ]
    }
   ],
   "source": [
    "import scipy as sp\n",
    "import scipy.stats as stats\n",
    "import matplotlib.pyplot as plt\n",
    "from numpy.random import normal\n",
    "%pylab inline"
   ]
  },
  {
   "cell_type": "markdown",
   "metadata": {},
   "source": [
    "### Sadržaj:\n",
    "\n",
    "* Tipični koraci primjene algoritma SU\n",
    "\n",
    "* Prostor primjera\n",
    "\n",
    "* Hipoteza i model\n",
    "\n",
    "* Empirijska pogreška\n",
    "\n",
    "* Prostor inačica\n",
    "\n",
    "* Složenost modela\n",
    "\n",
    "* Induktivna pristranost\n",
    "\n",
    "* Tri komponente svakog algoritma SU\n",
    "\n",
    "* Primjer: regresija\n",
    "\n",
    "* Problem šuma\n",
    "\n",
    "* Odabir modela"
   ]
  },
  {
   "cell_type": "markdown",
   "metadata": {},
   "source": [
    "# Tipični koraci primjene algoritma SU\n",
    "\n",
    "\n",
    "\n",
    "1. Priprema podataka\n",
    "\n",
    "2. (Označavanje podataka za učenje i ispitivanje)\n",
    "\n",
    "3. (Redukcija dimenzionalnosti)\n",
    "\n",
    "4. **Odabir modela**\n",
    "\n",
    "5. **Učenje modela**\n",
    "\n",
    "6. **Vrednovanje modela**\n",
    "\n",
    "7. **Dijagnostika i ispravljanje (debugging)**\n",
    "\n",
    "8. Instalacija (deployment)\n",
    "\n",
    "\n",
    "* Naš fokus su koraci 4-7"
   ]
  },
  {
   "cell_type": "markdown",
   "metadata": {},
   "source": [
    "# Prostor primjera\n",
    "\n",
    "\n",
    "* Prostor primjera (ulazni prostor): $\\mathcal{X}$\n",
    "\n",
    "\n",
    "* Dimenzija ulaznog prostora: $n$\n",
    "\n",
    "\n",
    "* Primjer je vektor u ulaznom prostoru: $\\mathbf{x} = (x_1, x_2, \\dots, x_n)^T \\in \\mathcal{X}$\n",
    "\n",
    "\n",
    "* Oznaka (engl. *label*) klase (za klasifikaciju) ili ciljna vrijednost (za regresiju): $y$\n",
    "\n",
    "\n",
    "* Skup oznaka klase: $\\mathcal{Y} = \\{0, \\dots, K\\}$\n",
    "  * Broj klasa: $K$\n",
    "  * Binarna klasifikacija: $K=2$, $\\mathcal{Y} = \\{0,1\\}$\n",
    "\n",
    "\n",
    "* Broj primjera: $N$\n",
    "\n",
    "\n",
    "* Skup označenih primjera za učenje: $\\mathcal{D} = \\big\\{(x^{(i)}, y^{(i)})\\big\\}_{i=1}^N \\subseteq \\mathcal{X}\\times\\mathcal{Y}$\n",
    "\n",
    "\n",
    "* Matrično:\n",
    "\\begin{array}{lllll|l}\n",
    "&x_1 & x_2 & \\cdots & x_n & \\mathbf{y}\\\\\n",
    "\\hline\n",
    "\\mathbf{x}^{(1)} = & x_1^{(1)} & x_2^{(1)} & \\cdots & x_n^{(1)} & y^{(1)}\\\\\n",
    "\\mathbf{x}^{(2)} = & x_1^{(2)} & x_2^{(2)} & \\cdots & x_n^{(2)} & y^{(2)}\\\\\n",
    "& \\vdots\\\\\n",
    "\\mathbf{x}^{(N)} = & x_1^{(N)} & x_2^{(N)} & \\cdots & x_n^{(N)} & y^{(N)}\\\\\n",
    "\\end{array}\n",
    "Matrica $\\mathcal{D}$ sastavljena je od matrice $\\mathbf{X}_{N\\times n}$ i vektora $\\mathbf{y}_{N\\times 1}$\n"
   ]
  },
  {
   "cell_type": "markdown",
   "metadata": {},
   "source": [
    "# Hipoteza i model\n",
    "\n",
    "* Hipoteza: $h : \\mathcal{X} \\to \\mathcal{Y}$\n",
    "  * Funkcija koja svakom primjeru (iz prostora primjera) dodjeljuje oznaku klase (iz skupa oznaka klase)\n",
    "\n",
    "\n",
    "* Binarna klasifikacija: $h : \\mathcal{Y} \\to \\{0, 1\\}$\n",
    "  * Definicija: Primjer $\\mathbf{x}\\in\\mathcal{X}$ **zadovoljava** hipotezu $h$ akko $h(\\mathbf{x})=1$\n",
    "  * Definicija: Hipoteza $h$ je **konzistentna** s primjerom $(\\mathbf{x}, y)$ akko $h(\\mathbf{x})=y$\n",
    "\n",
    "\n",
    "* Općenitije: $h(\\mathbf{x} | \\theta)$\n",
    "  * Funkcija parametrizirana parametrima $\\theta$ (vektor parametara)\n",
    "  * Npr.:\n",
    "    * Linearna regresija: $h(x) = \\theta_1 x + \\theta_0$\n",
    "    * Linearan klasifikacijski model: $h(x_1,x_2|\\theta_0,\\theta_1,\\theta_2) = \\mathbf{1}\\{\\theta_1 x_1 + \\theta_2 x_2 + \\theta_0 \\geq 0\\}$\n",
    "\n",
    "\n",
    "\n",
    "* Model $\\mathcal{H}$: skup hipoteza $h$\n",
    "\n",
    "\n",
    "* Formalno: $\\mathcal{H} = \\big\\{ h(\\mathbf{x} | \\theta)\\big\\}_{\\theta}$\n",
    "  * Familija funkcija parametriziranih s $\\theta$\n",
    "  \n",
    "  \n",
    "* Učenje (treniranje modela) svodi se na **pretraživanje** prostora hipoteza $\\mathcal{H}$ i nalaženje **najbolje** hipoteze $h\\in \\mathcal{H}$\n",
    "  * Najbolja hipoteza: ona koja najtočnije klasificira primjere (klasifikacija) odnosno daje vrijednosti najbliže ciljnim vrijednostima (regresija)\n",
    "  * Optimizacijski problem!\n",
    "  \n",
    "  \n",
    "* [Primjer: Ulazni prostor + prostor parametara]\n",
    "\n",
    "\n",
    "* $\\mathcal{H}$ je vrlo velik, pa nam često treba heuristička optimizacija"
   ]
  },
  {
   "cell_type": "markdown",
   "metadata": {},
   "source": [
    "# Empirijska pogreška\n",
    "\n",
    "* Iskazuje koliko točno hipoteza klasificira primjere (klasifikacija) ili koliko su vrijednosti blizu ciljnih vrijednosti (regresija)\n",
    "\n",
    "\n",
    "* Pogreška klasifikacija (engl. *misclassification error*):\n",
    "\n",
    "$$\n",
    "E(h|\\mathcal{D}) \n",
    "= \\frac{1}{N} \\sum_{i=1}^N \\mathbf{1}\\{h(\\mathbf{x})^{(i)} \\neq y^{(i)}\\}\n",
    "$$\n",
    "\n",
    "* Specifično, za binarnu klasifikaciju s $\\mathcal{Y}=\\{0,1\\}$:\n",
    "\n",
    "$$\n",
    "E(h|\\mathcal{D}) = \\frac{1}{N} \\sum_{i=1}^N |h(\\mathbf{x})^{(i)} - y^{(i)}|\n",
    "$$\n",
    "\n",
    "* [Primjer]\n",
    "\n",
    "\n",
    "* Vrijednost pogreške načinjene na pojedinačnom primjeru (funkcija unutar sume) zove se **funkcija gubitka** (engl. *loss function*)\n",
    "  * Gubitak $\\mathbf{1}\\{h(\\mathbf{x})^{(i)} \\neq y^{(i)}\\}$ zove se **gubitak nula-jedan** (engl. *zero-one loss*)"
   ]
  },
  {
   "cell_type": "markdown",
   "metadata": {},
   "source": [
    "# Prostor inačica (engl. *version space*)\n",
    "\n",
    "\n",
    "* $\\mathit{VS}_{\\mathcal{H},\\mathcal{D}} \\subseteq \\mathcal{H}$\n",
    "\n",
    "\n",
    "* Skup hipoteza iz $\\mathcal{H}$ koje su konzistentne s primjerima za učenje $\\mathcal{D}$\n",
    "\n",
    "$$\n",
    "\\mathit{VS}_{\\mathcal{H},\\mathcal{D}} =\n",
    "\\Big\\{h\\in\\mathcal{H} \\mid \\forall(\\mathbf{x},y)\\in\\mathcal{D}.\\ \\big(h(\\mathbf{x})=y\\big)\\Big\\}\n",
    "$$\n",
    "\n",
    "* [Primjer]\n",
    "\n"
   ]
  },
  {
   "cell_type": "markdown",
   "metadata": {},
   "source": [
    "# Složenost modela\n",
    "\n",
    "\n",
    "* Idealno, u modelu $\\mathcal{H}$ postoji hipoteza $h$ koja je konzistentna s $\\mathcal{D}$, tj. hipoteza za koju vrijedi $E(h|\\mathcal{D}) = 0$\n",
    "\n",
    "\n",
    "* No, moguće je da takva $h$ ne postoji, tj. $\\forall h\\in\\mathcal{H}. E(h|\\mathcal{D}) > 0$\n",
    "\n",
    "\n",
    "* Tada kažemo da model $\\mathcal{H}$ nije dovoljne **složenosti** (ili kapaciteta)\n",
    "\n",
    "\n",
    "* [Primjer]\n",
    "\n",
    "\n",
    "* [Zadatak: 6 primjera]"
   ]
  },
  {
   "cell_type": "markdown",
   "metadata": {},
   "source": [
    "#Induktivna pristranost (engl. *inductive bias*)\n",
    "\n",
    "* Učenje hipoteze je **loše definiran problem**: $h$ ne slijedi deduktivno iz $\\mathcal{D}$\n",
    "\n",
    "\n",
    "* Primjer 1: Učenje Booleove funkcije\n",
    "\n",
    "\\begin{array}{ccc|c}\n",
    "x_1 & x_2 & x_3 & y\\\\\n",
    "\\hline\n",
    "0&0&0&\\color{red}{\\textbf{?}}\\\\\n",
    "0&0&1&\\color{red}{\\textbf{?}}\\\\\n",
    "0&1&0&1\\\\\n",
    "0&1&1&0\\\\\n",
    "1&0&0&1\\\\\n",
    "1&0&1&0\\\\\n",
    "1&1&0&\\color{red}{\\textbf{?}}\\\\\n",
    "1&1&1&1\\\\\n",
    "\\end{array}\n",
    "\n",
    "* $N = |\\mathcal{D}|=5$, $n=3$, $\\mathcal{X} = \\{0,1\\}^3$, $|\\mathit{VS}| = 2^{2^n - N} = 8$\n",
    "\n",
    "\n",
    "* **Generalizacija** - sposobnost klasifikacije još neviđenih primjera\n",
    "\n",
    "\n",
    "* Učenje i generalizacija nisu mogući bez **dodatnih pretpostavki**\n",
    "  * *Futility of bias-free learning*\n",
    "\n",
    "\n",
    "* **Induktivna pristranost** (engl. inductive bias)\n",
    "  * $\\mathcal{L}$ - algoritam učenja\n",
    "  * $h_\\mathcal{L}$ - hipoteza inducirana pomoću $\\mathcal{L}$ na $\\mathcal{D}$\n",
    "  * $h_\\mathcal{L}(\\mathbf{x})$ - klasifikacija primjera $\\mathbf{x}\\in\\mathcal{X}$\n",
    "  * Induktivna pristranost od $\\mathcal{L}$ je bilo koji skup minimalnih pretpostavki $\\mathcal{B}$ takvih da \n",
    "  \n",
    "$$\n",
    "  \\forall \\mathcal{D}.\\,\\forall\\mathbf{x}\\in \\mathcal{X}.\\,\\big((\\mathcal{B}\\land\\mathcal{D}\\land\\mathbf{x})\\ \\vdash\\ h_\\mathcal{L}(\\mathbf{x})\\big)\n",
    "$$\n",
    "\n",
    "\n",
    "* Skup pretpostavki koje *od indukcije čine dedukciju*\n",
    "\n",
    "\n",
    "* Dvije vrste induktivne pristranosti:\n",
    "\n",
    "  * **Pristranost jezika** (pristranost ograničenjem): odabiremo model $\\mathcal{H}$ koji ograničava skup prikazivih hipoteza\n",
    "  \n",
    "  * **Pristranost preferencijom** (pristranost pretraživanja): definiramo način pretraživanja unutar $\\mathcal{H}$\n",
    "  \n",
    "  \n",
    "* Većina aloritama SU kombinira obje vrste pristranosti\n",
    "\n",
    "\n",
    "* [Primjer 2: Ulazni prostor + prostor parametara]\n",
    "\n",
    "\n",
    "* Zadatak 3: \n",
    "  * Učenje Booleove funkcije u $\\mathcal{X}=\\{0,1\\}$, $\\mathcal{H}$ je skup pravaca\n",
    "  * Q: Koja je ovo vrsta pristranosti?\n",
    "  * Q: Koliko različitih hipoteza postoji?\n",
    "  * Q: Postoji li za svako označavanje konzistentna hipoteza u $\\mathcal{H}$?\n",
    "  \n",
    "  \n",
    "* Razmotrimo opet Primjer 1, uz $\\mathcal{H} = \\text{skup ravnina u $\\mathbb{R}^3$}$"
   ]
  },
  {
   "cell_type": "markdown",
   "metadata": {},
   "source": [
    "#Tri komponente svakog algoritma SU\n",
    "\n",
    "\n",
    "* **(1) Model** $\\mathcal{H}$\n",
    "  * $\\mathcal{H} = \\big\\{ h(\\mathbf{x} | \\theta)\\big\\}_{\\theta}$\n",
    "\n",
    "\n",
    "* **(2) Funkcija gubitka** $L(y, h(\\mathbf{x}))$\n",
    "\n",
    "  * Izračunava kolika je pogreška hipoteze (naučenog modela) na primjeru $\\mathbf{x}^{(i)}$\n",
    "\n",
    "  * Uobičajene funkcije gubitka:\n",
    "    * Kvadratno odstupanje (regresija): $L\\big(y,h(\\mathbf{x}^{(i)}|\\theta)\\big)=(h(\\mathbf{x}^{(i)}|\\theta) - y^{(i)})^2$\n",
    "    * Gubitak 0-1 (klasifikacija): $L\\big(y,h(\\mathbf{x}^{(i)}|\\theta)\\big) = \\mathbf{1}\\{h(\\mathbf{x})^{(i)} \\neq y^{(i)}\\}$\n",
    " \n",
    " \n",
    "* **Funkcija pogreške** definirana je kao očekivana vrijednost funkcije gubitka na primjerima iz $\\mathcal{X}\\times\\mathcal{Y}$\n",
    "$$\n",
    "E(h) = \\mathbb{E}_{\\mathbf{x},y}[L]\n",
    "$$\n",
    "  * Međutim, prava distribucija primjera i oznaka, $P(\\mathbf{x}, y)$ je nepoznata, pa umjesto toga računamo *empirijsku pogrešku* (pogrešku na skupu označenih primjera $\\mathcal{D}$)\n",
    "$$E(h|\\mathcal{D}) = \\mathbb{E}_{D}[L] = \\frac{1}{N} \\sum_{i=1}^N L\\big(y^{(i)}, h(\\mathbf{x}^{(i)})\\big)$$\n",
    "  * Budući da su hipoteze indeksirane preko parametara $\\theta$, možemo pisati\n",
    "$$E(\\color{red}{\\theta}|\\mathcal{D}) = \\mathbb{E}_{D}[L] = \\frac{1}{N} \\sum_{i=1}^N L\\big(y^{(i)}, h(\\mathbf{x}^{(i)}|\\color{red}{\\theta})\\big)$$\n",
    "\n",
    "* **(3) Optimizacijski postupak**\n",
    "\n",
    "  * Postupak kojim nalazimo hipotezu $h^*$ koja minimizira empirijsku pogrešku\n",
    "$$\n",
    "h^* = \\mathrm{argmin}_{h\\in\\mathcal{H}} E(h|\\mathcal{D})\n",
    "$$\n",
    "tj. \n",
    "$$\n",
    "\\theta^* = \\mathrm{argmin}_{\\theta} E(\\theta|\\mathcal{D})\n",
    "$$\n",
    "\n",
    "\n",
    "* Optimizacija može biti analitička ili heuristička\n",
    "  * Analitičke postupke koristimo kada postoji rješenje u **zatvorenoj formi**\n",
    "\n",
    "\n",
    "* Gornje tri komponente definiraju i induktivnu pristranost svakog algoritma\n",
    "  * Q: Koja vrsta induktivne pristranosti je vezana uz koje komponente?"
   ]
  },
  {
   "cell_type": "markdown",
   "metadata": {},
   "source": [
    "# Primjer: regresija\n",
    "\n",
    "* $y \\in \\mathbb{R}$\n",
    "\n",
    "\n",
    "* Na temelju $\\mathcal{D}=\\{(\\mathbf{x}^{(i)},y^{(i)})\\}$ učimo funkciju $h$ koja aproksimira nepoznatu funkciju $f:\\mathcal{X}\\to\\mathbb{R}$\n",
    "\n",
    "\n",
    "* Idealno, $y^{(i)}=f(\\mathbf{x}^{(i)})$, ali zbog šuma  $y=f(\\mathcal{x}^{(i)})+\\varepsilon$ \n",
    "\n",
    "\n",
    "* [Primjeri: Box Office Revenue, prosjek ocjena, cijena automobila]\n",
    "\n",
    "\n",
    "* Funkcija gubitka je kvadratna:\n",
    "$$\n",
    "L(y, h(\\mathbf{x})) = (y - h(\\mathbf{x}))^2\n",
    "$$\n",
    "pa je empirijska pogreška hipoteze\n",
    "$$\n",
    "E(h|\\mathcal{D})=\\color{red}{\\frac{1}{2}}\\sum_{i=1}^N\\big(y^{(i)}-h(\\mathbf{x}^{(i)})\\big)^2\n",
    "$$\n",
    "NB: Umjesto $1/N$, kod pogreške regresije koristimo $1/2$ zbog kasnije matematičke jednostavnosti. To međutim nema utjecaja na optimizaciju (radi se o konstanti)\n",
    "\n",
    "* **Linearan model**: hiperravnina u $\\mathbb{R}^n$\n",
    "\n",
    "$$\n",
    "h(\\mathbf{x}|\\mathbf{w}) = w_1 x_1 + w_2 x_2 + \\dots + w_n x_n + w_0 = \n",
    "\\sum_{i=1}^n w_i x_i + w_0 = \\mathbf{w}^T\\mathbf{x} + w_0\n",
    "$$\n",
    "\n",
    "* Za $n=2$ imamo $\\mathcal{X}=\\mathbb{R}$. Model je\n",
    "$$\n",
    "h(x|\\mathbf{w}) = w_1 x + w_0\n",
    "$$\n",
    "funkcija gubitka je\n",
    "$$\n",
    "L(y^{(i)}, h(x^{(i)})) = \\big(y^{(i)}-(w_1 x^{(i)} + w_0)\\big)^2\n",
    "$$\n",
    "a pogreška je\n",
    "\n",
    "$$\n",
    "E(h|\\mathcal{D})=\\frac{1}{2}\n",
    "\\sum_{i=1}^N\\big(y^{(i)}-(w_1 x^{(i)} + w_0)\\big)^2\n",
    "$$"
   ]
  },
  {
   "cell_type": "markdown",
   "metadata": {},
   "source": [
    "**(1) Model**:"
   ]
  },
  {
   "cell_type": "code",
   "execution_count": 2,
   "metadata": {
    "collapsed": false
   },
   "outputs": [],
   "source": [
    "def h(x, w): return w[1] * x + w[0]"
   ]
  },
  {
   "cell_type": "markdown",
   "metadata": {},
   "source": [
    "**(2) Funkcija gubitka** (i njoj odgovarajuća funkcija pogreške):"
   ]
  },
  {
   "cell_type": "code",
   "execution_count": 3,
   "metadata": {
    "collapsed": false
   },
   "outputs": [],
   "source": [
    "def quadratic_loss(y, hx):\n",
    "    return (y - hx)**2\n",
    "    \n",
    "def error(h, X, y):\n",
    "    err = 0\n",
    "    for xi, yi in zip(X, y):\n",
    "        err += quadratic_loss(yi, h(xi))\n",
    "    return 0.5 * err"
   ]
  },
  {
   "cell_type": "markdown",
   "metadata": {},
   "source": [
    "Funkcija koja generira podatke (i koju zapravo želimo naučiti):"
   ]
  },
  {
   "cell_type": "code",
   "execution_count": 4,
   "metadata": {
    "collapsed": false
   },
   "outputs": [
    {
     "data": {
      "image/png": "iVBORw0KGgoAAAANSUhEUgAAAXEAAAEACAYAAABF+UbAAAAABHNCSVQICAgIfAhkiAAAAAlwSFlz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\nQmCC\n",
      "text/plain": [
       "<matplotlib.figure.Figure at 0x7f5f67e06450>"
      ]
     },
     "metadata": {},
     "output_type": "display_data"
    }
   ],
   "source": [
    "def f(x): return 3 * x + 2\n",
    "xs = sp.linspace(0, 10)\n",
    "plt.plot(xs, f(xs));"
   ]
  },
  {
   "cell_type": "markdown",
   "metadata": {},
   "source": [
    "Skup primjera za učenje $\\mathcal{D}=(\\mathbf{X},\\mathbf{y})$ dobiven je iz $f(x)$, uz dodatan šum:"
   ]
  },
  {
   "cell_type": "code",
   "execution_count": 5,
   "metadata": {
    "collapsed": false
   },
   "outputs": [],
   "source": [
    "X = linspace(0, 10)\n",
    "y = f(X) + 2 * stats.norm.rvs(scale=3, size=50)"
   ]
  },
  {
   "cell_type": "code",
   "execution_count": 6,
   "metadata": {
    "collapsed": false
   },
   "outputs": [
    {
     "data": {
      "text/plain": [
       "array([  0.        ,   0.20408163,   0.40816327,   0.6122449 ,\n",
       "         0.81632653,   1.02040816,   1.2244898 ,   1.42857143,\n",
       "         1.63265306,   1.83673469,   2.04081633,   2.24489796,\n",
       "         2.44897959,   2.65306122,   2.85714286,   3.06122449,\n",
       "         3.26530612,   3.46938776,   3.67346939,   3.87755102,\n",
       "         4.08163265,   4.28571429,   4.48979592,   4.69387755,\n",
       "         4.89795918,   5.10204082,   5.30612245,   5.51020408,\n",
       "         5.71428571,   5.91836735,   6.12244898,   6.32653061,\n",
       "         6.53061224,   6.73469388,   6.93877551,   7.14285714,\n",
       "         7.34693878,   7.55102041,   7.75510204,   7.95918367,\n",
       "         8.16326531,   8.36734694,   8.57142857,   8.7755102 ,\n",
       "         8.97959184,   9.18367347,   9.3877551 ,   9.59183673,\n",
       "         9.79591837,  10.        ])"
      ]
     },
     "execution_count": 6,
     "metadata": {},
     "output_type": "execute_result"
    }
   ],
   "source": [
    "X"
   ]
  },
  {
   "cell_type": "code",
   "execution_count": 7,
   "metadata": {
    "collapsed": false
   },
   "outputs": [
    {
     "data": {
      "text/plain": [
       "50"
      ]
     },
     "execution_count": 7,
     "metadata": {},
     "output_type": "execute_result"
    }
   ],
   "source": [
    "len(_)"
   ]
  },
  {
   "cell_type": "code",
   "execution_count": 8,
   "metadata": {
    "collapsed": false
   },
   "outputs": [
    {
     "data": {
      "text/plain": [
       "array([  0.67064434,   7.31239169,   9.56400499,   0.2890283 ,\n",
       "         6.96746129,  14.86178311,  12.60975181,  -0.28934441,\n",
       "         6.44890713,   7.28992995,  13.72389263,  19.61341887,\n",
       "        15.62669111,  14.43066191,   8.76710654,  19.48489724,\n",
       "        -1.27170224,  10.81539578,  21.36130674,  14.3632114 ,\n",
       "        14.6825962 ,  12.37886072,   5.04860612,  27.01349903,\n",
       "        14.15906195,   8.62295154,  16.36435167,  15.92878647,\n",
       "        12.01783068,  25.11064324,  24.71867488,  25.64192171,\n",
       "        21.53657671,  26.70048261,  30.36258764,  22.37268596,\n",
       "        27.29906374,  32.14498482,  12.14117217,  16.54494565,\n",
       "        32.29949169,  13.98599392,  26.27138558,  28.5969641 ,\n",
       "        29.10679964,  26.91455084,  32.36537598,  31.40052367,\n",
       "        29.39580935,  23.59296505])"
      ]
     },
     "execution_count": 8,
     "metadata": {},
     "output_type": "execute_result"
    }
   ],
   "source": [
    "y"
   ]
  },
  {
   "cell_type": "code",
   "execution_count": 6,
   "metadata": {
    "collapsed": false
   },
   "outputs": [
    {
     "name": "stderr",
     "output_type": "stream",
     "text": [
      "/usr/local/lib/python2.7/dist-packages/matplotlib/collections.py:590: FutureWarning: elementwise comparison failed; returning scalar instead, but in the future will perform elementwise comparison\n",
      "  if self._edgecolors == str('face'):\n"
     ]
    },
    {
     "data": {
      "image/png": "iVBORw0KGgoAAAANSUhEUgAAAXkAAAEACAYAAABWLgY0AAAABHNCSVQICAgIfAhkiAAAAAlwSFlz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\nZJiSvIhIhv0/tPhebNOUa0UAAAAASUVORK5CYII=\n",
      "text/plain": [
       "<matplotlib.figure.Figure at 0x7f5f53b6e710>"
      ]
     },
     "metadata": {},
     "output_type": "display_data"
    }
   ],
   "source": [
    "plt.plot(xs, f(xs), '--')\n",
    "plt.scatter(X, y)\n",
    "plt.show()"
   ]
  },
  {
   "cell_type": "markdown",
   "metadata": {},
   "source": [
    "Dvije hipoteze iz našeg modela:"
   ]
  },
  {
   "cell_type": "code",
   "execution_count": 7,
   "metadata": {
    "collapsed": false
   },
   "outputs": [],
   "source": [
    "def h1(x): return h(x, [0,1])\n",
    "def h2(x): return h(x, [0,2])"
   ]
  },
  {
   "cell_type": "code",
   "execution_count": 8,
   "metadata": {
    "collapsed": false
   },
   "outputs": [
    {
     "data": {
      "image/png": "iVBORw0KGgoAAAANSUhEUgAAAXkAAAEACAYAAABWLgY0AAAABHNCSVQICAgIfAhkiAAAAAlwSFlz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\nIhGmIC8iEmH/H1TiKAOCPR4oAAAAAElFTkSuQmCC\n",
      "text/plain": [
       "<matplotlib.figure.Figure at 0x7f5f51a95650>"
      ]
     },
     "metadata": {},
     "output_type": "display_data"
    }
   ],
   "source": [
    "weights = [[0,1], [0,2], [1,2]]\n",
    "plt.plot(xs, f(xs), '--')\n",
    "plt.scatter(X, y)\n",
    "plt.plot(xs, h1(xs), 'r', label='h1')\n",
    "plt.plot(xs, h2(xs), 'g', label='h2')\n",
    "plt.legend();"
   ]
  },
  {
   "cell_type": "markdown",
   "metadata": {},
   "source": [
    "Empirijske pogreške hipoteza na skupu $\\mathcal{D}$:"
   ]
  },
  {
   "cell_type": "code",
   "execution_count": 9,
   "metadata": {
    "collapsed": false
   },
   "outputs": [
    {
     "data": {
      "text/plain": [
       "5025.9784792784731"
      ]
     },
     "execution_count": 9,
     "metadata": {},
     "output_type": "execute_result"
    }
   ],
   "source": [
    "error(h1, X, y)"
   ]
  },
  {
   "cell_type": "code",
   "execution_count": 10,
   "metadata": {
    "collapsed": false
   },
   "outputs": [
    {
     "data": {
      "text/plain": [
       "2156.5878715137965"
      ]
     },
     "execution_count": 10,
     "metadata": {},
     "output_type": "execute_result"
    }
   ],
   "source": [
    "error(h2, X, y)"
   ]
  },
  {
   "cell_type": "markdown",
   "metadata": {},
   "source": [
    "**(3) Optimizacijski postupak**\n",
    "\n",
    "* Tražimo $h\\in\\mathcal{H}$ koja minimizira empirijsku pogrešku\n",
    "\n",
    "$$\n",
    "h^* = \n",
    "\\mathrm{argmin}_{h\\in\\mathcal{H}} E(h|\\mathcal{D}) = \n",
    "\\mathrm{argmin}_{h\\in\\mathcal{H}} \\frac{1}{2}\n",
    "\\sum_{i=1}^N\\big(y^{(i)}-h(x^{(i)})\\big)^2\n",
    "$$\n",
    "\n",
    "* Hipoteza $h$ je indeksirana parametrima $(w_0, w_1)$, dakle zapravo tražimo\n",
    "\n",
    "$$\n",
    "(w_0,w_1)^* =\n",
    "\\mathrm{argmin}_{w_0,w_1} \\frac{1}{2} \n",
    "\\sum_{i=1}^N\\big(y^{(i)}-(w_1 x^{(i)} + w_0)\\big)^2\n",
    "$$\n",
    "\n",
    "* U ovom slučaju postoji **analitičko rješenje** (rješenje u zatvorenoj formi)\n",
    "\n",
    "\\begin{eqnarray*}\n",
    "    && \\nabla_{w_0,w_1} E(h|\\mathcal{D})=0\\\\\n",
    "    &&\\frac{\\partial}{\\partial w_0}\\Big[\n",
    "\\frac{1}{2}\\sum_i^N\\big(y^{(i)}-(w_1 x^{(i)}+ w_0)\\big)^2\\Big] = 0 \\\\\n",
    "&&\\frac{\\partial}{\\partial w_1}\\Big[\\frac{1}{2}\\sum_i^N\\big(y^{(i)}-(w_1 x^{(i)}+\n",
    "w_0)\\big)^2\\Big] = 0\\\\\n",
    "&&\\vdots\\\\\n",
    "&& w_0= \\bar{y} - w_1\\bar{x}\\\\\n",
    "&& w_1 = \\frac{\\sum_i^N x^{(i)}y^{(i)} - N\\bar{x}\\bar{y} }\n",
    "{\\sum_i^N(x^{(i)})^2 - N\\bar{x}^2}\n",
    "\\end{eqnarray*}\n"
   ]
  },
  {
   "cell_type": "code",
   "execution_count": 11,
   "metadata": {
    "collapsed": false
   },
   "outputs": [],
   "source": [
    "N = len(X)\n",
    "x_mean = sp.mean(X)\n",
    "y_mean = sp.mean(y)\n",
    "w1 = (np.dot(X, y) - N * x_mean * y_mean) / (sum(X**2) - N * (x_mean**2))\n",
    "w0 = sp.mean(y) - w1 * sp.mean(X)"
   ]
  },
  {
   "cell_type": "code",
   "execution_count": 12,
   "metadata": {
    "collapsed": false
   },
   "outputs": [
    {
     "name": "stdout",
     "output_type": "stream",
     "text": [
      "2.82127363032 2.57918900236\n"
     ]
    }
   ],
   "source": [
    "print w1, w0"
   ]
  },
  {
   "cell_type": "code",
   "execution_count": 13,
   "metadata": {
    "collapsed": false
   },
   "outputs": [],
   "source": [
    "def h_best(x): return h(x, [w0,w1])"
   ]
  },
  {
   "cell_type": "code",
   "execution_count": 14,
   "metadata": {
    "collapsed": false
   },
   "outputs": [
    {
     "data": {
      "image/png": "iVBORw0KGgoAAAANSUhEUgAAAXkAAAEACAYAAABWLgY0AAAABHNCSVQICAgIfAhkiAAAAAlwSFlz\nAAALEgAACxIB0t1+/AAAIABJREFUeJzt3Xl8VeW1//HPEhQDqIADoFJQq5fqxTriiMRqiFYbBW4p\nrVUUFSuWqdSC2nvFtv5UWiSIoqWiBmcUQbSaEJVoKU6o1AEVJypQCQqiIkGGrN8f+wRDDJAz7nP2\n+b5fr/3iTDt7nQDrPOfZ61nb3B0REYmmHcIOQERE0kdJXkQkwpTkRUQiTEleRCTClORFRCJMSV5E\nJMKaJ/sDzGwx8CWwCdjg7t3NrB3wINAZWAz0c/fVyR5LRETik4qRvAOF7n64u3ePPTYaqHT3g4Cn\nY/dFRCTDUjVdYw3ulwBlsdtlwNkpOo6IiMQhVSP5p8xsvpldHHusvbtXx25XA+1TcBwREYlT0nPy\nwAnu/omZ7QlUmtk79Z90dzcz9U4QEQlB0kne3T+J/fmpmc0AugPVZtbB3ZebWUdgRcP9lPhFRBLj\n7g2nyLcqqekaM2tpZrvEbrcCegFvALOAAbGXDQBmbiXQnN2uvvrq0GNQ/OHHofhzb8vl2N3jHxsn\nO5JvD8wws7qfda+7zzaz+cA0M7uQWAllkscREZEEJJXk3f0j4LBGHl8FnJrMzxYRkeRpxWuCCgsL\nww4hKYo/XIo/PLkceyIskTmelBzYzMM6tohIrjIzPFMnXkVEJLspyYuIRJiSvIhIhCnJi4hEmJK8\niEiEKcmLiESYkryISIQpyYuIRJiSvIhIhCnJi4hEmJK8iEiEKcmLiESYkryISIQpyYuIRJiSvIhI\nhCnJi4hEmJK8iEiEKcmLiESYkryISIQpyYuIRJiSvIhIhCnJi4hEmJK8iEiEKcmLiESYkryISIQp\nyYuIRFhKkryZNTOz18zssdj9dmZWaWaLzGy2mbVJxXFERCQ+qRrJDwMWAh67PxqodPeDgKdj90VE\nJMOSTvJmti/wY+B2wGIPlwBlsdtlwNnJHkdEROKXipH8eOByoLbeY+3dvTp2uxpon4LjiIhInJJK\n8mZ2JrDC3V/j21H8Ftzd+XYaR0REMqh5kvsfD5SY2Y+BnYFdzexuoNrMOrj7cjPrCKxobOcxY8Zs\nvl1YWEhhYWGS4YiIREtVVRVVVVUJ72/BQDt5ZtYT+K27/8TMxgIr3f0GMxsNtHH30Q1e76k6tohE\nU0VFBePGTQZg5MhBFBcXhxxR+MwMd2905qQxyY7kG6rL2tcD08zsQmAx0C/FxxGRiKuoqKB37wHU\n1NwAwNy5A5gxo0yJPk4pG8nHfWCN5EVkG3r16ktlZQkwIPZIGUVFs5g9e3qYYYUu3pG8VryKiERY\nqqdrRERSYuTIQcydO4CamuB+QcEoRo4s2/ZO8h2arhGRrKUTr98V73SNkryISA7RnLyIiGymJC8i\nEmFK8iIiEaYkLyISYUryIiIRpiQvIhJhSvIiIhGmJC8iOa+iooJevfrSq1dfKioqwg4nq2gxlIjk\ntIbdKgsKRkW6W6VWvIpIXsm3bpVa8SoiIpupC6WI5DR1q9w2TdeISM7Lp26VmpMXEYkwzcmLiMhm\nSvIiIhGmJC8iEmFK8iIiEaYkLyISYUryIiIRpiQvIimjRmHZR3XyIpIS+dYoLCyqkxcRIPOj6nHj\nJscS/AAgSPZ1q1AlPEryIhFUN6qurCyhsrKE3r0H5N30yfz5UFsbdhThU5IXiaAwRtUjRw6ioGAU\nUAaUxRqFDUrrMRtyh7//HU46Cfr1g2XLMnr4rJRUkjeznc3sRTNbYGYLzey62OPtzKzSzBaZ2Wwz\na5OacEUkWxUXFzNjRtDLvahoVkbn4zdsgHvugR/+EK66CgYPhkWLoFOnBi9ctgwm59cUUtInXs2s\npbuvNbPmwFzgt0AJ8Jm7jzWzUUBbdx/dYD+deBVJk3w7CTp1KtxxB1xxBfTqBdbwtOTLL0NpKTzx\nBJx7Ltx4IzTPzU7roXWhNLOWwLPA+cB0oKe7V5tZB6DK3bs2eL2SvEga5VP7XfdGEvvGjTBzJowf\nH4zghwyBCy+ENrk9sZDxJG9mOwCvAgcAt7r778zsc3dvG3vegFV19+vtpyQvkuMy/UGyZAnstRe0\naLGNF61eDVOmwMSJsO++MGIEnHVWzo7cG4o3ySf9rt29FjjMzHYDKszs5AbPu5k1ms3HjBmz+XZh\nYSGFhYXJhiMiGdJwSmju3AFpmxJauBDGjoVZs6C8HLp3b+RF778PEybAvffC6afDQw/B0UenPJZM\nq6qqoqqqKuH9U7oYysz+F6gBLgIK3X25mXUE5mi6RiRaMnEB7Xnz4IYb4IUXYOjQ4IRq2/pzAu4w\nZ04w3/7883DxxXDZZbDPPimLIdtkdCRvZnsAG919tZkVAEXANcAsgr/5uhqumckcR0Tyz7PPwvnn\nw+WXw/33Q8uW9Z5cty54sLQ0KK0ZPhweeKDBiwSSHMmbWTeCotgdYtvd7v5nM2sHTAO+BywG+rn7\n6gb7aiQvWSGfTlCmUroreGprg22LqfTqarj1VrjtNjj88CC5N1pOE126xqtIHPKt1DDVUvEBuXZt\nMOvSqtU2XrRgQTDfPnMmS44/njGfr2dJ613z8kM53iSPu4eyBYcWCVdRUR+HuzxIM+5wlxcV9Qk7\nrLywcqX7Nde477WX+7Rpjbxg40b3Rx91Lyx032cf9+uu86enTfOCgvaxv7O7vKCgvZeXlzf688vL\ny72oqI8XFfXZ6mtyUSx3NjnXRqOmSERyxpIlwVqksjI4+2yoqoIf/KDeC776Cu68E266Cdq1C0og\n/+d/YMcdub5X33rtGqCmJmjh0HA0n8nKn2ynJC95beTIQcydO4CamuB+0G+lLNygImzxYjjiCLjg\nAnj99aCMfYsnJ06Eu+6CU04JlrEed1xC8+1b9u7Z+odBPlCSl7xW12/l23nl/BztZUqXLvDvf8Mu\nu8QecId//jOokpkzBwYOhFdfhc6dG91fH8rx04lXEUk592D0vNWKxvXrg8VKpaXwxRcwbBgMGACt\nW2/3ZzflZG9jJ9SvumoIzz776jb3ywWqrhGR0GzYAA8+GKxO7d8frryywQs++yzoAnnLLdC1a1AC\necYZsEPqu57X/zDo2fMIrr12YiSqqJTkRfJQ2LX+a9cG7WLGjQumZEaPhuLietPpCxcGo/aHHoI+\nfYKR+6GHZiy+TKzOzZSM964RkXCFXUmyZg0cdBAce2wwij/mmNgTtbVQXhEk99dfh1/9Ct59N+gw\nJhmjJC+S48KuJGndGl55BTp2jD3w9ddw993B4qWddw6mZGbN2qJ1ZKa/eeTzCVsleRFpso0bG+/Y\n27EjQQH8LbfA7bfDCScE7Qd69vxOCWQY3zzyuooqnpVTqdzQilfJc6lakVleXt7kVaCJmjfPvaTE\n/aKLGnnyhRfc+/d3b9vWfehQ9/ff3+bP0irj5BDnilddyFskBHWj2crKEiorS+jdewAVFRUJ/ax4\nrq1aUVFBr1596dWr73aPV/+i2L/4RXAi9aabYk9u3AjTpgWLlfr3Dxq8f/RRMEVzwAEJvQ9Jk3g+\nEVK5oZG8JCHX+5KEMZqNZ8S/aZP7cce5H3qo+333uW/YEHti1Sr3sWPdO3Vy79HDffr0oMdMmuKQ\n70K9ayTqwq4myVVbO0Fb9xx8exJ0hx2C9jEHHRSbUl+0KBjG33dfUNc+YwYceWRCceT1/HgY4vlE\nSOWGRvKSoCjM6SYzmk30W0xjv7fDDz/Bd955K3HU1ro/9ZT7GWe477mn++9/775sWSJvV1IIjeRF\nsl+io9lkvsU0LCNs0WICS5dewbp1xxBc3ycY3U8ceyvFS5cG9e21tUEJ5EMPQUFBYm9WwhXPJ0Iq\nNzSSlwTl85xust9iysvL/bjjhnrHjs9469brvXPnmQ7THNw78B+/hhJftVML99NPd6+oCEbzklVQ\ndY1EXTzVJLkmnuqXREyfXsyHH05g8OCT+fjjHfnrX3fm2Ba/4i5OZCHfp0OzSt665WZ44om8u6xe\nZMXziZDKDY3kRbbQlG8oyX6LeeUV97VrPaiImTHD/aSTfO0ee/jfvn+I9yk8M2++EeUy4hzJq0GZ\nSJZoahOtpFoCfPnlt1dd2nPP4KpLffrAjjum5k1I2qlBmUjEFRcXbzWx13WDfOKJYCHT5g6+H30U\nJPapU6GoCO65J1jIFIewO11KYpTkRbJEMk20Vq4M2sbcfDOceCKMGQM7mMNz/wiqZJ57Di68EBYs\ngE6d4o5NaxNyl068imSJxk4oA9s9ETtuHBx4YHBZveeeg0fu/4Zj3p0aLFa6+GI49dTgyRtuSCjB\nB8eov5AqSPZ1o3rJbhrJi2SR+lMxTR099+gBb7wB++z0Kdx2G0yaBP/93/CnP8FppyV01aWGUzOS\nu5TkRbJUU/vEd2/5JlxdCtOnQ9++UFkZJPkENfbhctVVQ5g7d1Re9mPPdUryIjmjkE2bngxu1tZC\neTmMHw9vvQWDBwf9ZfbcM+mjNPbh8uyzs9RvJkcpyYukWKqqUIYNu4SqqkfZsOEnAOy443X87rJf\nBNMxEyZAq1ZBCeTPfgY77ZSy+LdmW1U9kr1UJy+SQg2nOgoKRiVUhTJzZtAyZrfdVtGs2S10bTWP\nazvuwn7PPBM0eB8xIiijScOK1FS9B0mPeOvkk0ryZtYJmArsBTgw2d1vMrN2wINAZ2Ax0M/dVzfY\nV0leIqepC5q25+WXgxmZY/yFoASyshLOOw+GDIH990953A2pJj57ZXox1AZghLsvMLPWwCtmVglc\nAFS6+1gzGwWMjm0isj0bNnD0B9OD5L5iBQwbBpMnw667ZiwETc1ER1J18u6+3N0XxG6vAd4G9gFK\ngLpT72XA2ckcRyRXjBw5iIKCUQT/7MtiVSiNlyAuXBiUsa9cGXtg1aqgln3//YNSyNGj4b33giSf\nwQQv0ZKyxVBm1gU4HHgRaO/u1bGnqoH2qTqOSDZrSofMefOgpAR+9CPo0gVaLH43qI454IAg8z/6\nKFRVwdlnQ7NmYbwNiZCUVNfEpmqmA8Pc/SurdzLI3d3MGp18HzNmzObbhYWFFBYWpiIckVBtbapj\n/nz4zW9g6VL47UjnoUFP0eLWUrhpPlxySZDgO3YMIWLJZlVVVVRVVSW8f9LVNWa2I/A48KS7l8Ye\newcodPflZtYRmOPuXRvspxOvklfeeAPefrWGvuvupdnE0mAl6rBhcM45sPPOYYcnOSLeE69JTddY\nMGSfAiysS/Axs/i2vGAAMDOZ40h2S/eFLsKQ8vf0n//Q7cHf0+/yzjR7/NGgzv1f/wqahinBSzrF\n03y+4QacCNQCC4DXYttpQDvgKWARMBto08i+KWifL2GL4qX4knlPn33mfs017h98EHtg/nz3X/7S\nvW1b98suc3/33fQFLnmBOC8aoitDSVKSveZoQ+Xl5V5U1MeLivpsTqyNPZZOibynjz92Hz48yOUX\nnr/RV9w23b1HD/dOndzHjnVftSrtcee6TP8956p4k7zaGkjW2FpjrGuvnZi1fcw//hiuvjooiBl8\nzhd8OOQO2ky9Cd7tGCxZ7dMHmuu/2faoX30axfOJkMoNjeQjIZXTNY2NoNu1OyCl3xSaIp739NFH\n7hNHfOA1lwwLhvH9+7u/8EJa44uiVH8jjDI0kpdMqqsLj1J3wia9J3d47jm6jB/Pr+fOhYsuCk6k\nJnhRDpG0iecTIZUbGslLA42NoP/0pz+FfmJ3/Xr3u+92X7DA3detc7/rLvfDDnP/r/9yv/VW9zVr\nMhpPFEXxBH66EOdIXl0oJas01hgrrGZZa9fCHXfAX/4Ch++zglu63cbej94K3boFXSCLixO66pI0\nTk3RmiajXSiToSQv2erLL4My9ptvhp8f8jpXtprAXnMfgZ/+NFi8dMghYYcoeSzTXShFImfThlra\n/vMJPtxvPK3eeRsuuwzufA/22CPs0ETippG8SJ01a6CsLBjG77JLMCXTr19Grrok0lQZbWsgkk3i\nbUUwbx68+CJBsfvllwctIefMCSbi58+HX/5SCV5ynqZrJBKaupjGHZ58Eq6/ztnrg+eZsF8pvPM0\nnH9+cDmm/fYLIXqR9FGSl0gYN25yLMEHffFqaoLH6pL8xo3wwANw4w0bKPriYR7ZqZTdW67E+g+D\n86cE0zMiEaQkL5FWV5bX+ptNFP/7YOatmUqLbgdiw6+EM8/URTkk8pTkJRJGjhzE3LkDqKkJ7hcU\njKJnzyGMPuscLvmmGz/jJR5vVsGrN43j+MGDww1WJINUXSORUVFRwbXXTmddTTsmnb0LPn4i31tZ\nw18ZxiQGU00FRUWzmD17etihiiRM1TWSlxYuhIfvPokjXzmKJ5c8xlHTpvFs+33ozF+4mj9QTYdQ\n44vihVUkR8TTAyGVG+pdk/Vyob/3P//pfn7RUh/f8kpf02pP/6b4TPenn3avrc1IP5Sm/I7Ul0VS\nCV00RFIhFxJT7Usv+zN7n+M1Ldv6hkuHuC9a9J3XpPODqqm/I7XRlVSKN8nrxKs0ansliaHZuDG4\nQsf48diSJZw8YghcdDO0adPoy4uLi9MWc9b+jkTqUZKXrLd2Lbz74moOf3UKTJwI++4bXHXp7LNz\n4qpLjVX+jBxZFm5Qkjey/3+IhCIbEtPKlXD/H96j4G830b/2XuhzGkybBt27ZzSOrWnq7yiKF1aR\n3KESStmqsPp7L/nYmfWbOew/q5QTmz3PN+ddzB7/OzgYwWcZ9UCXTFM/eckKCSW/devg/vtZPKKU\ngmbr2eny4bQdei60bJnmaEVyh5K8hK5hs7CCglGNNgvbrLoabr0VbrsNDjsMHz4C61Wkqy6JNEKL\noWQLYSzC2bLqJEj2daP6Ou7w4Yx/wcCB0LUrLF8OzzwD5eXYabqsnkiq6H9ShNWNqCsrS6isLKF3\n7wGhr7bcsG4TVb+Zxcu7/IjW/c+g9vsHwvvvB6P4gw/OSAxafSp5JZ6i+lRuaDFU2oW1CKexRUKP\n3z/Tq/re5B81P8Df3uUoX/C7e732m/Vpj6UpsWXbIi+RbUGLoSRs9UsG29d8zR/3OoE9zh/I67v/\niK9vKeOQi48Ha/KUYkppAZPkGyX5CAut1t2d4latKN7V4JWX4ZgL2LTwRo7fv3P6jy0iW0i6usbM\n7gDOAFa4e7fYY+2AB4HOwGKgn7uvbrCfJ3ts2b6M1nGvX8/nkx+ibVkprF4NQ4cGl9XLoqsuxV35\nI5JlMl5CaWY9gDXA1HpJfizwmbuPNbNRQFt3H91gPyX5qPjsMz7+/WRald3CwtquHHX3cAr+54ys\nrZDRAibJZaHUyZtZF+Cxekn+HaCnu1ebWQegyt27NthHST7H+VsLWTKylLZPP0T5zr2pHTqckt8f\nSkFB2JGJRFe8ST5dc/Lt3b06drsaaJ+m40im1dbC7Nkwfjxfz3udx1tdSseb36X3hXvlQq8wkbyT\n9v+W7u5m1uiQfcyYMZtvFxYWUlhYmO5wJFFr18LUqTBhArRoASNG0OzBWVy6W4uwCmVE8kJVVRVV\nVVUJ75/O6ZpCd19uZh2BOZquyVFLl/LNjbfQ4u7b4YQTgha/PXuGVgIpku+ypa3BLOoKkYM/Z6bp\nOFkhkisoX3qJr8/6OWu/fyh3TfqaJdOeh5kzobBQCV4kh6SiuuZ+oCewB8H8+/8BjwLTgO8R8RLK\nSJXkbdwIM2aw9v+Vsva9ZZTWDoULL+RXo3bLxi6/kiNUzZRa6kKZYb169aWysoRvv7iUUVQ0i9mz\np4cZVnxWr4bbb4eJE/m05fcY9ckIvv+bEi4d0py2bcMOTnJZpAZBWSJbqmskF7z3XnAi9b774Iwz\nYPp0Wv7gKG7Zga2WQWpUJvFQG4nwKcknKRsukxcXd3jmGWpvLMVefhEbNAjefBP23huAVtvYteGo\nbO7cARqViWS7eLqZpXIjQl0oy8vLvaiojxcV9cnejoY1Ne5TpvimQ7r5Zx0O9lHtJvtzFWs3P92U\n9xBWV0vJXer6mXqoC2XmFRcXZ+9odvlymDSJ2tv+ygdtjuSqFX9h48lFjBptHHNM8BKN0CVddBHz\nLBDPJ0IqNyI0ks9Kr73mft557m3a+PI+l3r3Xd/2gQPd3377uy9t6ghdozKR8BHnSD47O0hFQCi1\n85s2waOPBrXsP/lJcKWlDz6g7f2TmP5WV6ZMCa60l6i6UVlR0SyKimZptC+SC+L5REjlRo6O5Jsy\nd53xEe+XX7qXlrrvv7/Xdu/uft997uubftUljdBFcgdxjuSV5OPQ1GSYsROUH37oPmKE17Zr58t6\n9PNLfvi833lnYj8qJ04ei4ima9Jpy5rf4ERl3QmljHGHf/wD+vTBjz6ahYuaU7zna5z+xYO0Oa2A\ne+75aUJTRMXFxcyePZ3Zs6drCmYrItm+QiJP1TVpkJba+fXr4cEHobQUvvqKzwcM54T5U9lrTWtG\nlwJU0KePKmTSRRVIkrPiGfanciPC0zV1r03J9Menn7r/8Y/uHTu6n3KK++OPu2/a5LW17vPnf/uy\nbK9hz/XpoGz//Ur+QHXy6RNPzW/StfNvvRWM2h9+GPr2hYoK6NZt89MGHHlk4j8+kzQKFglRPJ8I\nqdzIwZF82m3a5P73v7sXFbl36ODVv/6D/7pftV9//fZ3zeYKmSiMgrP59yv5BY3kc9DXX3971aWW\nLXnvzBGM3qkfc6e1YOhQGDRo+z9CKwvTS79fyVVqNRymJUvg5pthyhTo0YN1l46g1x97sGSp8dvf\nwsCBW+8GmUvUblYkddRPPhe88EIw3z57NgwYAEOGwP77A1BZCSefTOQuiq0WxSKpoSSfrTZuhOnT\nYfx4WLEChg6FgQOpeP75hJKfkqZIflKSzzaffw5/+1swLbPffnx14XBKPyzhm43N6NEjsWmMqEx/\n6INKJH7xJnlV16TLO++4Dx7s3rat+7nn+iePz/fhw4O7F1wQdINMtOpE1Soi+Qu1NQiROzz1FJx5\nJpx0Euy+O/7mW1y001QOPvdImjWD11+HO+5IrhtkFGRFiwiRPBCx03shqamBe+8NTqaawfDh8NBD\nUFCAEeT8P/+Z71wUO9H2Bzl3yUERCY3m5JPxyScwaRJMngxHHx0k91NOCRJ9EyU6L53r89lROa8g\nkmk68ZoJS5fClVfCY4/BL37BhsHDePC1g3jzTbj++rCDyx25/kElEgYl+UxYuRKmTGHtORcz5ZG2\njBsHXbrAFVeA8pSIpFO8SV5z8onYfXfGNfsdY4+AE04IOgDXXRRbRCSbKMknqFMnePZZVcmISHbT\ndI2ISA6Jd7pGdfI5QpeeE5FEpG0kb2anAaVAM+B2d7+hwfMayW9Fw6oTQOWGIgJkSXWNmTUD3gVO\nBZYBLwM/d/e3671GSb4RjdWPd+3alddeu4BgdShAGUVFs5g9e3pocYpIOLKluqY78L67L44F9QBw\nFvD2tnaShsv9g8W0//73H8MNSkRyVrrm5PcBltS7vzT2WF5LdF69c+cOFBSMAsqAslgbgyZcLkpE\n8l66RvKah2mgqRezbqwvzXXXBX1pdOk5EYlXupL8MqBTvfudCEbzWxgzZszm24WFhRQWFqYpnPA1\nNg0zbtzk7yTrbV1LVIldJP9UVVVRVVWV8P7pOvHanODE6ynAf4CXyPMTr7169aWysgSdPBWRZGTF\niVd332hmvwYqCEoop9RP8PlI7YFFJAxa8ZpB6rooIsnKijr5Jh04D5O8iEiy1NZAREQ2U5IXEYkw\nJfk8pGZnIvlDc/J5RtdWFcltOvEq26R6fZHcphOvIiKymS7/l2e0KEskv2i6Jg9pUZZI7tKcvIhI\nhGlOXkRENlOSFxGJMCV5EZEIU5IXEYkwJXkRkQhTkhcRiTAleRGRCFOSFxGJMCV5EZEIU5IXEYkw\nJXkRkQhTkhcRiTAleRGRCFOSFxGJMCV5EZEIU5IXEYkwJXkRkQhTkhcRibCEk7yZ/dTM3jKzTWZ2\nRIPnrjCz98zsHTPrlXyYIiKSiGRG8m8AvYHn6j9oZgcDPwMOBk4DJplZ5L4xVFVVhR1CUhR/uBR/\neHI59kQknHzd/R13X9TIU2cB97v7BndfDLwPdE/0ONkq1/+hKP5wKf7w5HLsiUjHCHtvYGm9+0uB\nfdJwHBER2Y7m23rSzCqBDo08daW7PxbHcTyuqEREJCXMPbn8a2ZzgJHu/mrs/mgAd78+dr8cuNrd\nX2ywnxK/iEgC3N2a+tptjuTjUP+As4D7zOxGgmmaA4GXGu4QT5AiIpKYZEooe5vZEuBY4O9m9iSA\nuy8EpgELgSeBwZ7s1wUREUlI0tM1IiKSvUKtXzezP5vZ22b2LzN7xMx2CzOepjKz02ILvd4zs1Fh\nxxMPM+tkZnNiC9neNLOhYccULzNrZmavmVk8J/+zgpm1MbOHY//uF5rZsWHHFI/YQse3zOwNM7vP\nzFqEHdO2mNkdZlZtZm/Ue6ydmVWa2SIzm21mbcKMcVu2En9ceTPsRUqzgUPc/YfAIuCKkOPZLjNr\nBtxMsNDrYODnZvaDcKOKywZghLsfQjDVdlmOxQ8wjGA6MBe/hk4AnnD3HwCHAm+HHE+TmVkX4GLg\nCHfvBjQD+ocZUxPcSfB/tb7RQKW7HwQ8HbufrRqLP668GWqSd/dKd6+N3X0R2DfMeJqoO/C+uy92\n9w3AAwQLwHKCuy939wWx22sIksze4UbVdGa2L/Bj4Ha2POGf9WIjrh7ufgeAu2909y9CDiseXxIM\nElqaWXOgJbAs3JC2zd3/AXze4OESoCx2uww4O6NBxaGx+OPNm2GP5OsbCDwRdhBNsA+wpN79nF3s\nFRuZHU7wDyVXjAcuB2q398IstB/wqZndaWavmtnfzKxl2EE1lbuvAsYBHwP/AVa7+1PhRpWQ9u5e\nHbtdDbQPM5gkbTdvpj3Jx+a+3mhk+0m911wFrHf3+9IdTwrk4hTBd5hZa+BhYFhsRJ/1zOxMYIW7\nv0aOjeJjmgNHAJPc/Qjga7J7qmALZnYAMBzoQvDtr7WZnRNqUEmKVf7l5P/ppubNVNXJb5W7F23r\neTM7n+CQ/YF6AAABiklEQVTr9ynpjiVFlgGd6t3vxJZtHLKeme0ITAfucfeZYccTh+OBEjP7MbAz\nsKuZTXX380KOq6mWAkvd/eXY/YfJoSQPHAXMc/eVAGb2CMHfyb2hRhW/ajPr4O7LzawjsCLsgOIV\nT94Mu7rmNIKv3me5+7owY4nDfOBAM+tiZjsRdNycFXJMTWZmBkwBFrp7adjxxMPdr3T3Tu6+H8EJ\nv2dyKMHj7suBJWZ2UOyhU4G3QgwpXu8Ax5pZQezf0akEJ8BzzSxgQOz2ACCXBjpx581Q6+TN7D1g\nJ2BV7KHn3X1waAE1kZmdDpQSVBdMcffrQg6pyczsRIL20K/z7dfUK9y9PLyo4mdmPQnaaZSEHUs8\nzOyHBCeNdwI+AC7IpZOvZvY7gsRYC7wKXBQrQMhKZnY/0BPYg2D+/f+ARwkWbH4PWAz0c/fVYcW4\nLY3EfzVBNU2T86YWQ4mIRFg2VdeIiEiKKcmLiESYkryISIQpyYuIRJiSvIhIhCnJi4hEmJK8iEiE\nKcmLiETY/wc/Nyw93H9n4wAAAABJRU5ErkJggg==\n",
      "text/plain": [
       "<matplotlib.figure.Figure at 0x7f5f518d7590>"
      ]
     },
     "metadata": {},
     "output_type": "display_data"
    }
   ],
   "source": [
    "plt.plot(xs, f(xs), '--')\n",
    "plt.scatter(X, y)\n",
    "plt.plot(xs, h_best(xs), 'r');"
   ]
  },
  {
   "cell_type": "code",
   "execution_count": 15,
   "metadata": {
    "collapsed": false
   },
   "outputs": [
    {
     "data": {
      "text/plain": [
       "892.91671935457725"
      ]
     },
     "execution_count": 15,
     "metadata": {},
     "output_type": "execute_result"
    }
   ],
   "source": [
    "error(h_best, X, y)"
   ]